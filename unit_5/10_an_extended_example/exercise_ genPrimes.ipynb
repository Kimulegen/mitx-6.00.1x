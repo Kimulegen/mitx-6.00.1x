{
 "cells": [
  {
   "cell_type": "markdown",
   "metadata": {},
   "source": [
    "Write a generator, `genPrimes`, that returns the sequence of prime numbers on successive calls to its `next()` method: 2, 3, 5, 7, 11, ...\n",
    "\n",
    "**Hints**\n",
    "Ideas about the problem\n",
    "\n",
    "Have the generator keep a list of the primes it's generated. A candidate number `x` is prime if `(x % p) != 0` for all earlier primes `p`."
   ]
  },
  {
   "cell_type": "code",
   "execution_count": null,
   "metadata": {},
   "outputs": [],
   "source": [
    "def genPrimes():\n",
    "    primes = []\n",
    "    i = 2\n",
    "    while True:\n",
    "        isPrime = True\n",
    "        for prime in primes:\n",
    "            if i % prime == 0:\n",
    "                isPrime = False\n",
    "                break\n",
    "                \n",
    "        if isPrime:\n",
    "            primes.append(i)\n",
    "            yield i\n",
    "        i+=1"
   ]
  }
 ],
 "metadata": {
  "language_info": {
   "name": "python"
  }
 },
 "nbformat": 4,
 "nbformat_minor": 2
}
