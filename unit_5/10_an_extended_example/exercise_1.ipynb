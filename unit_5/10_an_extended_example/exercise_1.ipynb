{
 "cells": [
  {
   "cell_type": "markdown",
   "id": "17cb51d1-1980-4101-86c3-dafd0db4b90f",
   "metadata": {},
   "source": [
    "This problem will ask some questions about the previous problem. You will want to refer to the `Hand` class from hand.py."
   ]
  },
  {
   "cell_type": "markdown",
   "id": "6531200c-50a4-4c6a-8cd1-872af2aaf950",
   "metadata": {},
   "source": [
    "1. There are two ways to write the Hand.update method: you could write this method in a way that gets rid of the key letter in the attribute hand dictionary when the frequency of the letter falls to 0, or write it in a way that leaves the key letter in the attribute hand dictionary even when the frequency of the letter falls to 0.\n",
    "\n",
    "    Will the two different implementations of the Hand.update method lead to Hand objects having different hand internal attributes?\n",
    "\n",
    "<div style=\"margin-top:20px\">\n",
    "    <fieldset style=\"margin:10px 0;padding:8px\">\n",
    "        <input type=\"radio\"/> Yes, always\n",
    "    </fieldset>\n",
    "    <fieldset style=\"margin:10px 0;padding:8px\">\n",
    "        <input type=\"radio\" checked/> Yes, depending on what happened during the <code>update</code> call\n",
    "    </fieldset>\n",
    "    <fieldset style=\"margin:10px 0;padding:8px\">\n",
    "        <input type=\"radio\"/> No\n",
    "    </fieldset>\n",
    "</div>"
   ]
  },
  {
   "cell_type": "markdown",
   "id": "556bb0cd-d35e-4634-9946-785ad6e29b6a",
   "metadata": {},
   "source": [
    "2. There are two ways to write the Hand.update method: you could write this method in a way that gets rid of the key letter in the attribute hand dictionary when the frequency of the letter falls to 0, or write it in a way that leaves the key letter in the attribute hand dictionary even when the frequency of the letter falls to 0.\n",
    "    \n",
    "Does the calculateLen method, as defined, return different values for the two different implementations of the update metho\n",
    "\n",
    "<div style=\"margin-top:20px\">\n",
    "    <fieldset style=\"margin:10px 0;padding:8px\">\n",
    "        <input type=\"radio\"/> Yes, always\n",
    "    </fieldset>\n",
    "    <fieldset style=\"margin:10px 0;padding:8px\">\n",
    "        <input type=\"radio\"/> Yes, depending on what happened during the <code>update</code> call\n",
    "    </fieldset>\n",
    "    <fieldset style=\"margin:10px 0;padding:8px\">\n",
    "        <input type=\"radio\" checked/> No\n",
    "    </fieldset>\n",
    "</div>"
   ]
  }
 ],
 "metadata": {
  "kernelspec": {
   "display_name": "Python 3 (ipykernel)",
   "language": "python",
   "name": "python3"
  },
  "language_info": {
   "codemirror_mode": {
    "name": "ipython",
    "version": 3
   },
   "file_extension": ".py",
   "mimetype": "text/x-python",
   "name": "python",
   "nbconvert_exporter": "python",
   "pygments_lexer": "ipython3",
   "version": "3.11.7"
  }
 },
 "nbformat": 4,
 "nbformat_minor": 5
}
