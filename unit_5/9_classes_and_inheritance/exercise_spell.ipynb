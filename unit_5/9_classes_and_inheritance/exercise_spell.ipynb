{
 "cells": [
  {
   "cell_type": "markdown",
   "id": "78c0e505-c33e-461b-b079-0aec23a65ae6",
   "metadata": {},
   "source": [
    "Consider the following code:"
   ]
  },
  {
   "cell_type": "code",
   "execution_count": null,
   "id": "762728d7-c953-4c47-ac05-d49c771eb935",
   "metadata": {},
   "outputs": [],
   "source": [
    "class Spell(object):\n",
    "    def __init__(self, incantation, name):\n",
    "        self.name = name\n",
    "        self.incantation = incantation\n",
    "\n",
    "    def __str__(self):\n",
    "        return self.name + ' ' + self.incantation + '\\n' + self.getDescription()\n",
    "              \n",
    "    def getDescription(self):\n",
    "        return 'No description'\n",
    "    \n",
    "    def execute(self):\n",
    "        print(self.incantation)\n",
    "\n",
    "\n",
    "class Accio(Spell):\n",
    "    def __init__(self):\n",
    "        Spell.__init__(self, 'Accio', 'Summoning Charm')\n",
    "\n",
    "class Confundo(Spell):\n",
    "    def __init__(self):\n",
    "        Spell.__init__(self, 'Confundo', 'Confundus Charm')\n",
    "\n",
    "    def getDescription(self):\n",
    "        return 'Causes the victim to become confused and befuddled.'\n",
    "\n",
    "def studySpell(spell):\n",
    "    print(spell)\n",
    "\n",
    "spell = Accio()\n",
    "spell.execute()\n",
    "studySpell(spell)\n",
    "studySpell(Confundo())"
   ]
  },
  {
   "cell_type": "markdown",
   "id": "c2153473-2a54-458b-a21a-fad4621cd601",
   "metadata": {},
   "source": [
    "1. What are the parent class(es)? Note that the term \"parent class\" is interchangable with the term \"superclass\".\n",
    "\n",
    "<div style=\"margin-top:20px\">\n",
    "    <fieldset style=\"margin:10px 0;padding:8px\">\n",
    "        <input type=\"checkbox\" checked />\n",
    "        <code>Spell</code>\n",
    "    </fieldset>\n",
    "    <fieldset style=\"margin:10px 0;padding:8px\">\n",
    "        <input type=\"checkbox\"/> \n",
    "        <code>Accio</code>\n",
    "    </fieldset>\n",
    "    <fieldset style=\"margin:10px 0;padding:8px\">\n",
    "        <input type=\"checkbox\"/> \n",
    "        <code>Confundo</code>\n",
    "    </fieldset>\n",
    "</div>"
   ]
  },
  {
   "cell_type": "markdown",
   "id": "66bc9029-06f3-4040-9461-17cfb84c0ce1",
   "metadata": {},
   "source": [
    "2. What are the child class(es)? Note that the term \"child class\" is interchangable with the term \"subclass\".\n",
    "\n",
    "<div style=\"margin-top:20px\">\n",
    "    <fieldset style=\"margin:10px 0;padding:8px\">\n",
    "        <input type=\"checkbox\"/>\n",
    "        <code>Spell</code>\n",
    "    </fieldset>\n",
    "    <fieldset style=\"margin:10px 0;padding:8px\">\n",
    "        <input type=\"checkbox\" checked/> \n",
    "        <code>Accio</code>\n",
    "    </fieldset>\n",
    "    <fieldset style=\"margin:10px 0;padding:8px\">\n",
    "        <input type=\"checkbox\" checked/> \n",
    "        <code>Confundo</code>\n",
    "    </fieldset>\n",
    "</div>"
   ]
  },
  {
   "cell_type": "markdown",
   "id": "9a73a2b8-9127-4f8b-ad3b-48a13427e482",
   "metadata": {},
   "source": [
    "3. What does the code print out? Try figuring it out in your head before you try running it in Python.\n",
    "\n",
    "\r\n",
    "<div style=\"margin-left:25px\">\n",
    "\n",
    "Hint: This code prints out 5 lines. Enter each line that is printed out in its own box, in sequential order.\n",
    "\n",
    "    \n",
    "1.\n",
    "<div style=\"margin-bottom:20px\">\n",
    "    <input style=\"width:350px;padding:5px\" type=\"text\" placeholder=\"Accio\">\n",
    "</div>\n",
    "\n",
    "2.\n",
    "<div style=\"margin-bottom:20px\">\n",
    "    <input style=\"width:350px;padding:5px\" type=\"text\" placeholder=\"Summoning Charm Accio\">\n",
    "</div>\n",
    "\n",
    "3.\n",
    "<div style=\"margin-bottom:20px\">\n",
    "    <input style=\"width:350px;padding:5px\" type=\"text\" placeholder=\"No description\">\n",
    "</div>\n",
    "\n",
    "4.\n",
    "<div style=\"margin-bottom:20px\">\n",
    "    <input style=\"width:350px;padding:5px\" type=\"text\" placeholder=\"Confundus Charm Confundo\">\n",
    "</div>\n",
    "\n",
    "5.\n",
    "<div style=\"margin-bottom:20px\">\n",
    "    <input style=\"width:350px;padding:5px\" type=\"text\" placeholder=\"Causes the victim to become confused and befuddled.\">\n",
    "</div>\n",
    "</div>\n",
    "\r\n"
   ]
  },
  {
   "cell_type": "markdown",
   "id": "24882a88-7c2b-4b2c-b75e-e5eff63e2e45",
   "metadata": {},
   "source": [
    "4. Which `getDescription` method is called when `studySpell(Confundo())` is executed?\n",
    "\n",
    "<div style=\"margin-top:20px\">\n",
    "    <fieldset style=\"margin:10px 0;padding:8px\">\n",
    "        <input type=\"radio\"  />\n",
    "        The <code>getDescription</code> method defined within the <code>Spell</code> class\n",
    "    </fieldset>\n",
    "    <fieldset style=\"margin:10px 0;padding:8px\">\n",
    "        <input type=\"radio\"/> \n",
    "        The <code>getDescription</code> method defined within the <code>Accio</code> class\n",
    "    </fieldset>\n",
    "    <fieldset style=\"margin:10px 0;padding:8px\">\n",
    "        <input type=\"radio\" checked/> \n",
    "        The <code>getDescription</code> method defined within the <code>Confundo</code> class\n",
    "    </fieldset>\n",
    "</div>"
   ]
  },
  {
   "cell_type": "markdown",
   "id": "3b3593eb-404b-4781-8b55-7cd7726d68bd",
   "metadata": {},
   "source": [
    "5. How do we need to modify `Accio` so that `print(Accio())` will print the following description?\n",
    "\n",
    "```\n",
    "Summoning Charm Accio\n",
    "This charm summons an object to the caster, potentially over a significant distance.\n",
    "```"
   ]
  },
  {
   "cell_type": "code",
   "execution_count": null,
   "id": "4d235872-ad3c-40fa-aac2-ef985ce6890f",
   "metadata": {},
   "outputs": [],
   "source": [
    "class Accio(Spell):\n",
    "    def __init__(self):\n",
    "        Spell.__init__(self, 'Accio', 'Summoning Charm')\n",
    "\n",
    "    def getDescription(self):\n",
    "        return \"This charm summons an object to the caster, potentially over a significant distance.\""
   ]
  }
 ],
 "metadata": {
  "kernelspec": {
   "display_name": "Python 3 (ipykernel)",
   "language": "python",
   "name": "python3"
  },
  "language_info": {
   "codemirror_mode": {
    "name": "ipython",
    "version": 3
   },
   "file_extension": ".py",
   "mimetype": "text/x-python",
   "name": "python",
   "nbconvert_exporter": "python",
   "pygments_lexer": "ipython3",
   "version": "3.11.7"
  }
 },
 "nbformat": 4,
 "nbformat_minor": 5
}
