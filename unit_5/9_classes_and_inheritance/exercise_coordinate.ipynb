{
 "cells": [
  {
   "cell_type": "markdown",
   "id": "8e336284-074b-41b9-8aa6-6bcc3830b7b9",
   "metadata": {},
   "source": [
    "Consider the following code from the last lecture video:"
   ]
  },
  {
   "cell_type": "code",
   "execution_count": 2,
   "id": "bdbf36c9-d0ed-456d-88f5-0a12f2219dbb",
   "metadata": {},
   "outputs": [],
   "source": [
    "class Coordinate(object):\n",
    "    def __init__(self, x, y):\n",
    "        self.x = x\n",
    "        self.y = y\n",
    "\n",
    "    def getX(self):\n",
    "        # Getter method for a Coordinate object's x coordinate.\n",
    "        # Getter methods are better practice than just accessing an attribute directly\n",
    "        return self.x\n",
    "\n",
    "    def getY(self):\n",
    "        # Getter method for a Coordinate object's y coordinate\n",
    "        return self.y\n",
    "\n",
    "    def __str__(self):\n",
    "        return '<' + str(self.getX()) + ',' + str(self.getY()) + '>'"
   ]
  },
  {
   "cell_type": "markdown",
   "id": "2b4b8e35-ed9c-4c14-a06b-bc4df0a20514",
   "metadata": {},
   "source": [
    "Your task is to define the following two methods for the Coordinate class:\n",
    "\n",
    "1. Add an `__eq__` method that returns True if coordinates refer to same point in the plane (i.e., have the same x and y coordinate).\n",
    "\n",
    "2. Define `__repr__`, a special method that returns a string that looks like a valid Python expression that could be used to recreate an object with the same value. In other words, `eval(repr(c)) == c` given the definition of `__eq__` from part 1.\n",
    "\n",
    "For more on `__repr__`, see [this SO post](http://stackoverflow.com/questions/452300/python-object-repr-self-should-be-an-expression)."
   ]
  },
  {
   "cell_type": "code",
   "execution_count": null,
   "id": "5d8a0d51-aa40-486a-840e-e01936909169",
   "metadata": {},
   "outputs": [],
   "source": [
    "class Coordinate(object):\n",
    "    def __init__(self,x,y):\n",
    "        self.x = x\n",
    "        self.y = y\n",
    "\n",
    "    def getX(self):\n",
    "        # Getter method for a Coordinate object's x coordinate.\n",
    "        # Getter methods are better practice than just accessing an attribute directly\n",
    "        return self.x\n",
    "\n",
    "    def getY(self):\n",
    "        # Getter method for a Coordinate object's y coordinate\n",
    "        return self.y\n",
    "\n",
    "    def __str__(self):\n",
    "        return '<' + str(self.getX()) + ',' + str(self.getY()) + '>'\n",
    "\n",
    "    def __eq__(self, other):\n",
    "        if self.x == other.x and self.y == other.y:\n",
    "            return True\n",
    "        return False\n",
    "\n",
    "    def __repr__(self):\n",
    "        return \"Coordinate(%d,%d)\" % (self.x, self.y)\n",
    "        \n"
   ]
  }
 ],
 "metadata": {
  "kernelspec": {
   "display_name": "Python 3 (ipykernel)",
   "language": "python",
   "name": "python3"
  },
  "language_info": {
   "codemirror_mode": {
    "name": "ipython",
    "version": 3
   },
   "file_extension": ".py",
   "mimetype": "text/x-python",
   "name": "python",
   "nbconvert_exporter": "python",
   "pygments_lexer": "ipython3",
   "version": "3.11.7"
  }
 },
 "nbformat": 4,
 "nbformat_minor": 5
}
