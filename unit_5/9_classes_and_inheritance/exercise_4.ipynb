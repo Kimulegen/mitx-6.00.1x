{
 "cells": [
  {
   "cell_type": "markdown",
   "id": "d4071843-289f-4f91-8a41-2ac21c83c7de",
   "metadata": {},
   "source": [
    "Python supports a limited form of multiple inheritance, demonstrated in the following code:"
   ]
  },
  {
   "cell_type": "code",
   "execution_count": 2,
   "id": "b0923be0-b06f-406f-829b-e28a965a7416",
   "metadata": {},
   "outputs": [],
   "source": [
    "class A(object):\n",
    "    def __init__(self):\n",
    "        self.a = 1\n",
    "    def x(self):\n",
    "        print(\"A.x\")\n",
    "    def y(self):\n",
    "        print(\"A.y\")\n",
    "    def z(self):\n",
    "        print(\"A.z\")\n",
    "\n",
    "class B(A):\n",
    "    def __init__(self):\n",
    "        A.__init__(self)\n",
    "        self.a = 2\n",
    "        self.b = 3\n",
    "    def y(self):\n",
    "        print(\"B.y\")\n",
    "    def z(self):\n",
    "        print(\"B.z\")\n",
    "\n",
    "class C(object):\n",
    "    def __init__(self):\n",
    "        self.a = 4\n",
    "        self.c = 5\n",
    "    def y(self):\n",
    "        print(\"C.y\")\n",
    "    def z(self):\n",
    "        print(\"C.z\")\n",
    "\n",
    "class D(C, B):\n",
    "    def __init__(self):\n",
    "        C.__init__(self)\n",
    "        B.__init__(self)\n",
    "        self.d = 6\n",
    "    def z(self):\n",
    "        print(\"D.z\")"
   ]
  },
  {
   "cell_type": "markdown",
   "id": "cfca59ee-46dd-47f7-bf5a-0aecd2a9776b",
   "metadata": {},
   "source": [
    "Which `__init__` methods are invoked and in which order is determined by the coding of the individual `__init__` methods.\r\n",
    "\r\n",
    "When resolving a reference to an attribute of an object that's an instance of clas`s` D, Python first searches the object's instance variables then uses a simple left-to-right, depth first search through the class hierarchy. In this case that would mean searching the clas`s` C, followed the clas`s` B and its superclasses (ie, clas`s` A, and then any superclasses it may have, et cetera).\r\n",
    "\r\n",
    "With the definitions above if we define"
   ]
  },
  {
   "cell_type": "code",
   "execution_count": 5,
   "id": "3811e64e-5098-45fb-af3f-e715ae30f706",
   "metadata": {},
   "outputs": [],
   "source": [
    "obj = D()"
   ]
  },
  {
   "cell_type": "markdown",
   "id": "661b3d5a-2d11-45fe-aab9-f8b78d52b8e5",
   "metadata": {},
   "source": [
    "then what is printed by each of the following statements?"
   ]
  },
  {
   "cell_type": "markdown",
   "id": "4c2b4068-9de0-471a-af9d-5fc0bb1fd4ea",
   "metadata": {},
   "source": [
    "1. `print(obj.a)`\n",
    "<div>\n",
    "    <input type=\"text\" placeholder=\"2\">\n",
    "</div>"
   ]
  },
  {
   "cell_type": "markdown",
   "id": "6d35197c-ce88-4a63-9ea0-c5551b9a841f",
   "metadata": {},
   "source": [
    "2. `print(obj.b)`\n",
    "<div>\n",
    "    <input type=\"text\" placeholder=\"3\">\n",
    "</div>"
   ]
  },
  {
   "cell_type": "markdown",
   "id": "a709fc58-676b-4e60-b5bb-dc1236f90da9",
   "metadata": {},
   "source": [
    "3. `print(obj.c)`\n",
    "<div>\n",
    "    <input type=\"text\" placeholder=\"5\">\n",
    "</div>"
   ]
  },
  {
   "cell_type": "markdown",
   "id": "b6885e09-9645-416d-8dc6-449124558dee",
   "metadata": {},
   "source": [
    "4. `print(obj.d)`\n",
    "<div>\n",
    "    <input type=\"text\" placeholder=\"6\">\n",
    "</div>"
   ]
  },
  {
   "cell_type": "markdown",
   "id": "c51b2310-7cbf-47ca-8dae-4780634247c3",
   "metadata": {},
   "source": [
    "5. `obj.x()`\n",
    "<div>\n",
    "    <input type=\"text\" placeholder=\"A.x\">\n",
    "</div>"
   ]
  },
  {
   "cell_type": "markdown",
   "id": "04f1873a-733e-4e75-b83d-e2b7126b9975",
   "metadata": {},
   "source": [
    "6. `obj.y()`\n",
    "<div>\n",
    "    <input type=\"text\" placeholder=\"C.y\">\n",
    "</div>"
   ]
  },
  {
   "cell_type": "markdown",
   "id": "1fff8c2a-3f63-423c-bb0c-2408a96e5445",
   "metadata": {},
   "source": [
    "7. `obj.z()`\n",
    "<div>\n",
    "    <input type=\"text\" placeholder=\"D.z\">\n",
    "</div>"
   ]
  }
 ],
 "metadata": {
  "kernelspec": {
   "display_name": "Python 3 (ipykernel)",
   "language": "python",
   "name": "python3"
  },
  "language_info": {
   "codemirror_mode": {
    "name": "ipython",
    "version": 3
   },
   "file_extension": ".py",
   "mimetype": "text/x-python",
   "name": "python",
   "nbconvert_exporter": "python",
   "pygments_lexer": "ipython3",
   "version": "3.11.7"
  }
 },
 "nbformat": 4,
 "nbformat_minor": 5
}
