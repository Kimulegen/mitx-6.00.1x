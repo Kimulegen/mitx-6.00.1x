{
 "cells": [
  {
   "cell_type": "markdown",
   "id": "897d501a-17b4-4e84-b34e-cd12dd6c6473",
   "metadata": {},
   "source": [
    "Below is a transcript of a session with the Python shell. Provide the type and value of the expressions being evaluated inside the `print`. If evaluating an expression would cause an `error`, select NoneType and write error in the box. If the result is a function, select function and write `function` in the box. As always, try to do this problem by hand before turning to your interpreter for help.\n",
    "\n",
    "Assume the following definitions have been made:"
   ]
  },
  {
   "cell_type": "code",
   "execution_count": 6,
   "id": "3dc6ad60-bf1b-451a-97b5-f4bf535bb4b6",
   "metadata": {},
   "outputs": [],
   "source": [
    "class Weird(object):\n",
    "    def __init__(self, x, y): \n",
    "        self.y = y\n",
    "        self.x = x\n",
    "    def getX(self):\n",
    "        return x \n",
    "    def getY(self):\n",
    "        return y\n",
    "\n",
    "class Wild(object):\n",
    "    def __init__(self, x, y): \n",
    "        self.y = y\n",
    "        self.x = x\n",
    "    def getX(self):\n",
    "        return self.x \n",
    "    def getY(self):\n",
    "        return self.y\n",
    "\n",
    "X = 7\n",
    "Y = 8"
   ]
  },
  {
   "cell_type": "code",
   "execution_count": null,
   "id": "ca698039-c715-4118-a324-251d088ca627",
   "metadata": {},
   "outputs": [],
   "source": [
    "w1 = Weird(X, Y)\n",
    "print(w1.getX())"
   ]
  },
  {
   "cell_type": "markdown",
   "id": "3228982e-7e67-4319-af95-57f691b0b681",
   "metadata": {},
   "source": [
    "<div>\n",
    "    <input type=\"text\" placeholder=\"NoneType\" style=\"display:block\">\n",
    "    <input type=\"text\" placeholder=\"error\" style=\"display:block\">\n",
    "</div>"
   ]
  },
  {
   "cell_type": "markdown",
   "id": "a59b50a4-dead-4dcd-82c0-25d49b5fe041",
   "metadata": {},
   "source": [
    "---"
   ]
  },
  {
   "cell_type": "code",
   "execution_count": null,
   "id": "29b082c8-98b5-4ba9-8c2f-df05f6b3d191",
   "metadata": {},
   "outputs": [],
   "source": [
    "print(w1.getY())"
   ]
  },
  {
   "cell_type": "markdown",
   "id": "ed0f118d-cab9-40cc-9db2-986f18e2ec97",
   "metadata": {},
   "source": [
    "<div>\n",
    "    <input type=\"text\" placeholder=\"NoneType\" style=\"display:block\">\n",
    "    <input type=\"text\" placeholder=\"error\" style=\"display:block\">\n",
    "</div>"
   ]
  },
  {
   "cell_type": "markdown",
   "id": "f5f4257b-16cc-4f61-b60d-00788611f2f1",
   "metadata": {},
   "source": [
    "---"
   ]
  },
  {
   "cell_type": "code",
   "execution_count": null,
   "id": "45005c5f-5999-4aa9-9753-f724cc95017a",
   "metadata": {},
   "outputs": [],
   "source": [
    "w2 = Wild(X, Y)\n",
    "print(w2.getX())"
   ]
  },
  {
   "cell_type": "markdown",
   "id": "84be176f-086d-4bce-a43d-6ee1af779654",
   "metadata": {},
   "source": [
    "<div>\n",
    "    <input type=\"text\" placeholder=\"int\" style=\"display:block\">\n",
    "    <input type=\"text\" placeholder=\"7\" style=\"display:block\">\n",
    "</div>"
   ]
  },
  {
   "cell_type": "markdown",
   "id": "11bbade0-3dd0-4464-8297-13e083e89cbc",
   "metadata": {},
   "source": [
    "---"
   ]
  },
  {
   "cell_type": "code",
   "execution_count": null,
   "id": "c9612056-4c1d-499f-bce2-8c89c94b40c4",
   "metadata": {},
   "outputs": [],
   "source": [
    "print(w2.getY())"
   ]
  },
  {
   "cell_type": "markdown",
   "id": "46bf9fe1-5956-4341-8abf-c389faa60b9e",
   "metadata": {},
   "source": [
    "<div>\n",
    "    <input type=\"text\" placeholder=\"int\" style=\"display:block\">\n",
    "    <input type=\"text\" placeholder=\"8\" style=\"display:block\">\n",
    "</div>"
   ]
  },
  {
   "cell_type": "markdown",
   "id": "bae375fc-0f4e-475b-bf02-223d6201fd1e",
   "metadata": {},
   "source": [
    "---"
   ]
  },
  {
   "cell_type": "code",
   "execution_count": null,
   "id": "fd0ec12e-af77-4b3c-9912-da91e18ac560",
   "metadata": {},
   "outputs": [],
   "source": [
    "w3 = Wild(17, 18)\n",
    "print(w3.getX())"
   ]
  },
  {
   "cell_type": "markdown",
   "id": "a039b268-4c91-47a3-9f44-9653a2945507",
   "metadata": {},
   "source": [
    "<div>\n",
    "    <input type=\"text\" placeholder=\"int\" style=\"display:block\">\n",
    "    <input type=\"text\" placeholder=\"17\" style=\"display:block\">\n",
    "</div>"
   ]
  },
  {
   "cell_type": "markdown",
   "id": "123eb5d8-7945-4654-846e-1c73918afdd6",
   "metadata": {},
   "source": [
    "---"
   ]
  },
  {
   "cell_type": "code",
   "execution_count": null,
   "id": "c225cb29-14c1-45e1-8bb3-06dfbf2e19cc",
   "metadata": {},
   "outputs": [],
   "source": [
    "print(w3.getY())"
   ]
  },
  {
   "cell_type": "markdown",
   "id": "c427e76d-1a6e-4835-b976-3b82f19b8fbd",
   "metadata": {},
   "source": [
    "<div>\n",
    "    <input type=\"text\" placeholder=\"int\" style=\"display:block\">\n",
    "    <input type=\"text\" placeholder=\"18\" style=\"display:block\">\n",
    "</div>"
   ]
  },
  {
   "cell_type": "markdown",
   "id": "48c5352a-507e-45be-ae3e-c0b8d0a7003a",
   "metadata": {},
   "source": [
    "---"
   ]
  },
  {
   "cell_type": "code",
   "execution_count": null,
   "id": "281f4f2e-0d14-4591-aa50-c525cf6acae1",
   "metadata": {},
   "outputs": [],
   "source": [
    "w4 = Wild(X, 18)\n",
    "print(w4.getX())"
   ]
  },
  {
   "cell_type": "markdown",
   "id": "556c9761-da62-4c97-87bd-0ed4dfa6a506",
   "metadata": {},
   "source": [
    "<div>\n",
    "    <input type=\"text\" placeholder=\"int\" style=\"display:block\">\n",
    "    <input type=\"text\" placeholder=\"7\" style=\"display:block\">\n",
    "</div>"
   ]
  },
  {
   "cell_type": "markdown",
   "id": "6f99e0ac-1e95-4ce7-8e33-b75eba25dc04",
   "metadata": {},
   "source": [
    "---"
   ]
  },
  {
   "cell_type": "code",
   "execution_count": null,
   "id": "0f3d83f7-8fc3-4ee2-ba9a-86d8bcf2349a",
   "metadata": {},
   "outputs": [],
   "source": [
    "print(w4.getY())"
   ]
  },
  {
   "cell_type": "markdown",
   "id": "94d49064-b13e-4ad5-8bbe-824881e30b55",
   "metadata": {},
   "source": [
    "<div>\n",
    "    <input type=\"text\" placeholder=\"int\" style=\"display:block\">\n",
    "    <input type=\"text\" placeholder=\"18\" style=\"display:block\">\n",
    "</div>"
   ]
  },
  {
   "cell_type": "markdown",
   "id": "df099f2e-183c-4ea0-bacc-62fe10c18dd4",
   "metadata": {},
   "source": [
    "---"
   ]
  },
  {
   "cell_type": "code",
   "execution_count": null,
   "id": "f9187d89-0b25-4e15-9e38-b7288042baf4",
   "metadata": {},
   "outputs": [],
   "source": [
    "X = w4.getX() + w3.getX() + w2.getX()\n",
    "print(X)"
   ]
  },
  {
   "cell_type": "markdown",
   "id": "42057bd0-2315-43bf-9417-d65243600387",
   "metadata": {},
   "source": [
    "<div>\n",
    "    <input type=\"text\" placeholder=\"int\" style=\"display:block\">\n",
    "    <input type=\"text\" placeholder=\"31\" style=\"display:block\">\n",
    "</div>"
   ]
  },
  {
   "cell_type": "markdown",
   "id": "85abe3a5-bcd1-4a9d-938c-22d05cdeaa24",
   "metadata": {},
   "source": [
    "---"
   ]
  },
  {
   "cell_type": "code",
   "execution_count": null,
   "id": "6af0a74c-6869-4629-b200-4fa9bd334100",
   "metadata": {},
   "outputs": [],
   "source": [
    "print(w4.getX())"
   ]
  },
  {
   "cell_type": "markdown",
   "id": "51debf7c-4d05-4fc6-b82b-618bf89556ab",
   "metadata": {},
   "source": [
    "<div>\n",
    "    <input type=\"text\" placeholder=\"int\" style=\"display:block\">\n",
    "    <input type=\"text\" placeholder=\"7\" style=\"display:block\">\n",
    "</div>"
   ]
  },
  {
   "cell_type": "markdown",
   "id": "566fce30-a7dc-4d06-b1ea-3717331aa3cf",
   "metadata": {},
   "source": [
    "---"
   ]
  },
  {
   "cell_type": "code",
   "execution_count": null,
   "id": "234bb541-4321-4a12-87fa-a3a275bfe4c1",
   "metadata": {},
   "outputs": [],
   "source": [
    "Y = w4.getY() + w3.getY()\n",
    "Y = Y + w2.getY()\n",
    "print(Y)"
   ]
  },
  {
   "cell_type": "markdown",
   "id": "ab7a6876-07db-4ec4-8528-30cf1e0ba1bc",
   "metadata": {},
   "source": [
    "<div>\n",
    "    <input type=\"text\" placeholder=\"int\" style=\"display:block\">\n",
    "    <input type=\"text\" placeholder=\"44\" style=\"display:block\">\n",
    "</div>"
   ]
  },
  {
   "cell_type": "markdown",
   "id": "50e662d1-542a-4ed1-bf48-1debee34332c",
   "metadata": {},
   "source": [
    "---"
   ]
  },
  {
   "cell_type": "code",
   "execution_count": null,
   "id": "5c8d469b-e557-415f-b562-08adf1fa91f6",
   "metadata": {},
   "outputs": [],
   "source": [
    "print(w2.getY())"
   ]
  },
  {
   "cell_type": "markdown",
   "id": "2725a026-8465-43d8-99af-b4cdbfcbf1e9",
   "metadata": {},
   "source": [
    "<div>\n",
    "    <input type=\"text\" placeholder=\"int\" style=\"display:block\">\n",
    "    <input type=\"text\" placeholder=\"8\" style=\"display:block\">\n",
    "</div>"
   ]
  }
 ],
 "metadata": {
  "kernelspec": {
   "display_name": "Python 3 (ipykernel)",
   "language": "python",
   "name": "python3"
  },
  "language_info": {
   "codemirror_mode": {
    "name": "ipython",
    "version": 3
   },
   "file_extension": ".py",
   "mimetype": "text/x-python",
   "name": "python",
   "nbconvert_exporter": "python",
   "pygments_lexer": "ipython3",
   "version": "3.11.7"
  }
 },
 "nbformat": 4,
 "nbformat_minor": 5
}
