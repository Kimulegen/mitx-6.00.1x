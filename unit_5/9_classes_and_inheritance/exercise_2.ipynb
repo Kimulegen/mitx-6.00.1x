{
 "cells": [
  {
   "cell_type": "markdown",
   "id": "dc5b0426-1328-4c5f-b2d5-628f769fe590",
   "metadata": {},
   "source": [
    "1. Consider the following code:\r\n"
   ]
  },
  {
   "cell_type": "code",
   "execution_count": 4,
   "id": "87f4f359-ef6d-4b9b-9294-baa2fa8b1540",
   "metadata": {},
   "outputs": [
    {
     "name": "stdout",
     "output_type": "stream",
     "text": [
      "5:30\n"
     ]
    }
   ],
   "source": [
    "class Clock(object):\n",
    "    def __init__(self, time):\n",
    "    \tself.time = time\n",
    "    def print_time(self):\n",
    "    \ttime = '6:30'\n",
    "    \tprint(self.time)\n",
    "\n",
    "clock = Clock('5:30')\n",
    "clock.print_time()"
   ]
  },
  {
   "cell_type": "markdown",
   "id": "9faa98c7-aa86-4600-8707-4df34221a197",
   "metadata": {},
   "source": [
    "What does the code print out? If you aren't sure, create a Python file and run it.\n",
    "\n",
    "<div>\n",
    "    <input padding:5px\" type=\"text\" placeholder=\"5:30\">\n",
    "</div>\r\n",
    "\r\n"
   ]
  },
  {
   "cell_type": "markdown",
   "id": "adb76ec4-afa6-4a14-bdcb-f6a54ab01420",
   "metadata": {},
   "source": [
    "---"
   ]
  },
  {
   "cell_type": "markdown",
   "id": "7fb91dd6-94a6-4afa-9cdf-8fb632eea186",
   "metadata": {},
   "source": [
    "1. Consider the following code:\r\n"
   ]
  },
  {
   "cell_type": "code",
   "execution_count": 10,
   "id": "ac190728-4c6c-4cde-85f9-230efc99767e",
   "metadata": {},
   "outputs": [
    {
     "name": "stdout",
     "output_type": "stream",
     "text": [
      "10:30\n"
     ]
    }
   ],
   "source": [
    "class Clock(object):\n",
    "    def __init__(self, time):\n",
    "    \tself.time = time\n",
    "    def print_time(self, time):\n",
    "    \tprint(time)\n",
    "    \n",
    "clock = Clock('5:30')\n",
    "clock.print_time('10:30')"
   ]
  },
  {
   "cell_type": "markdown",
   "id": "a74ad0f7-544d-4f71-a30d-0ac05c43e633",
   "metadata": {},
   "source": [
    "What does the code print out? If you aren't sure, create a Python file and run it.\n",
    "\n",
    "<div>\n",
    "    <input padding:5px\" type=\"text\" placeholder=\"10:30\">\n",
    "</div>\r\n",
    "\r\n"
   ]
  },
  {
   "cell_type": "markdown",
   "id": "c7ecb5c2-42a8-4eaf-9f7d-9a4c8d19609d",
   "metadata": {},
   "source": [
    "---"
   ]
  },
  {
   "cell_type": "markdown",
   "id": "28d128c1-5f46-407c-baef-1c220e6b44ef",
   "metadata": {},
   "source": [
    "1. Consider the following code:\r\n"
   ]
  },
  {
   "cell_type": "code",
   "execution_count": 8,
   "id": "0378ccdb-9df5-4843-ab89-881088a29844",
   "metadata": {},
   "outputs": [
    {
     "name": "stdout",
     "output_type": "stream",
     "text": [
      "10:30\n"
     ]
    }
   ],
   "source": [
    "class Clock(object):\n",
    "    def __init__(self, time):\n",
    "        self.time = time\n",
    "    def print_time(self):\n",
    "        print(self.time)\n",
    "\n",
    "boston_clock = Clock('5:30')\n",
    "paris_clock = boston_clock\n",
    "paris_clock.time = '10:30'\n",
    "boston_clock.print_time()"
   ]
  },
  {
   "cell_type": "markdown",
   "id": "0e0cc282-55c3-43cc-93db-5e012c3faa8a",
   "metadata": {},
   "source": [
    "What does the code print out? If you aren't sure, create a Python file and run it.\n",
    "\n",
    "<div>\n",
    "    <input padding:5px\" type=\"text\" placeholder=\"10:30\">\n",
    "</div>\r\n",
    "\r\n"
   ]
  },
  {
   "cell_type": "markdown",
   "id": "949c7c92-d860-46a9-9b7b-9a2c98a90a60",
   "metadata": {},
   "source": [
    "Are `boston_clock` and `paris_clock` different objects?\n",
    "\n",
    "<div style=\"margin-top:20px\">\n",
    "    <fieldset style=\"margin:10px 0;padding:8px\">\n",
    "        <input type=\"radio\"/> Yes\n",
    "    </fieldset>\n",
    "    <fieldset style=\"margin:10px 0;padding:8px\">\n",
    "        <input type=\"radio\" checked/> No\n",
    "    </fieldset>\n",
    "</div>"
   ]
  }
 ],
 "metadata": {
  "kernelspec": {
   "display_name": "Python 3 (ipykernel)",
   "language": "python",
   "name": "python3"
  },
  "language_info": {
   "codemirror_mode": {
    "name": "ipython",
    "version": 3
   },
   "file_extension": ".py",
   "mimetype": "text/x-python",
   "name": "python",
   "nbconvert_exporter": "python",
   "pygments_lexer": "ipython3",
   "version": "3.11.7"
  }
 },
 "nbformat": 4,
 "nbformat_minor": 5
}
