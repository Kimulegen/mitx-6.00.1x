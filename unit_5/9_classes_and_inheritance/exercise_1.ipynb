{
 "cells": [
  {
   "cell_type": "markdown",
   "id": "778ee128-b2de-4325-8aaa-ac10ffcafb44",
   "metadata": {},
   "source": [
    "1. What method is called when an object is created?\n",
    "<div style=\"margin-top:20px\">\n",
    "    <fieldset style=\"margin:10px 0;padding:8px\">\n",
    "        <input type=\"radio\" />\n",
    "        <code>self</code>\n",
    "    </fieldset>\n",
    "    <fieldset style=\"margin:10px 0;padding:8px\">\n",
    "        <input type=\"radio\"/> \n",
    "        <code>obj.self</code>\n",
    "    </fieldset>\n",
    "    <fieldset style=\"margin:10px 0;padding:8px\">\n",
    "        <input type=\"radio\"/> \n",
    "        <code>init</code>\n",
    "    </fieldset>\n",
    "    <fieldset style=\"margin:10px 0;padding:8px\">\n",
    "        <input type=\"radio\" checked/> \n",
    "        <code>__init__</code>\n",
    "    </fieldset>\n",
    "    <fieldset style=\"margin:10px 0;padding:8px\">\n",
    "        <input type=\"radio\"/> \n",
    "        <code>new</code>\n",
    "    </fieldset>\n",
    "</div>"
   ]
  },
  {
   "cell_type": "markdown",
   "id": "b489e8d2-fb38-430a-b013-ffd440761007",
   "metadata": {},
   "source": [
    "2. If you have an object instance, `obj`, and you want to call its `doSomething()` method (assuming it has one), how would you do this? (write the line of code you would use)\n",
    "<div style=\"margin-top:10px\">\n",
    "    <input type=\"text\" placeholder=\"obj.doSomething()\">\n",
    "</div>"
   ]
  },
  {
   "cell_type": "markdown",
   "id": "b40e3fc9-670d-44a3-98a7-7fefcf935c6a",
   "metadata": {},
   "source": [
    "3. True or False? An object's attributes must be defined in the object's `__init__` method.\n",
    "<div style=\"margin-top:20px\">\n",
    "    <fieldset style=\"margin:10px 0;padding:8px\">\n",
    "        <input type=\"radio\"/> Yes\n",
    "    </fieldset>\n",
    "    <fieldset style=\"margin:10px 0;padding:8px\">\n",
    "        <input type=\"radio\" checked/> No\n",
    "    </fieldset>\n",
    "</div>"
   ]
  },
  {
   "cell_type": "markdown",
   "id": "00b17943-7af4-465e-b742-1856744c710a",
   "metadata": {},
   "source": [
    "The following code starts the definition of a class called Address. The class needs to have two attributes: number and streetName. Please add in the two lines of code that will create these attributes from the appropriate passed in parameters.\n",
    "\n",
    "```python\n",
    "class Address(object):\n",
    "    def __init__(self, number, streetName):\n",
    "        # Line 1: Creating a number attribute\n",
    "        # Line 2: Creating a streetName attribute\n",
    "```"
   ]
  },
  {
   "cell_type": "markdown",
   "id": "f00f1feb-7966-41d5-b578-1dc5f6e5e17a",
   "metadata": {},
   "source": [
    "- What is the correct expression for `# Line 1`?\n",
    "<div style=\"margin-top:10px\">\n",
    "    <input type=\"text\" placeholder=\"self.number = number\">\n",
    "</div>"
   ]
  },
  {
   "cell_type": "markdown",
   "id": "2b214a62-715b-44ac-b526-36553951afb8",
   "metadata": {},
   "source": [
    "- What is the correct expression for `# Line 2`?\n",
    "<div style=\"margin-top: 10px\">\n",
    "    <input type=\"text\" placeholder=\"self.streetName = streetName\">\n",
    "</div>"
   ]
  }
 ],
 "metadata": {
  "kernelspec": {
   "display_name": "Python 3 (ipykernel)",
   "language": "python",
   "name": "python3"
  },
  "language_info": {
   "codemirror_mode": {
    "name": "ipython",
    "version": 3
   },
   "file_extension": ".py",
   "mimetype": "text/x-python",
   "name": "python",
   "nbconvert_exporter": "python",
   "pygments_lexer": "ipython3",
   "version": "3.11.7"
  }
 },
 "nbformat": 4,
 "nbformat_minor": 5
}
