{
 "cells": [
  {
   "cell_type": "markdown",
   "id": "098da405-ef65-4bb7-9891-1b473f314459",
   "metadata": {},
   "source": [
    "Consider the following code from the last lecture video:"
   ]
  },
  {
   "cell_type": "code",
   "execution_count": null,
   "id": "e763bb2a-3b27-4b4b-964c-cd9420df78b4",
   "metadata": {},
   "outputs": [],
   "source": [
    "class intSet(object):\n",
    "    \"\"\"An intSet is a set of integers\n",
    "    The value is represented by a list of ints, self.vals.\n",
    "    Each int in the set occurs in self.vals exactly once.\"\"\"\n",
    "\n",
    "    def __init__(self):\n",
    "        \"\"\"Create an empty set of integers\"\"\"\n",
    "        self.vals = []\n",
    "\n",
    "    def insert(self, e):\n",
    "        \"\"\"Assumes e is an integer and inserts e into self\"\"\" \n",
    "        if not e in self.vals:\n",
    "            self.vals.append(e)\n",
    "\n",
    "    def member(self, e):\n",
    "        \"\"\"Assumes e is an integer\n",
    "           Returns True if e is in self, and False otherwise\"\"\"\n",
    "        return e in self.vals\n",
    "\n",
    "    def remove(self, e):\n",
    "        \"\"\"Assumes e is an integer and removes e from self\n",
    "           Raises ValueError if e is not in self\"\"\"\n",
    "        try:\n",
    "            self.vals.remove(e)\n",
    "        except:\n",
    "            raise ValueError(str(e) + ' not found')\n",
    "\n",
    "    def __str__(self):\n",
    "        \"\"\"Returns a string representation of self\"\"\"\n",
    "        self.vals.sort()\n",
    "        return '{' + ','.join([str(e) for e in self.vals]) + '}'"
   ]
  },
  {
   "cell_type": "markdown",
   "id": "15660553-1e50-4f2a-a3de-843325d149b2",
   "metadata": {},
   "source": [
    "Your task is to define the following two methods for the intSet class:\r\n",
    "1. \r\n",
    "Define  `intersect`ct method that returns a ne`w intS`et containing elements that appear in both sets. In other word\n",
    "   s```python,\r\n",
    "\r\n",
    "s1.intersect\n",
    "```(\n",
    "s2)\r\n",
    "would return a` new i`ntSet of integers that appear in `bo`th s1` a`nd s2. Think carefully - what should happe`n `if s1` a`nd s2 have no elements in comm2. on?\r\n",
    "\r\n",
    "Add the appropriate method(s) s`o that` len(s) returns the number of eleme`nts in s.\r\n",
    "\r\n",
    "Hint: look thr[Python docs](https://docs.python.org/3.3/reference/datamodel.html)thon docs to figure out what you'll need to solve thistSet(object):"
   ]
  },
  {
   "cell_type": "code",
   "execution_count": null,
   "id": "5945f31e-a76a-4edf-bdcf-0498a7fb68b0",
   "metadata": {},
   "outputs": [],
   "source": [
    "class intSet(object):\n",
    "    \"\"\"An intSet is a set of integers\n",
    "    The value is represented by a list of ints, self.vals.\n",
    "    Each int in the set occurs in self.vals exactly once.\"\"\"\n",
    "\n",
    "    def __init__(self):\n",
    "        \"\"\"Create an empty set of integers\"\"\"\n",
    "        self.vals = []\n",
    "\n",
    "    def insert(self, e):\n",
    "        \"\"\"Assumes e is an integer and inserts e into self\"\"\" \n",
    "        if not e in self.vals:\n",
    "            self.vals.append(e)\n",
    "\n",
    "    def member(self, e):\n",
    "        \"\"\"Assumes e is an integer\n",
    "           Returns True if e is in self, and False otherwise\"\"\"\n",
    "        return e in self.vals\n",
    "\n",
    "    def remove(self, e):\n",
    "        \"\"\"Assumes e is an integer and removes e from self\n",
    "           Raises ValueError if e is not in self\"\"\"\n",
    "        try:\n",
    "            self.vals.remove(e)\n",
    "        except:\n",
    "            raise ValueError(str(e) + ' not found')\n",
    "\n",
    "    def __str__(self):\n",
    "        \"\"\"Returns a string representation of self\"\"\"\n",
    "        self.vals.sort()\n",
    "        return '{' + ','.join([str(e) for e in self.vals]) + '}'\n",
    "\n",
    "    def intersect(self, other_set):\n",
    "        inter = intSet()\n",
    "        for integer in self.vals:\n",
    "            if other_set.member(integer):\n",
    "                inter.insert(integer)\n",
    "        return inter\n",
    "\n",
    "    def __len__(self):\n",
    "        return len(self.vals)\n"
   ]
  }
 ],
 "metadata": {
  "kernelspec": {
   "display_name": "Python 3 (ipykernel)",
   "language": "python",
   "name": "python3"
  },
  "language_info": {
   "codemirror_mode": {
    "name": "ipython",
    "version": 3
   },
   "file_extension": ".py",
   "mimetype": "text/x-python",
   "name": "python",
   "nbconvert_exporter": "python",
   "pygments_lexer": "ipython3",
   "version": "3.11.7"
  }
 },
 "nbformat": 4,
 "nbformat_minor": 5
}
