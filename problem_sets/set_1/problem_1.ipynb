{
 "cells": [
  {
   "cell_type": "markdown",
   "id": "77e271d2-8fd2-4a10-932f-1709daf95a56",
   "metadata": {},
   "source": [
    "Assume `s` is a string of lower case characters.\n",
    "\n",
    "Write a program that counts up the number of vowels contained in the string `s`. Valid vowels are: '`a`', '`e`', '`i`', '`o`', and '`u`'. For example, if `s = 'azcbobobegghakl'`, your program should print:\n",
    "\n",
    "```\n",
    "Number of vowels:5\n",
    "```"
   ]
  },
  {
   "cell_type": "code",
   "execution_count": 3,
   "id": "6d2c6f9f-dcf3-4f44-a161-8ce090f21ec1",
   "metadata": {},
   "outputs": [],
   "source": [
    "# init variables\n",
    "s = \"azcbobobegghakl\"\n",
    "vowels = [\"a\", \"e\", \"i\", \"o\", \"u\"]"
   ]
  },
  {
   "cell_type": "code",
   "execution_count": 7,
   "id": "34b98884-741a-4e86-9b0f-1168a501f909",
   "metadata": {},
   "outputs": [],
   "source": [
    "# One solution\n",
    "n_of_vowels = 0\n",
    "\n",
    "for letter in s:\n",
    "    if letter in vowels:\n",
    "        n_of_vowels += 1\n",
    "print(\"Number of vowels:\", n_of_vowels)"
   ]
  },
  {
   "cell_type": "markdown",
   "id": "b69b9020-e63b-401e-a5d2-253523af1a78",
   "metadata": {},
   "source": [
    "---"
   ]
  },
  {
   "cell_type": "code",
   "execution_count": null,
   "id": "8ddd6cfc-8678-4eb9-960e-d46cd7ab305b",
   "metadata": {},
   "outputs": [],
   "source": [
    "# Another solution\n",
    "n_of_vowels = sum(1 for l in s if l in vowels)\n",
    "print(\"Number of vowels:\", n_of_vowels)"
   ]
  }
 ],
 "metadata": {
  "kernelspec": {
   "display_name": "Python 3 (ipykernel)",
   "language": "python",
   "name": "python3"
  },
  "language_info": {
   "codemirror_mode": {
    "name": "ipython",
    "version": 3
   },
   "file_extension": ".py",
   "mimetype": "text/x-python",
   "name": "python",
   "nbconvert_exporter": "python",
   "pygments_lexer": "ipython3",
   "version": "3.11.7"
  }
 },
 "nbformat": 4,
 "nbformat_minor": 5
}
