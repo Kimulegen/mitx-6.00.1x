{
 "cells": [
  {
   "cell_type": "markdown",
   "metadata": {},
   "source": [
    "Assume `s` is a string of lower case characters.\n",
    "\n",
    "Write a program that prints the longest substring of `s` in which the letters occur in alphabetical order. For example, if `s = 'azcbobobegghakl'`, then your program should print\n",
    "\n",
    "```\n",
    "Longest substring in alphabetical order is: beggh\n",
    "```\n",
    "\n",
    "In the case of ties, print the first substring. For example, if `s = 'abcbcd'`, then your program should print\n",
    "\n",
    "```\n",
    "Longest substring in alphabetical order is: abc\n",
    "```\n",
    "\n",
    "Note: This problem may be challenging. We encourage you to work smart. If you've spent more than a few hours on this problem, we suggest that you move on to a different part of the course. If you have time, come back to this problem after you've had a break and cleared your head."
   ]
  },
  {
   "cell_type": "code",
   "execution_count": 1,
   "metadata": {},
   "outputs": [],
   "source": [
    "# initialize variables\n",
    "s1 = 'azcbobobegghakl'\n",
    "s2 = 'abcbcd'"
   ]
  },
  {
   "cell_type": "code",
   "execution_count": 10,
   "metadata": {},
   "outputs": [
    {
     "name": "stdout",
     "output_type": "stream",
     "text": [
      "Longest substring in alphabetical order is: beggh\n"
     ]
    }
   ],
   "source": [
    "longest_substring = \"\"\n",
    "i = 0\n",
    "\n",
    "while i < len(s1):\n",
    "    possible = s1[i]\n",
    "    while i < len(s1) - 1 and ord(s1[i]) <= ord(s1[i + 1]):\n",
    "        possible += s1[i + 1]\n",
    "        i += 1\n",
    "    if len(possible) > len(longest_substring):\n",
    "        longest_substring = possible\n",
    "    i += 1\n",
    "\n",
    "print(\"Longest substring in alphabetical order is:\", longest_substring)"
   ]
  }
 ],
 "metadata": {
  "kernelspec": {
   "display_name": "Python 3",
   "language": "python",
   "name": "python3"
  },
  "language_info": {
   "codemirror_mode": {
    "name": "ipython",
    "version": 3
   },
   "file_extension": ".py",
   "mimetype": "text/x-python",
   "name": "python",
   "nbconvert_exporter": "python",
   "pygments_lexer": "ipython3",
   "version": "3.10.12"
  }
 },
 "nbformat": 4,
 "nbformat_minor": 2
}
