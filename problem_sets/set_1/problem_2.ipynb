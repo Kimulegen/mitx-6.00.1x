{
 "cells": [
  {
   "cell_type": "markdown",
   "id": "b3c429b6-e6ad-4a5e-94ff-7428b31977db",
   "metadata": {},
   "source": [
    "Assume `s` is a string of lower case characters.\n",
    "\n",
    "Write a program that prints the number of times the string `'bob'` occurs in `s`. For example, if `s = 'azcbobobegghakl'`, then your program should pri\n",
    "\n",
    "```\n",
    "Number of times bob occurs is: 2\n",
    "```"
   ]
  },
  {
   "cell_type": "code",
   "execution_count": 1,
   "id": "d92671cd",
   "metadata": {},
   "outputs": [],
   "source": [
    "# inititalize variables\n",
    "s = 'azcbobobegghakl'"
   ]
  },
  {
   "cell_type": "code",
   "execution_count": 2,
   "id": "d5fb37b5-a3b8-4866-bf48-3e40d8bb17c8",
   "metadata": {},
   "outputs": [
    {
     "name": "stdout",
     "output_type": "stream",
     "text": [
      "Numbre of times bob occurs is: 2\n"
     ]
    }
   ],
   "source": [
    "n_of_bobs = 0\n",
    "for i in range(len(s) - 3):\n",
    "    if s[i : i + 3] == \"bob\":\n",
    "        n_of_bobs += 1\n",
    "\n",
    "print(\"Numbre of times bob occurs is:\", n_of_bobs)"
   ]
  }
 ],
 "metadata": {
  "kernelspec": {
   "display_name": "Python 3 (ipykernel)",
   "language": "python",
   "name": "python3"
  },
  "language_info": {
   "codemirror_mode": {
    "name": "ipython",
    "version": 3
   },
   "file_extension": ".py",
   "mimetype": "text/x-python",
   "name": "python",
   "nbconvert_exporter": "python",
   "pygments_lexer": "ipython3",
   "version": "3.10.12"
  }
 },
 "nbformat": 4,
 "nbformat_minor": 5
}
