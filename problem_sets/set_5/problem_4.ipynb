{
 "cells": [
  {
   "cell_type": "markdown",
   "metadata": {},
   "source": [
    "For this problem, the graders will use our implementation of the `Message`, `PlaintextMessage`, and `CiphertextMessage` classes, so don't worry if you did not get the previous parts correct.\n",
    "\n",
    "Now that you have all the pieces to the puzzle, please use them to decode the file story.txt. The file ps6.py contains a helper function `get_story_string()` that returns the encrypted version of the story as a string. Create a `CiphertextMessage` object using the story string and use `decrypt_message` to return the appropriate shift value and unencrypted story string.\n",
    "\n",
    "Paste your function `decrypt_story()` in the box below."
   ]
  },
  {
   "cell_type": "code",
   "execution_count": null,
   "metadata": {},
   "outputs": [],
   "source": [
    "def decrypt_story():\n",
    "    ciphertext = CiphertextMessage(get_story_string())\n",
    "    return ciphertext.decrypt_message()"
   ]
  }
 ],
 "metadata": {
  "language_info": {
   "name": "python"
  }
 },
 "nbformat": 4,
 "nbformat_minor": 2
}
