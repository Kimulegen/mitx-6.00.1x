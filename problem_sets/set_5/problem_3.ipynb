{
 "cells": [
  {
   "cell_type": "markdown",
   "metadata": {},
   "source": [
    "For this problem, the graders will use our implementation of the `Message` and `PlaintextMessage` classes, so don't worry if you did not get the previous parts correct.\n",
    "\n",
    "Given an encrypted message, if you know the shift used to encode the message, decoding it is trivial. If `message` is the encrypted message, and s is the shift used to encrypt the message, then `apply_shift(message, 26-s)` gives you the original plaintext message. Do you see why?\n",
    "\n",
    "The problem, of course, is that you don’t know the shift. But our encryption method only has 26 distinct possible values for the shift! We know English is the main language of these emails, so if we can write a program that tries each shift and maximizes the number of English words in the decoded message, we can decrypt their cipher! A simple indication of whether or not the correct shift has been found is if most of the words obtained after a shift are valid words. Note that this only means that most of the words obtained are actual words. It is possible to have a message that can be decoded by two separate shifts into different sets of words. While there are various strategies for deciding between ambiguous decryptions, for this problem we are only looking for a simple solution.\n",
    "\n",
    "Fill in the methods in the class `CiphertextMessage` acording to the specifications in ps6.py. The methods you should fill in are:\n",
    "\n",
    "- `__init__(self, text)`: Use the parent class constructor to make your code more concise.\n",
    "- `decrypt_message(self)`: You may find the helper function `is_word(wordlist, word)` and the string method `split()` useful. Note that `is_word` will ignore punctuation and other special characters when considering whether a word is valid."
   ]
  },
  {
   "cell_type": "markdown",
   "metadata": {},
   "source": [
    "**Hints**\n",
    "**Using string.split**\n",
    "\n",
    "You may find the function `string.split` useful for dividing the text up into words.\n",
    "\n",
    "```python\n",
    ">>> 'Hello world!'.split('o')\n",
    "['Hell', ' w', 'rld!']\n",
    ">>> '6.00.1x is pretty fun'.split(' ')\n",
    "['6.00.1x', 'is', 'pretty', 'fun']\n",
    "```"
   ]
  },
  {
   "cell_type": "code",
   "execution_count": null,
   "metadata": {},
   "outputs": [],
   "source": [
    "class CiphertextMessage(Message):\n",
    "    def __init__(self, text):\n",
    "        '''\n",
    "        Initializes a CiphertextMessage object\n",
    "                \n",
    "        text (string): the message's text\n",
    "\n",
    "        a CiphertextMessage object has two attributes:\n",
    "            self.message_text (string, determined by input text)\n",
    "            self.valid_words (list, determined using helper function load_words)\n",
    "        '''\n",
    "        Message.__init__(self, text)\n",
    "\n",
    "    def decrypt_message(self):\n",
    "        '''\n",
    "        Decrypt self.message_text by trying every possible shift value\n",
    "        and find the \"best\" one. We will define \"best\" as the shift that\n",
    "        creates the maximum number of real words when we use apply_shift(shift)\n",
    "        on the message text. If s is the original shift value used to encrypt\n",
    "        the message, then we would expect 26 - s to be the best shift value \n",
    "        for decrypting it.\n",
    "\n",
    "        Note: if multiple shifts are  equally good such that they all create \n",
    "        the maximum number of you may choose any of those shifts (and their\n",
    "        corresponding decrypted messages) to return\n",
    "\n",
    "        Returns: a tuple of the best shift value used to decrypt the message\n",
    "        and the decrypted message text using that shift value\n",
    "        '''\n",
    "        \n",
    "        # self.text esta cifrado, para desifrarlo hay que aplicarle un shift, empezando por 1 \n",
    "        # y comprobar que cada palabra del desifrado este en self.valid_words\n",
    "        possible = None\n",
    "        highest_score = 0\n",
    "        for s in range(0,26):\n",
    "            decrypted_attempt = self.apply_shift(s)\n",
    "            decrypted_words = decrypted_attempt.split(' ')\n",
    "\n",
    "            # score a point if word is in valid_words, sum all the points of the attempt\n",
    "            score = sum([1 if word else 0 for word in decrypted_words if word in self.valid_words ])\n",
    "            if score > highest_score:\n",
    "                highest_score = score\n",
    "                possible = (s,decrypted_attempt)\n",
    "        \n",
    "        return possible"
   ]
  }
 ],
 "metadata": {
  "language_info": {
   "name": "python"
  }
 },
 "nbformat": 4,
 "nbformat_minor": 2
}
