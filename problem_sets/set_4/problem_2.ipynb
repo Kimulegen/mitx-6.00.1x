{
 "cells": [
  {
   "cell_type": "markdown",
   "metadata": {},
   "source": [
    "**\\*\\*Please read this problem entirely!!\\*\\*** The majority of this problem consists of learning how to read code, which is an incredibly useful and important skill. At the end, you will implement a short function. Be sure to take your time on this problem - it may seem easy, but reading someone else's code can be challenging and this is an important exercise."
   ]
  },
  {
   "cell_type": "markdown",
   "metadata": {},
   "source": [
    "# Representing Hands\n",
    "A **hand** is the set of letters held by a player during the game. The player is initially dealt a set of random letters. For example, the player could start out with the following hand: `a, q, l, m, u, i, l`. In our program, a hand will be represented as a dictionary: the keys are (lowercase) letters and the values are the number of times the particular letter is repeated in that hand. For example, the above hand would be represented as:\n",
    "\n",
    "```\n",
    "hand = {'a':1, 'q':1, 'l':2, 'm':1, 'u':1, 'i':1}    \n",
    "```\n",
    "\n",
    "Notice how the repeated letter `'l'` is represented. Remember that with a dictionary, the usual way to access a value is `hand['a']`, where `'a'` is the key we want to find. However, this only works if the key is in the dictionary; otherwise, we get a `KeyError`. To avoid this, we can use the call `hand.get('a',0)`. This is the \"safe\" way to access a value if we are not sure the key is in the dictionary. `d.get(key,default)` returns the value for `key` if `key` is in the dictionary `d`, else `default`. If `default` is not given, it returns `None`, so that this method never raises a `KeyError`. For example:\n",
    "\n",
    "```\n",
    ">>> hand['e']\n",
    "Traceback (most recent call last):\n",
    "  File \"<stdin>\", line 1, in <module>\n",
    "KeyError: 'e'\n",
    ">>> hand.get('e', 0)\n",
    "0\n",
    "```"
   ]
  },
  {
   "cell_type": "markdown",
   "metadata": {},
   "source": [
    "# Converting words into dictionary representation\n",
    "One useful function we've defined for you is `getFrequencyDict`, defined near the top of `ps4a.py`. When given a string of letters as an input, it returns a dictionary where the keys are letters and the values are the number of times that letter is represented in the input string. For example:\n",
    "\n",
    "```\n",
    ">>> getFrequencyDict(\"hello\")\n",
    "{'h': 1, 'e': 1, 'l': 2, 'o': 1}\n",
    "```\n",
    "\n",
    "As you can see, this is the same kind of dictionary we use to represent hands."
   ]
  },
  {
   "cell_type": "markdown",
   "metadata": {},
   "source": [
    "# Displaying a hand\n",
    "Given a hand represented as a dictionary, we want to display it in a user-friendly way. We have provided the implementation for this in the `displayHand` function. Take a few minutes right now to read through this function carefully and understand what it does and how it works."
   ]
  },
  {
   "cell_type": "markdown",
   "metadata": {},
   "source": [
    "# Generating a random hand\n",
    "The hand a player is dealt is a set of letters chosen at random. We provide you with the implementation of a function that generates this random hand, `dealHand`. The function takes as input a positive integer `n`, and returns a new object, a hand containing `n` lowercase letters. Again, take a few minutes (right now!) to read through this function carefully and understand what it does and how it works."
   ]
  },
  {
   "cell_type": "markdown",
   "metadata": {},
   "source": [
    "# Removing letters from a hand (you implement this)\n",
    "The player starts with a hand, a set of letters. As the player spells out words, letters from this set are used up. For example, the player could start out with the following hand: `a, q, l, m, u, i, l`. The player could choose to spell the word `quail` . This would leave the following letters in the player's hand: `l, m`. Your task is to implement the function `updateHand`, which takes in two inputs - a `hand` and a `word` (string). `updateHand` uses letters from the hand to spell the word, and then returns a copy of the `hand`, containing only the letters remaining. For example:\n",
    "\n",
    "```\n",
    ">>> hand = {'a':1, 'q':1, 'l':2, 'm':1, 'u':1, 'i':1}\n",
    ">>> displayHand(hand) # Implemented for you\n",
    "a q l l m u i\n",
    ">>> hand = updateHand(hand, 'quail') # You implement this function!\n",
    ">>> hand\n",
    "{'a':0, 'q':0, 'l':1, 'm':1, 'u':0, 'i':0}\n",
    ">>> displayHand(hand)\n",
    "l m\n",
    "```\n",
    "\n",
    "Implement the `updateHand` function. Make sure this function has no side effects: i.e., it must not mutate the hand passed in. Before pasting your function definition here, be sure you've passed the appropriate tests in `test_ps4a.py`.\n",
    "\n",
    "#### Hints\n",
    "**Testing**\n",
    "\n",
    "**Testing**: Make sure the `test_updateHand()` tests pass. You will also want to test your implementation of `updateHand` with some reasonable inputs.\n",
    "\n",
    "**Copying Dictionaries**\n",
    "\n",
    "You may wish to review the \".copy\" method of Python dictionaries (review this and other Python dictionary methods [here](http://docs.python.org/library/stdtypes.html#mapping-types-dict)).\n",
    "\n",
    "\n",
    "Your implementation of updateHand should be short (ours is 4 lines of code). It does not need to call any helper functions."
   ]
  },
  {
   "cell_type": "code",
   "execution_count": null,
   "metadata": {},
   "outputs": [],
   "source": [
    "def updateHand(hand, word):\n",
    "    \"\"\"\n",
    "    Assumes that 'hand' has all the letters in word.\n",
    "    In other words, this assumes that however many times\n",
    "    a letter appears in 'word', 'hand' has at least as\n",
    "    many of that letter in it. \n",
    "\n",
    "    Updates the hand: uses up the letters in the given word\n",
    "    and returns the new hand, without those letters in it.\n",
    "\n",
    "    Has no side effects: does not modify hand.\n",
    "\n",
    "    word: string\n",
    "    hand: dictionary (string -> int)    \n",
    "    returns: dictionary (string -> int)\n",
    "    \"\"\"\n",
    "    new_hand = hand.copy()\n",
    "    for letter in word:\n",
    "        new_hand[letter] -= 1\n",
    "    return new_hand"
   ]
  }
 ],
 "metadata": {
  "language_info": {
   "name": "python"
  }
 },
 "nbformat": 4,
 "nbformat_minor": 2
}
