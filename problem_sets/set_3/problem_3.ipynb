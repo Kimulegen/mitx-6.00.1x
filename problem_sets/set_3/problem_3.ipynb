{
 "cells": [
  {
   "cell_type": "markdown",
   "metadata": {},
   "source": [
    "Next, implement the function `getAvailableLetters` that takes in one parameter - a list of letters, `lettersGuessed`. This function returns a string that is comprised of lowercase English letters - all lowercase English letters that are **not** in `lettersGuessed`.\n",
    "\n",
    "Example Usage:\n",
    "\n",
    "```python\n",
    ">>> lettersGuessed = ['e', 'i', 'k', 'p', 'r', 's']\n",
    ">>> print(getAvailableLetters(lettersGuessed))\n",
    "abcdfghjlmnoqtuvwxyz\n",
    "Note that this function should return the letters in alphabetical order, as in the example above.\n",
    "```\n",
    "\n",
    "For this function, you may assume that all the letters in `lettersGuessed` are lowercase.\n",
    "\n",
    "Hint: You might consider using `string.ascii_lowercase`, which is a string comprised of all lowercase letters:\n",
    "\n",
    "```python\n",
    ">>> import string\n",
    ">>> print(string.ascii_lowercase)\n",
    "abcdefghijklmnopqrstuvwxyz\n",
    "```"
   ]
  },
  {
   "cell_type": "code",
   "execution_count": 3,
   "metadata": {},
   "outputs": [
    {
     "name": "stdout",
     "output_type": "stream",
     "text": [
      "abcdfghjlmnoqtuvwxyz\n"
     ]
    }
   ],
   "source": [
    "import string\n",
    "\n",
    "def get_available_letters(letters_guessed):\n",
    "    '''\n",
    "    lettersGuessed: list, what letters have been guessed so far\n",
    "    returns: string, comprised of letters that represents what letters have not\n",
    "      yet been guessed.\n",
    "    '''\n",
    "    return \"\".join([letter for letter in string.ascii_lowercase if letter not in letters_guessed])"
   ]
  }
 ],
 "metadata": {
  "kernelspec": {
   "display_name": "Python 3",
   "language": "python",
   "name": "python3"
  },
  "language_info": {
   "codemirror_mode": {
    "name": "ipython",
    "version": 3
   },
   "file_extension": ".py",
   "mimetype": "text/x-python",
   "name": "python",
   "nbconvert_exporter": "python",
   "pygments_lexer": "ipython3",
   "version": "3.10.12"
  }
 },
 "nbformat": 4,
 "nbformat_minor": 2
}
