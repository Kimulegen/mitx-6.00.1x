{
 "cells": [
  {
   "cell_type": "markdown",
   "metadata": {},
   "source": [
    "For each of the following expressions, select the order of growth class that best describes it from the following list: $O(1), O(log(n)), O(n), O(n log(n)), O(n^c)$ or $O(c^n)$. Assume $c$ is some constant."
   ]
  },
  {
   "cell_type": "markdown",
   "metadata": {},
   "source": [
    "1. $0.0000001n + 1000000$\n",
    "<div>\n",
    "    <input type=\"text\" placeholder=\"O(n)\">\n",
    "</div>"
   ]
  },
  {
   "cell_type": "markdown",
   "metadata": {},
   "source": [
    "2. $0.0001n^2 + 20000n - 90000$\n",
    "<div>\n",
    "    <input type=\"text\" placeholder=\"O(n^c)\">\n",
    "</div>"
   ]
  },
  {
   "cell_type": "markdown",
   "metadata": {},
   "source": [
    "3. $20n + 900log(n) + 100000$\n",
    "<div>\n",
    "    <input type=\"text\" placeholder=\"O(n)\">\n",
    "</div>"
   ]
  },
  {
   "cell_type": "markdown",
   "metadata": {},
   "source": [
    "4. $(log(n))^2 + 5n^7$\n",
    "<div>\n",
    "    <input type=\"text\" placeholder=\"O(n^c)\">\n",
    "</div>"
   ]
  },
  {
   "cell_type": "markdown",
   "metadata": {},
   "source": [
    "5. $n^{200} - 2n^{30}$\n",
    "<div>\n",
    "    <input type=\"text\" placeholder=\"O(n^c)\">\n",
    "</div>"
   ]
  },
  {
   "cell_type": "markdown",
   "metadata": {},
   "source": [
    "6. $30n^2 + nlog(n)$\n",
    "<div>\n",
    "    <input type=\"text\" placeholder=\"O(n^c)\">\n",
    "</div>"
   ]
  },
  {
   "cell_type": "markdown",
   "metadata": {},
   "source": [
    "7. $nlog(n) - 3000n$\n",
    "<div>\n",
    "    <input type=\"text\" placeholder=\"O(nlog(n))\">\n",
    "</div>"
   ]
  },
  {
   "cell_type": "markdown",
   "metadata": {},
   "source": [
    "8. $3$\n",
    "<div>\n",
    "    <input type=\"text\" placeholder=\"O(1)\">\n",
    "</div>"
   ]
  },
  {
   "cell_type": "markdown",
   "metadata": {},
   "source": [
    "9. $5^n + n^5 + n + 5$\n",
    "<div>\n",
    "    <input type=\"text\" placeholder=\"O(c^n)\">\n",
    "</div>"
   ]
  },
  {
   "cell_type": "markdown",
   "metadata": {},
   "source": [
    "10. $nlog(n) + n^2 + n + log(n) + 1 + 2^n$\n",
    "<div>\n",
    "    <input type=\"text\" placeholder=\"O(c^n)\">\n",
    "</div>"
   ]
  }
 ],
 "metadata": {
  "language_info": {
   "name": "python"
  }
 },
 "nbformat": 4,
 "nbformat_minor": 2
}
