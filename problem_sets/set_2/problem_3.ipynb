{
 "cells": [
  {
   "cell_type": "markdown",
   "metadata": {},
   "source": [
    "You'll notice that in Problem 2, your monthly payment had to be a multiple of $10. Why did we make it that way? You can try running your code locally so that the payment can be any dollar and cent amount (in other words, the monthly payment is a multiple of $0.01). Does your code still work? It should, but you may notice that your code runs more slowly, especially in cases with very large balances and interest rates. (Note: when your code is running on our servers, there are limits on the amount of computing time each submission is allowed, so your observations from running this experiment on the grading system might be limited to an error message complaining about too much time taken.)\n",
    "\n",
    "Well then, how can we calculate a more accurate fixed monthly payment than we did in Problem 2 without running into the problem of slow code? We can make this program run faster using a technique introduced in lecture - bisection search!\n",
    "\n",
    "The following variables contain values as described below:\n",
    "\n",
    "1. balance - the outstanding balance on the credit card\n",
    "\n",
    "2. annualInterestRate - annual interest rate as a decimal\n",
    "\n",
    "To recap the problem: we are searching for the smallest monthly payment such that we can pay off the entire balance within a year. What is a reasonable **lower bound** for this payment value? $0 is the obvious answer, but you can do better than that. If there was no interest, the debt can be paid off by monthly payments of one-twelfth of the original balance, so we must pay at least this much every month. One-twelfth of the original balance is a good lower bound.\n",
    "\n",
    "What is a good **upper bound**? Imagine that instead of paying monthly, we paid off the entire balance at the end of the year. What we ultimately pay must be greater than what we would've paid in monthly installments, because the interest was compounded on the balance we didn't pay off each month. So a good upper bound for the monthly payment would be one-twelfth of the balance, after having its interest compounded monthly for an entire year.\n",
    "\n",
    "In short:\n",
    "\n",
    "- **Monthly interest rate** = (Annual interest rate) / 12.0\n",
    "- **Monthly payment lower bound** = Balance / 12\n",
    "- **Monthly payment upper bound** = (Balance x (1 + Monthly interest rate)12) / 12.0\n",
    "\n",
    "Write a program that uses these bounds and bisection search (for more info check out [the Wikipedia page on bisection search](http://en.wikipedia.org/wiki/Bisection_method)) to find the smallest monthly payment to the cent (no more multiples of $10) such that we can pay off the debt within a year. Try it out with large inputs, and notice how fast it is (try the same large inputs in your solution to Problem 2 to compare!). Produce the same return value as you did in Problem 2.\n",
    "\n",
    "Note that if you do not use bisection search, your code will not run - your code only has 30 seconds to run on our servers."
   ]
  },
  {
   "cell_type": "markdown",
   "metadata": {},
   "source": [
    "**Test Cases to Test Your Code With.** Be sure to test these on your own machine - and that you get the same output! - before running your code on this webpage!\n",
    "\n",
    "**Problem 3 Test Cases**\n",
    "\n",
    "**Note**: The automated tests are leinient - if your answers are off by a few cents in either direction, your code is OK.\n",
    "\n",
    "Be sure to test these on your own machine - and that you get the same output! - before running your code on this webpage!\n",
    "\n",
    "Test Cases:\n",
    "\n",
    "1.\n",
    "```\n",
    "\t      Test Case 1:\n",
    "\t      balance = 320000\n",
    "\t      annualInterestRate = 0.2\n",
    "\n",
    "\t      Result Your Code Should Generate:\n",
    "\t      -------------------\n",
    "\t      Lowest Payment: 29157.09\n",
    "```\n",
    "\n",
    "2.\n",
    "```\n",
    "\t      Test Case 2:\n",
    "\t      balance = 999999\n",
    "\t      annualInterestRate = 0.18\n",
    "\t      \n",
    "\t      Result Your Code Should Generate:\n",
    "\t      -------------------\n",
    "\t      Lowest Payment: 90325.03\n",
    "```"
   ]
  },
  {
   "cell_type": "code",
   "execution_count": 1,
   "metadata": {},
   "outputs": [
    {
     "name": "stdout",
     "output_type": "stream",
     "text": [
      "Lowest Payment: 90325.03\n"
     ]
    }
   ],
   "source": [
    "def calculate_minimum_payment(balance: int, annual_interest_rate: float) -> int:\n",
    "    monthly_interest_rate = annual_interest_rate / 12.0\n",
    "    lower_bound = balance / 12\n",
    "    upper_bound = (balance * (1 + monthly_interest_rate) ** 12) / 12\n",
    "    payment = (lower_bound + upper_bound) / 2.0\n",
    "    new_balance = balance\n",
    "\n",
    "    while True:\n",
    "        for _ in range(12):\n",
    "            unpaid_balance = new_balance - payment\n",
    "            interest = annual_interest_rate / 12.0 * unpaid_balance\n",
    "            new_balance = unpaid_balance + interest\n",
    "\n",
    "        if abs(new_balance) < 0.01:\n",
    "            break\n",
    "\n",
    "        if new_balance < 0:\n",
    "            upper_bound = payment\n",
    "        elif new_balance > 0:\n",
    "            lower_bound = payment\n",
    "\n",
    "        new_balance = balance\n",
    "        payment = (lower_bound + upper_bound) / 2.0\n",
    "\n",
    "    return round(payment, 2)\n",
    "\n",
    "\n",
    "balance = 999999\n",
    "annual_interest_rate = 0.18\n",
    "minimum_payment = calculate_minimum_payment(balance, annual_interest_rate)\n",
    "print(\"Lowest Payment:\", str(minimum_payment))"
   ]
  }
 ],
 "metadata": {
  "kernelspec": {
   "display_name": "Python 3",
   "language": "python",
   "name": "python3"
  },
  "language_info": {
   "codemirror_mode": {
    "name": "ipython",
    "version": 3
   },
   "file_extension": ".py",
   "mimetype": "text/x-python",
   "name": "python",
   "nbconvert_exporter": "python",
   "pygments_lexer": "ipython3",
   "version": "3.10.12"
  }
 },
 "nbformat": 4,
 "nbformat_minor": 2
}
