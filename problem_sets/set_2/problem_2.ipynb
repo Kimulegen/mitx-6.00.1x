{
 "cells": [
  {
   "cell_type": "markdown",
   "metadata": {},
   "source": [
    "Now write a program that calculates the minimum **fixed** monthly payment needed in order pay off a credit card balance within 12 months. By a fixed monthly payment, we mean a single number which does not change each month, but instead is a constant amount that will be paid each month.\n",
    "\n",
    "In this problem, we will _not_ be dealing with a minimum monthly payment rate.\n",
    "\n",
    "The following variables contain values as described below:\n",
    "\n",
    "1. balance - the outstanding balance on the credit card\n",
    "\n",
    "2. annualInterestRate - annual interest rate as a decimal\n",
    "\n",
    "The program should print out one line: the lowest monthly payment that will pay off all debt in under 1 year, for example:\n",
    "\n",
    "```\n",
    "Lowest Payment: 180 \n",
    "```\n",
    "\n",
    "Assume that the interest is compounded monthly according to the balance at the end of the month (after the payment for that month is made). The monthly payment must be a multiple of $10 and is the same for all months. Notice that it is possible for the balance to become negative using this payment scheme, which is okay. A summary of the required math is found below:\n",
    "\n",
    "- **Monthly interest rate** = (Annual interest rate) / 12.0\n",
    "- **Monthly unpaid balance** = (Previous balance) - (Minimum fixed monthly payment)\n",
    "- **Updated balance each month** = (Monthly unpaid balance) + (Monthly interest rate x Monthly unpaid balance)"
   ]
  },
  {
   "cell_type": "markdown",
   "metadata": {},
   "source": [
    "**Test Cases to Test Your Code With.** Be sure to test these on your own machine - and that you get the same output! - before running your code on this webpage!\n",
    "\n",
    "**Problem 2 Test Cases**\n",
    "Be sure to test these on your own machine - and that you get the same output! - before running your code on this webpage!\n",
    "\n",
    "Test Cases:\n",
    "\n",
    "1.\n",
    "```\n",
    "\t      Test Case 1:\n",
    "\t      balance = 3329\n",
    "\t      annualInterestRate = 0.2\n",
    "\n",
    "\t      Result Your Code Should Generate:\n",
    "\t      -------------------\n",
    "\t      Lowest Payment: 310\n",
    "```\n",
    "\n",
    "2.\n",
    "```\n",
    "\t      Test Case 2:\n",
    "\t      balance = 4773\n",
    "\t      annualInterestRate = 0.2\n",
    "\t      \n",
    "\t      Result Your Code Should Generate:\n",
    "\t      -------------------\n",
    "\t      Lowest Payment: 440\n",
    "```\n",
    "\n",
    "3.\n",
    "```\n",
    "\t      Test Case 3:\n",
    "\t      balance = 3926\n",
    "\t      annualInterestRate = 0.2\n",
    "\n",
    "\t      Result Your Code Should Generate:\n",
    "\t      -------------------\n",
    "\t      Lowest Payment: 360\n",
    "```"
   ]
  },
  {
   "cell_type": "code",
   "execution_count": 1,
   "metadata": {},
   "outputs": [
    {
     "name": "stdout",
     "output_type": "stream",
     "text": [
      "Lowest Payment: 310\n"
     ]
    }
   ],
   "source": [
    "def calculate_minimum_payment(balance: int, annual_interest_rate: float) -> int:\n",
    "    payment = round(balance // 12, -1)\n",
    "    new_balance = balance\n",
    "\n",
    "    while True:\n",
    "        for _ in range(12):\n",
    "            unpaid_balance = new_balance - payment\n",
    "            interest = annual_interest_rate / 12.0 * unpaid_balance\n",
    "            new_balance = unpaid_balance + interest\n",
    "        if new_balance <= 0:\n",
    "            break\n",
    "        new_balance = balance\n",
    "        payment += 10\n",
    "\n",
    "    return payment\n",
    "\n",
    "\n",
    "balance = 3329\n",
    "annual_interest_rate = 0.2\n",
    "minimum_payment = calculate_minimum_payment(balance, annual_interest_rate)\n",
    "print(\"Lowest Payment:\", str(minimum_payment))"
   ]
  }
 ],
 "metadata": {
  "kernelspec": {
   "display_name": "Python 3",
   "language": "python",
   "name": "python3"
  },
  "language_info": {
   "codemirror_mode": {
    "name": "ipython",
    "version": 3
   },
   "file_extension": ".py",
   "mimetype": "text/x-python",
   "name": "python",
   "nbconvert_exporter": "python",
   "pygments_lexer": "ipython3",
   "version": "3.10.12"
  }
 },
 "nbformat": 4,
 "nbformat_minor": 2
}
