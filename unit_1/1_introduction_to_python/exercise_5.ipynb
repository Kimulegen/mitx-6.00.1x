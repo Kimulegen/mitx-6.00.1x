{
 "cells": [
  {
   "cell_type": "markdown",
   "metadata": {},
   "source": [
    "For each of the following expressions, indicate the type of the expression. While you could simply type these expressions into your shell, we encourage you to answer them directly since this will help reinforce your understanding of basic Python expressions."
   ]
  },
  {
   "cell_type": "markdown",
   "metadata": {},
   "source": [
    "- `3.4`\n",
    "<div style=\"margin-left:40px;margin-bottom:40px\">\n",
    "    <input type=\"text\" placeholder=\"float\">\n",
    "</div>\n",
    "\n",
    "- `-34`\n",
    "<div style=\"margin-left:40px;margin-bottom:40px\">\n",
    "    <input type=\"text\" placeholder=\"int\">\n",
    "</div>\n",
    "\n",
    "- `True`\n",
    "<div style=\"margin-left:40px;margin-bottom:40px\">\n",
    "    <input type=\"text\" placeholder=\"boolean\">\n",
    "</div>\n",
    "\n",
    "- `None`\n",
    "<div style=\"margin-left:40px;margin-bottom:40px\">\n",
    "    <input type=\"text\" placeholder=\"NoneType\">\n",
    "</div>\n",
    "\n",
    "- `3.0`\n",
    "<div style=\"margin-left:40px;margin-bottom:40px\">\n",
    "    <input type=\"text\" placeholder=\"float\">\n",
    "</div>"
   ]
  }
 ],
 "metadata": {
  "language_info": {
   "name": "python"
  }
 },
 "nbformat": 4,
 "nbformat_minor": 2
}
