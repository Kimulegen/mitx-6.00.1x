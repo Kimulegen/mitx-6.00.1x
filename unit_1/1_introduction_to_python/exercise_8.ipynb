{
 "cells": [
  {
   "cell_type": "markdown",
   "metadata": {},
   "source": [
    "For each of the following expressions, indicate the value returned, or if the evaluation would lead to an error, write the word 'error' (note this is a word, not a string, no quotes). While you could simply type these expressions into your IDE, we encourage you to answer them directly since this will help reinforce your understanding of basic Python expressions."
   ]
  },
  {
   "cell_type": "markdown",
   "metadata": {},
   "source": [
    "- `3 > 4`\n",
    "<div style=\"margin-left:40px;margin-bottom:40px\">\n",
    "    <input type=\"text\" placeholder=\"False\">\n",
    "</div>\n",
    "\n",
    "- `4.0 > 3.999`\n",
    "<div style=\"margin-left:40px;margin-bottom:40px\">\n",
    "    <input type=\"text\" placeholder=\"True\">\n",
    "</div>\n",
    "\n",
    "- `4 > 4`\n",
    "<div style=\"margin-left:40px;margin-bottom:40px\">\n",
    "    <input type=\"text\" placeholder=\"False\">\n",
    "</div>\n",
    "\n",
    "- `4 > + 4`\n",
    "<div style=\"margin-left:40px;margin-bottom:40px\">\n",
    "    <input type=\"text\" placeholder=\"False\">\n",
    "</div>\n",
    "\n",
    "- `2 + 2 == 4`\n",
    "<div style=\"margin-left:40px;margin-bottom:40px\">\n",
    "    <input type=\"text\" placeholder=\"True\">\n",
    "</div>\n",
    "\n",
    "- `True or False`\n",
    "<div style=\"margin-left:40px;margin-bottom:40px\">\n",
    "    <input type=\"text\" placeholder=\"True\">\n",
    "</div>\n",
    "\n",
    "- `False or False`\n",
    "<div style=\"margin-left:40px;margin-bottom:40px\">\n",
    "    <input type=\"text\" placeholder=\"False\">\n",
    "</div>\n",
    "\n",
    "- `not False`\n",
    "<div style=\"margin-left:40px;margin-bottom:40px\">\n",
    "    <input type=\"text\" placeholder=\"True\">\n",
    "</div>\n",
    "\n",
    "- `3.0 - 1.0 != 5.0 - 3.0`\n",
    "<div style=\"margin-left:40px;margin-bottom:40px\">\n",
    "    <input type=\"text\" placeholder=\"False\">\n",
    "</div>\n",
    "\n",
    "- `3 > 4 or (2 < 3 and 9 > 10)`\n",
    "<div style=\"margin-left:40px;margin-bottom:40px\">\n",
    "    <input type=\"text\" placeholder=\"False\">\n",
    "</div>\n",
    "\n",
    "- `4 > 5 or 3 < 4 and 9 > 8`\n",
    "<div style=\"margin-left:40px;margin-bottom:40px\">\n",
    "    <input type=\"text\" placeholder=\"True\">\n",
    "</div>\n",
    "\n",
    "- `not(4 > 3 and 100 > 6)`\n",
    "<div style=\"margin-left:40px;margin-bottom:40px\">\n",
    "    <input type=\"text\" placeholder=\"False\">\n",
    "</div>"
   ]
  }
 ],
 "metadata": {
  "language_info": {
   "name": "python"
  }
 },
 "nbformat": 4,
 "nbformat_minor": 2
}
