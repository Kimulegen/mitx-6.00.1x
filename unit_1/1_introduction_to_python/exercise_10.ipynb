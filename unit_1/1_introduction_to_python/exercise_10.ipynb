{
 "cells": [
  {
   "cell_type": "markdown",
   "metadata": {},
   "source": [
    "For each of the following expressions, indicate the type of the expression and the value returned, or, if the evaluation would lead to an error, choose the type 'NoneType' and write the word 'error' (note this is a word, not a string, no quotes) as the value returned.\n",
    "\n",
    "While you could simply type these expressions into your IDE, we encourage you to answer them directly since this will help reinforce your understanding of basic Python expressions."
   ]
  },
  {
   "cell_type": "markdown",
   "metadata": {},
   "source": [
    "- `3 + 5.0`\n",
    "<div style=\"margin-left:40px;margin-bottom:40px\">\n",
    "    <input type=\"text\" placeholder=\"float\" style=\"display:block\">\n",
    "    <input type=\"text\" placeholder=\"8.0\" style=\"display:block\">\n",
    "</div>\n",
    "\n",
    "- `5/2`\n",
    "<div style=\"margin-left:40px;margin-bottom:40px\">\n",
    "    <input type=\"text\" placeholder=\"float\" style=\"display:block\">\n",
    "    <input type=\"text\" placeholder=\"2.5\" style=\"display:block\">\n",
    "</div>\n",
    "\n",
    "- `5/2 == 5/2.0`\n",
    "<div style=\"margin-left:40px;margin-bottom:40px\">\n",
    "    <input type=\"text\" placeholder=\"boolean\" style=\"display:block\">\n",
    "    <input type=\"text\" placeholder=\"True\" style=\"display:block\">\n",
    "</div>\n",
    "\n",
    "- `5/2.0`\n",
    "<div style=\"margin-left:40px;margin-bottom:40px\">\n",
    "    <input type=\"text\" placeholder=\"float\" style=\"display:block\">\n",
    "    <input type=\"text\" placeholder=\"2.5\" style=\"display:block\">\n",
    "</div>\n",
    "\n",
    "- `round(2.6)`\n",
    "<div style=\"margin-left:40px;margin-bottom:40px\">\n",
    "    <input type=\"text\" placeholder=\"int\" style=\"display:block\">\n",
    "    <input type=\"text\" placeholder=\"3\" style=\"display:block\">\n",
    "</div>\n",
    "\n",
    "- `int(2.6)`\n",
    "<div style=\"margin-left:40px;margin-bottom:40px\">\n",
    "    <input type=\"text\" placeholder=\"int\" style=\"display:block\">\n",
    "    <input type=\"text\" placeholder=\"2\" style=\"display:block\">\n",
    "</div>\n",
    "\n",
    "- `2.0 + 5.0`\n",
    "<div style=\"margin-left:40px;margin-bottom:40px\">\n",
    "    <input type=\"text\" placeholder=\"float\" style=\"display:block\">\n",
    "    <input type=\"text\" placeholder=\"7.0\" style=\"display:block\">\n",
    "</div>\n",
    "\n",
    "- `5*2 == 5.0 * 2.0`\n",
    "<div style=\"margin-left:40px;margin-bottom:40px\">\n",
    "    <input type=\"text\" placeholder=\"boolean\" style=\"display:block\">\n",
    "    <input type=\"text\" placeholder=\"True\" style=\"display:block\">\n",
    "</div>"
   ]
  }
 ],
 "metadata": {
  "language_info": {
   "name": "python"
  }
 },
 "nbformat": 4,
 "nbformat_minor": 2
}
