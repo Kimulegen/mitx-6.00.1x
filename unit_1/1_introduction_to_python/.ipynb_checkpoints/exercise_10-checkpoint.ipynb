{
 "cells": [
  {
   "cell_type": "markdown",
   "metadata": {},
   "source": [
    "For each of the following expressions, indicate the type of the expression and the value returned, or, if the evaluation would lead to an error, choose the type 'NoneType' and write the word 'error' (note this is a word, not a string, no quotes) as the value returned.\n",
    "\n",
    "While you could simply type these expressions into your IDE, we encourage you to answer them directly since this will help reinforce your understanding of basic Python expressions."
   ]
  },
  {
   "cell_type": "markdown",
   "metadata": {},
   "source": [
    "- `3 + 5.0`\n",
    "<div>\n",
    "    <input type=\"text\" placeholder=\"float\" style=\"display:block\">\n",
    "    <input type=\"text\" placeholder=\"8.0\" style=\"display:block\">\n",
    "</div>"
   ]
  },
  {
   "cell_type": "markdown",
   "metadata": {},
   "source": [
    "- `5/2`\n",
    "<div>\n",
    "    <input type=\"text\" placeholder=\"float\" style=\"display:block\">\n",
    "    <input type=\"text\" placeholder=\"2.5\" style=\"display:block\">\n",
    "</div>"
   ]
  },
  {
   "cell_type": "markdown",
   "metadata": {},
   "source": [
    "- `5/2 == 5/2.0`\n",
    "<div>\n",
    "    <input type=\"text\" placeholder=\"boolean\" style=\"display:block\">\n",
    "    <input type=\"text\" placeholder=\"True\" style=\"display:block\">\n",
    "</div>"
   ]
  },
  {
   "cell_type": "markdown",
   "metadata": {},
   "source": [
    "- `5/2.0`\n",
    "<div>\n",
    "    <input type=\"text\" placeholder=\"float\" style=\"display:block\">\n",
    "    <input type=\"text\" placeholder=\"2.5\" style=\"display:block\">\n",
    "</div>"
   ]
  },
  {
   "cell_type": "markdown",
   "metadata": {},
   "source": [
    "- `round(2.6)`\n",
    "<div>\n",
    "    <input type=\"text\" placeholder=\"int\" style=\"display:block\">\n",
    "    <input type=\"text\" placeholder=\"3\" style=\"display:block\">\n",
    "</div>"
   ]
  },
  {
   "cell_type": "markdown",
   "metadata": {},
   "source": [
    "- `int(2.6)`\n",
    "<div>\n",
    "    <input type=\"text\" placeholder=\"int\" style=\"display:block\">\n",
    "    <input type=\"text\" placeholder=\"2\" style=\"display:block\">\n",
    "</div>"
   ]
  },
  {
   "cell_type": "markdown",
   "metadata": {},
   "source": [
    "- `2.0 + 5.0`\n",
    "<div>\n",
    "    <input type=\"text\" placeholder=\"float\" style=\"display:block\">\n",
    "    <input type=\"text\" placeholder=\"7.0\" style=\"display:block\">\n",
    "</div>"
   ]
  },
  {
   "cell_type": "markdown",
   "metadata": {},
   "source": [
    "- `5*2 == 5.0 * 2.0`\n",
    "<div>\n",
    "    <input type=\"text\" placeholder=\"boolean\" style=\"display:block\">\n",
    "    <input type=\"text\" placeholder=\"True\" style=\"display:block\">\n",
    "</div>"
   ]
  }
 ],
 "metadata": {
  "kernelspec": {
   "display_name": "Python 3 (ipykernel)",
   "language": "python",
   "name": "python3"
  },
  "language_info": {
   "codemirror_mode": {
    "name": "ipython",
    "version": 3
   },
   "file_extension": ".py",
   "mimetype": "text/x-python",
   "name": "python",
   "nbconvert_exporter": "python",
   "pygments_lexer": "ipython3",
   "version": "3.11.7"
  }
 },
 "nbformat": 4,
 "nbformat_minor": 4
}
