{
 "cells": [
  {
   "cell_type": "markdown",
   "metadata": {},
   "source": [
    "Definitions:\n",
    "\n",
    "1. Determines whether a string is legal\n",
    "<div style=\"margin-bottom:40px\">\n",
    "    <input type=\"text\" placeholder=\"Syntax\">\n",
    "</div>\n",
    "\n",
    "2. Determines whether a string has meaning\n",
    "<div style=\"margin-bottom:40px\">\n",
    "    <input type=\"text\" placeholder=\"Static semantics\">\n",
    "</div>\n",
    "\n",
    "3. Assigns a meaning to a legal sentence\n",
    "<div style=\"margin-bottom:40px\">\n",
    "    <input type=\"text\" placeholder=\"Semantics\">\n",
    "</div>"
   ]
  }
 ],
 "metadata": {
  "kernelspec": {
   "display_name": "Python 3 (ipykernel)",
   "language": "python",
   "name": "python3"
  },
  "language_info": {
   "codemirror_mode": {
    "name": "ipython",
    "version": 3
   },
   "file_extension": ".py",
   "mimetype": "text/x-python",
   "name": "python",
   "nbconvert_exporter": "python",
   "pygments_lexer": "ipython3",
   "version": "3.11.7"
  }
 },
 "nbformat": 4,
 "nbformat_minor": 4
}
