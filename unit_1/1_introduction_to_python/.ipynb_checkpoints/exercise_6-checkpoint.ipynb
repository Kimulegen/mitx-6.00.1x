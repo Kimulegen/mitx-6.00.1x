{
 "cells": [
  {
   "cell_type": "markdown",
   "metadata": {},
   "source": [
    "For each of the following expressions, indicate the value returned, or if the evaluation would lead to an error, write the word 'error' (note this is a word, not a string, no quotes). While you could simply type these expressions into an IDE, we encourage you to answer them directly since this will help reinforce your understanding of basic Python expressions.\n",
    "\n",
    "For decimal answers, give the full result, or four decimal places of accuracy (whichever is shortest)."
   ]
  },
  {
   "cell_type": "markdown",
   "metadata": {},
   "source": [
    "- `6 + 12 - 3`\n",
    "<div>\n",
    "    <input type=\"text\" placeholder=\"15\">\n",
    "</div>"
   ]
  },
  {
   "cell_type": "markdown",
   "metadata": {},
   "source": [
    "- `2 *3.0`\n",
    "<div>\n",
    "    <input type=\"text\" placeholder=\"6.0\">\n",
    "</div>"
   ]
  },
  {
   "cell_type": "markdown",
   "metadata": {},
   "source": [
    "- `- - 4`\n",
    "<div>\n",
    "    <input type=\"text\" placeholder=\"4\">\n",
    "</div>"
   ]
  },
  {
   "cell_type": "markdown",
   "metadata": {},
   "source": [
    "- `10/3`\n",
    "<div>\n",
    "    <input type=\"text\" placeholder=\"3.3333\">\n",
    "</div>"
   ]
  },
  {
   "cell_type": "markdown",
   "metadata": {},
   "source": [
    "- `10.0/3.0`\n",
    "<div>\n",
    "    <input type=\"text\" placeholder=\"3.3333\">\n",
    "</div>"
   ]
  },
  {
   "cell_type": "markdown",
   "metadata": {},
   "source": [
    "- `(2 + 3) * 4`\n",
    "<div>\n",
    "    <input type=\"text\" placeholder=\"20\">\n",
    "</div>"
   ]
  },
  {
   "cell_type": "markdown",
   "metadata": {},
   "source": [
    "- `2 + 3 * 4`\n",
    "<div>\n",
    "    <input type=\"text\" placeholder=\"14\">\n",
    "</div>"
   ]
  },
  {
   "cell_type": "markdown",
   "metadata": {},
   "source": [
    "- `2.1 ** 2.0`\n",
    "<div>\n",
    "    <input type=\"text\" placeholder=\"4.41\">\n",
    "</div>"
   ]
  },
  {
   "cell_type": "markdown",
   "metadata": {},
   "source": [
    "- `2.2 * 3.0`\n",
    "<div>\n",
    "    <input type=\"text\" placeholder=\"6.6\">\n",
    "</div>"
   ]
  }
 ],
 "metadata": {
  "kernelspec": {
   "display_name": "Python 3 (ipykernel)",
   "language": "python",
   "name": "python3"
  },
  "language_info": {
   "codemirror_mode": {
    "name": "ipython",
    "version": 3
   },
   "file_extension": ".py",
   "mimetype": "text/x-python",
   "name": "python",
   "nbconvert_exporter": "python",
   "pygments_lexer": "ipython3",
   "version": "3.11.7"
  }
 },
 "nbformat": 4,
 "nbformat_minor": 4
}
