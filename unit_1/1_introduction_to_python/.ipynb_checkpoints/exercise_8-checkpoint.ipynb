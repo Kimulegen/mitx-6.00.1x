{
 "cells": [
  {
   "cell_type": "markdown",
   "metadata": {},
   "source": [
    "For each of the following expressions, indicate the value returned, or if the evaluation would lead to an error, write the word 'error' (note this is a word, not a string, no quotes). While you could simply type these expressions into your IDE, we encourage you to answer them directly since this will help reinforce your understanding of basic Python expressions."
   ]
  },
  {
   "cell_type": "markdown",
   "metadata": {},
   "source": [
    "- `3 > 4`\n",
    "<div>\n",
    "    <input type=\"text\" placeholder=\"False\">\n",
    "</div>"
   ]
  },
  {
   "cell_type": "markdown",
   "metadata": {},
   "source": [
    "- `4.0 > 3.999`\n",
    "<div>\n",
    "    <input type=\"text\" placeholder=\"True\">\n",
    "</div>"
   ]
  },
  {
   "cell_type": "markdown",
   "metadata": {},
   "source": [
    "- `4 > 4`\n",
    "<div>\n",
    "    <input type=\"text\" placeholder=\"False\">\n",
    "</div>"
   ]
  },
  {
   "cell_type": "markdown",
   "metadata": {},
   "source": [
    "- `4 > + 4`\n",
    "<div>\n",
    "    <input type=\"text\" placeholder=\"False\">\n",
    "</div>"
   ]
  },
  {
   "cell_type": "markdown",
   "metadata": {},
   "source": [
    "- `2 + 2 == 4`\n",
    "<div>\n",
    "    <input type=\"text\" placeholder=\"True\">\n",
    "</div>"
   ]
  },
  {
   "cell_type": "markdown",
   "metadata": {},
   "source": [
    "- `True or False`\n",
    "<div>\n",
    "    <input type=\"text\" placeholder=\"True\">\n",
    "</div>"
   ]
  },
  {
   "cell_type": "markdown",
   "metadata": {},
   "source": [
    "- `False or False`\n",
    "<div>\n",
    "    <input type=\"text\" placeholder=\"False\">\n",
    "</div>"
   ]
  },
  {
   "cell_type": "markdown",
   "metadata": {},
   "source": [
    "- `not False`\n",
    "<div>\n",
    "    <input type=\"text\" placeholder=\"True\">\n",
    "</div>"
   ]
  },
  {
   "cell_type": "markdown",
   "metadata": {},
   "source": [
    "- `3.0 - 1.0 != 5.0 - 3.0`\n",
    "<div>\n",
    "    <input type=\"text\" placeholder=\"False\">\n",
    "</div>"
   ]
  },
  {
   "cell_type": "markdown",
   "metadata": {},
   "source": [
    "- `3 > 4 or (2 < 3 and 9 > 10)`\n",
    "<div>\n",
    "    <input type=\"text\" placeholder=\"False\">\n",
    "</div>"
   ]
  },
  {
   "cell_type": "markdown",
   "metadata": {},
   "source": [
    "- `4 > 5 or 3 < 4 and 9 > 8`\n",
    "<div>\n",
    "    <input type=\"text\" placeholder=\"True\">\n",
    "</div>"
   ]
  },
  {
   "cell_type": "markdown",
   "metadata": {},
   "source": [
    "- `not(4 > 3 and 100 > 6)`\n",
    "<div>\n",
    "    <input type=\"text\" placeholder=\"False\">\n",
    "</div>"
   ]
  }
 ],
 "metadata": {
  "kernelspec": {
   "display_name": "Python 3 (ipykernel)",
   "language": "python",
   "name": "python3"
  },
  "language_info": {
   "codemirror_mode": {
    "name": "ipython",
    "version": 3
   },
   "file_extension": ".py",
   "mimetype": "text/x-python",
   "name": "python",
   "nbconvert_exporter": "python",
   "pygments_lexer": "ipython3",
   "version": "3.11.7"
  }
 },
 "nbformat": 4,
 "nbformat_minor": 4
}
