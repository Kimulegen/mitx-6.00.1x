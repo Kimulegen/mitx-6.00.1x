{
 "cells": [
  {
   "cell_type": "markdown",
   "metadata": {},
   "source": [
    "1. True or False? A stored program computer is designed to compute precisely one computation, such as a square root, or the trajectory of a missile.\n",
    "<div style=\"margin-top:20px\">\n",
    "    <fieldset style=\"margin:10px 0;padding:8px\">\n",
    "        <input type=\"radio\" name=\"question1\"/> Yes\n",
    "    </fieldset>\n",
    "    <fieldset style=\"margin:10px 0;padding:8px\">\n",
    "        <input type=\"radio\" name=\"question1\" checked/> No\n",
    "    </fieldset>\n",
    "</div>"
   ]
  },
  {
   "cell_type": "markdown",
   "metadata": {},
   "source": [
    "2. True or False? A fixed program computer is designed to run any computation, by interpreting a sequence of program instructions that are read into it.\n",
    "<div style=\"margin-top:20px\">\n",
    "    <fieldset style=\"margin:10px 0;padding:8px\">\n",
    "        <input type=\"radio\" name=\"question2\"checked/> Yes\n",
    "    </fieldset>\n",
    "    <fieldset style=\"margin:10px 0;padding:8px\">\n",
    "        <input type=\"radio\" name=\"question2\"/> No\n",
    "    </fieldset>\n",
    "</div>"
   ]
  },
  {
   "cell_type": "markdown",
   "metadata": {},
   "source": [
    "3. A program counter\n",
    "<div style=\"margin-top:20px\">\n",
    "    <fieldset style=\"margin:10px 0;padding:8px\">\n",
    "        <input type=\"radio\" name=\"question3\" />\n",
    "        counts the number of primitive operations executed by the program.\n",
    "    </fieldset>\n",
    "    <fieldset style=\"margin:10px 0;padding:8px\">\n",
    "        <input type=\"radio\" name=\"question3\"/> \n",
    "        counts the number of primitive operations comprising a complex operation.\n",
    "    </fieldset>\n",
    "    <fieldset style=\"margin:10px 0;padding:8px\">\n",
    "        <input type=\"radio\" name=\"question3\" checked/> \n",
    "        points the computer to the next instruction to execute in the program.\n",
    "    </fieldset>\n",
    "    <fieldset style=\"margin:10px 0;padding:8px\">\n",
    "        <input type=\"radio\" name=\"question3\"/> \n",
    "        remembers how many times a program has been executed.\n",
    "    </fieldset>\n",
    "</div>\n"
   ]
  },
  {
   "cell_type": "markdown",
   "metadata": {},
   "source": [
    "4. What does it mean when we say that \"the computer walks through the sequence executing some computation\"?\n",
    "<div style=\"margin-top:20px\">\n",
    "    <fieldset style=\"margin:10px 0;padding:8px\">\n",
    "        <input type=\"radio\" name=\"question4\" />\n",
    "        The computer tests each instruction to ensure it will not harm the circuitry.\n",
    "    </fieldset>\n",
    "    <fieldset style=\"margin:10px 0;padding:8px\">\n",
    "        <input type=\"radio\" name=\"question4\"/> \n",
    "        The computer executes the instructions in strict, linear sequence, just like walking in a straight line.\n",
    "    </fieldset>\n",
    "    <fieldset style=\"margin:10px 0;padding:8px\">\n",
    "        <input type=\"radio\" name=\"question4\" checked/> \n",
    "        The computer executes the instructions mostly in a linear sequence, except sometimes it jumps to a different place in the sequence.\n",
    "    </fieldset>\n",
    "    <fieldset style=\"margin:10px 0;padding:8px\">\n",
    "        <input type=\"radio\" name=\"question4\"/> \n",
    "        The computer slowly executes instructions so that we can follow its progress, rather than running a program at full speed.\n",
    "    </fieldset>\n",
    "</div>\n"
   ]
  },
  {
   "cell_type": "markdown",
   "metadata": {},
   "source": [
    "1. True or False? In order to compute everything that is computable, every computer must be able to handle the sixteen most primitive operations.\n",
    "<div style=\"margin-top:20px\">\n",
    "    <fieldset style=\"margin:10px 0;padding:8px\">\n",
    "        <input type=\"radio\" name=\"question5\"/> Yes\n",
    "    </fieldset>\n",
    "    <fieldset style=\"margin:10px 0;padding:8px\">\n",
    "        <input type=\"radio\" name=\"question5\" checked/> No\n",
    "    </fieldset>\n",
    "</div>"
   ]
  }
 ],
 "metadata": {
  "kernelspec": {
   "display_name": "Python 3 (ipykernel)",
   "language": "python",
   "name": "python3"
  },
  "language_info": {
   "codemirror_mode": {
    "name": "ipython",
    "version": 3
   },
   "file_extension": ".py",
   "mimetype": "text/x-python",
   "name": "python",
   "nbconvert_exporter": "python",
   "pygments_lexer": "ipython3",
   "version": "3.11.7"
  }
 },
 "nbformat": 4,
 "nbformat_minor": 4
}
