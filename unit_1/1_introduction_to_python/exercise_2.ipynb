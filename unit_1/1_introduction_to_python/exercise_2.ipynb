{
 "cells": [
  {
   "cell_type": "markdown",
   "metadata": {},
   "source": [
    "1. Declarative knowledge refers to statements of fact.\n",
    "<div style=\"margin-top:20px\">\n",
    "    <fieldset style=\"margin:10px 0;padding:8px\">\n",
    "        <input type=\"radio\" name=\"question1\" checked/> Yes\n",
    "    </fieldset>\n",
    "    <fieldset style=\"margin:10px 0;padding:8px\">\n",
    "        <input type=\"radio\" name=\"question1\" unchecked/> No\n",
    "    </fieldset>\n",
    "</div>"
   ]
  },
  {
   "cell_type": "markdown",
   "metadata": {},
   "source": [
    "2. Imperative knowledge refers to 'how to' methods.\n",
    "<div style=\"margin-top:20px\">\n",
    "    <fieldset style=\"margin:10px 0;padding:8px\">\n",
    "        <input type=\"radio\" name=\"question2\" checked/> Yes\n",
    "    </fieldset>\n",
    "    <fieldset style=\"margin:10px 0;padding:8px\">\n",
    "        <input type=\"radio\" name=\"question2\" unchecked/> No\n",
    "    </fieldset>\n",
    "</div>"
   ]
  },
  {
   "cell_type": "markdown",
   "metadata": {},
   "source": [
    "3. A recipe for deducing the square root involves guessing a starting value for y. Without another recipe to be told how to pick a starting number, the computer cannot generate one on its own.\n",
    "<div style=\"margin-top:20px\">\n",
    "    <fieldset style=\"margin:10px 0;padding:8px\">\n",
    "        <input type=\"radio\" name=\"question3\" checked/> Yes\n",
    "    </fieldset>\n",
    "    <fieldset style=\"margin:10px 0;padding:8px\">\n",
    "        <input type=\"radio\" name=\"question3\" unchecked/> No\n",
    "    </fieldset>\n",
    "</div>"
   ]
  }
 ],
 "metadata": {
  "kernelspec": {
   "display_name": "Python 3 (ipykernel)",
   "language": "python",
   "name": "python3"
  },
  "language_info": {
   "codemirror_mode": {
    "name": "ipython",
    "version": 3
   },
   "file_extension": ".py",
   "mimetype": "text/x-python",
   "name": "python",
   "nbconvert_exporter": "python",
   "pygments_lexer": "ipython3",
   "version": "3.11.7"
  }
 },
 "nbformat": 4,
 "nbformat_minor": 4
}
