{
 "cells": [
  {
   "cell_type": "markdown",
   "metadata": {},
   "source": [
    "Below is a transcript of a session with the Python shell. For each expression being evaluated, provide the type and the value that the **last expression in the transcript returns**. If evaluating an expression would cause an error, select 'NoneType' and write the word 'error' (note this is a word, not a string, no quotes) in the box. While you could simply type these expressions into your IDE, we encourage you to answer them directly since this will help reinforce your understanding of basic Python expressions.\n",
    "\n",
    "Assume that the expressions are evaluated in the order shown - that is, each problem part is evaluated directly after the previous problem part(s)."
   ]
  },
  {
   "cell_type": "markdown",
   "metadata": {},
   "source": [
    "```python\n",
    ">>> a = 3\n",
    ">>> a == 5.0\n",
    ">>> a \n",
    "```\n",
    "<div style=\"margin-left:40px\">\n",
    "    <input type=\"text\" placeholder=\"int\">\n",
    "</div>\n",
    "<div style=\"margin-left:40px;margin-bottom:40px\">\n",
    "    <input type=\"text\" placeholder=\"3\">\n",
    "</div>\n",
    "\n",
    "\n",
    "```python\n",
    ">>> b = 10\n",
    ">>> c = b > 9\n",
    ">>> c \n",
    "```\n",
    "<div style=\"margin-left:40px\">\n",
    "    <input type=\"text\" placeholder=\"boolean\">\n",
    "</div>\n",
    "<div style=\"margin-left:40px;margin-bottom:40px\">\n",
    "    <input type=\"text\" placeholder=\"True\">\n",
    "</div>"
   ]
  }
 ],
 "metadata": {
  "language_info": {
   "name": "python"
  }
 },
 "nbformat": 4,
 "nbformat_minor": 2
}
