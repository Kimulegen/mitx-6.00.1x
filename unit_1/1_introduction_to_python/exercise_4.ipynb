{
 "cells": [
  {
   "cell_type": "markdown",
   "metadata": {},
   "source": [
    "Definitions:\n",
    "\n",
    "1. Determines whether a string is legal\n",
    "<div style=\"margin-left:40px\">\n",
    "    <input type=\"text\" placeholder=\"Syntax\">\n",
    "</div>\n",
    "\n",
    "2. Determines whether a string has meaning\n",
    "<div style=\"margin-left:40px\">\n",
    "    <input type=\"text\" placeholder=\"Static semantics\">\n",
    "</div>\n",
    "\n",
    "3. Assigns a meaning to a legal sentence\n",
    "<div style=\"margin-left:40px\">\n",
    "    <input type=\"text\" placeholder=\"Semantics\">\n",
    "</div>"
   ]
  }
 ],
 "metadata": {
  "language_info": {
   "name": "python"
  }
 },
 "nbformat": 4,
 "nbformat_minor": 2
}
