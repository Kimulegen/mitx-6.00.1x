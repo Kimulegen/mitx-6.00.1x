{
 "cells": [
  {
   "cell_type": "markdown",
   "metadata": {},
   "source": [
    "Here is some code:"
   ]
  },
  {
   "cell_type": "code",
   "execution_count": null,
   "metadata": {},
   "outputs": [],
   "source": [
    "iteration = 0\n",
    "count = 0\n",
    "while iteration < 5:\n",
    "    for letter in \"hello, world\":\n",
    "        count += 1\n",
    "    print(\"Iteration \" + str(iteration) + \"; count is: \" + str(count))\n",
    "    iteration += 1 "
   ]
  },
  {
   "cell_type": "markdown",
   "metadata": {},
   "source": [
    "We wish to re-write the above code, but instead of nesting a `for` loop inside a `while` loop, we want to nest a `while` loop inside a `for` loop. Which of the following loops gives the same output as the **Code Sample**?\n",
    "\n",
    "Try to answer the following questions by just reading the code. Reading code is a very good skill to have (and will help you both in your programming career and on your exams!). It is okay to check your answers that you obtain from just reading the code, then in your interpreter run the code for the ones you got wrong on your first attempt."
   ]
  },
  {
   "cell_type": "code",
   "execution_count": null,
   "metadata": {},
   "outputs": [],
   "source": [
    "for iteration in range(5):\n",
    "    count = 0\n",
    "    while True:\n",
    "        for letter in \"hello, world\":\n",
    "            count += 1\n",
    "        print(\"Iteration \" + str(iteration) + \"; count is: \" + str(count))"
   ]
  },
  {
   "cell_type": "markdown",
   "metadata": {},
   "source": [
    "<div style=\"margin-top:20px\">\n",
    "    <fieldset style=\"margin:10px;padding:8px\">\n",
    "        <input type=\"radio\" name=\"question\" unchecked/>\n",
    "        Yes, Test 1 gives the same output as the Code Sample\n",
    "    </fieldset>\n",
    "    <fieldset style=\"margin:10px;padding:8px\">\n",
    "        <input type=\"radio\" name=\"question\" checked/>\n",
    "        No, Test 1 does not give the same output as the Code Sample\n",
    "    </fieldset>\n",
    "</div>"
   ]
  },
  {
   "cell_type": "markdown",
   "metadata": {},
   "source": [
    "---"
   ]
  },
  {
   "cell_type": "code",
   "execution_count": null,
   "metadata": {},
   "outputs": [],
   "source": [
    "for iteration in range(5):\n",
    "    count = 0\n",
    "    while True:\n",
    "        for letter in \"hello, world\":\n",
    "            count += 1\n",
    "        print(\"Iteration \" + str(iteration) + \"; count is: \" + str(count))\n",
    "        break"
   ]
  },
  {
   "cell_type": "markdown",
   "metadata": {},
   "source": [
    "<div style=\"margin-top:20px\">\n",
    "    <fieldset style=\"margin:10px;padding:8px\">\n",
    "        <input type=\"radio\" name=\"question\" unchecked/>\n",
    "        Yes, Test 2 gives the same output as the Code Sample\n",
    "    </fieldset>\n",
    "    <fieldset style=\"margin:10px;padding:8px\">\n",
    "        <input type=\"radio\" name=\"question\" checked/>\n",
    "        No, Test 2 does not give the same output as the Code Sample\n",
    "    </fieldset>\n",
    "</div>"
   ]
  },
  {
   "cell_type": "markdown",
   "metadata": {},
   "source": [
    "---"
   ]
  },
  {
   "cell_type": "code",
   "execution_count": null,
   "metadata": {},
   "outputs": [],
   "source": [
    "count = 0\n",
    "phrase = \"hello, world\"\n",
    "for iteration in range(5):\n",
    "    index = 0\n",
    "    while index < len(phrase):\n",
    "        count += 1\n",
    "        index += 1\n",
    "    print(\"Iteration \" + str(iteration) + \"; count is: \" + str(count))"
   ]
  },
  {
   "cell_type": "markdown",
   "metadata": {},
   "source": [
    "<div style=\"margin-top:20px\">\n",
    "    <fieldset style=\"margin:10px;padding:8px\">\n",
    "        <input type=\"radio\" name=\"question\" checked/>\n",
    "        Yes, Test 3 gives the same output as the Code Sample\n",
    "    </fieldset>\n",
    "    <fieldset style=\"margin:10px;padding:8px\">\n",
    "        <input type=\"radio\" name=\"question\" unchecked/>\n",
    "        No, Test 3 does not give the same output as the Code Sample\n",
    "    </fieldset>\n",
    "</div>"
   ]
  },
  {
   "cell_type": "markdown",
   "metadata": {},
   "source": [
    "---"
   ]
  },
  {
   "cell_type": "code",
   "execution_count": null,
   "metadata": {},
   "outputs": [],
   "source": [
    "count = 0\n",
    "phrase = \"hello, world\"\n",
    "for iteration in range(5):\n",
    "    while True:\n",
    "        count += len(phrase)\n",
    "        break\n",
    "    print(\"Iteration \" + str(iteration) + \"; count is: \" + str(count))"
   ]
  },
  {
   "cell_type": "markdown",
   "metadata": {},
   "source": [
    "<div style=\"margin-top:20px\">\n",
    "    <fieldset style=\"margin:10px;padding:8px\">\n",
    "        <input type=\"radio\" name=\"question\" checked/>\n",
    "        Yes, Test 4 gives the same output as the Code Sample\n",
    "    </fieldset>\n",
    "    <fieldset style=\"margin:10px;padding:8px\">\n",
    "        <input type=\"radio\" name=\"question\" unchecked/>\n",
    "        No, Test 4 does not give the same output as the Code Sample\n",
    "    </fieldset>\n",
    "</div>"
   ]
  },
  {
   "cell_type": "markdown",
   "metadata": {},
   "source": [
    "---"
   ]
  },
  {
   "cell_type": "code",
   "execution_count": null,
   "metadata": {},
   "outputs": [],
   "source": [
    "count = 0\n",
    "phrase = \"hello, world\"\n",
    "for iteration in range(5):\n",
    "    count += len(phrase)\n",
    "    print(\"Iteration \" + str(iteration) + \"; count is: \" + str(count))"
   ]
  },
  {
   "cell_type": "markdown",
   "metadata": {},
   "source": [
    "<div style=\"margin-top:20px\">\n",
    "    <fieldset style=\"margin:10px;padding:8px\">\n",
    "        <input type=\"radio\" name=\"question\" checked/>\n",
    "        Yes, Test 5 gives the same output as the Code Sample\n",
    "    </fieldset>\n",
    "    <fieldset style=\"margin:10px;padding:8px\">\n",
    "        <input type=\"radio\" name=\"question\" unchecked/>\n",
    "        No, Test 5 does not give the same output as the Code Sample\n",
    "    </fieldset>\n",
    "</div>"
   ]
  }
 ],
 "metadata": {
  "language_info": {
   "name": "python"
  }
 },
 "nbformat": 4,
 "nbformat_minor": 2
}
