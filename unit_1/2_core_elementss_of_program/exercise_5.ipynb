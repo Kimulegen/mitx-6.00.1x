{
 "cells": [
  {
   "cell_type": "markdown",
   "metadata": {},
   "source": [
    "Below are some short Python programs. For each program, answer the associated question.\n",
    "\n",
    "Try to answer the questions without running the code. Check your answers, then run the code for the ones you get wrong.\n",
    "\n",
    "This question is going to ask you what some simple loops print out. If you're asked what code like this prints:"
   ]
  },
  {
   "cell_type": "code",
   "execution_count": null,
   "metadata": {},
   "outputs": [],
   "source": [
    "num = 5\n",
    "if num > 2:\n",
    "    print(num)\n",
    "    num -= 1\n",
    "print(num)"
   ]
  },
  {
   "cell_type": "markdown",
   "metadata": {},
   "source": [
    "write what it prints out, separating what appears on a new line by a comma and a space. So the answer for the above code would be:"
   ]
  },
  {
   "cell_type": "code",
   "execution_count": null,
   "metadata": {},
   "outputs": [],
   "source": [
    "5, 4"
   ]
  },
  {
   "cell_type": "markdown",
   "metadata": {},
   "source": [
    "If a given loop will not terminate, write the phrase 'infinite loop' in the box.\n",
    "\n",
    "\n",
    "```python\n",
    "num = 10\n",
    "for num in range(5):\n",
    "    print(num)\n",
    "print(num)\n",
    "```\n",
    "<div style=\"margin-bottom:40px\">\n",
    "    <input type=\"text\" placeholder=\"0, 1, 2, 3, 4, 4\">\n",
    "</div>\n",
    "\n",
    "---\n",
    "\n",
    "```python\n",
    "divisor = 2\n",
    "for num in range(0, 10, 2):\n",
    "    print(num/divisor) \n",
    "```\n",
    "<div style=\"margin-bottom:40px\">\n",
    "    <input type=\"text\" placeholder=\"0.0, 1.0, 2.0, 3.0, 4.0\">\n",
    "</div>\n",
    "\n",
    "---\n",
    "\n",
    "```python\n",
    "for variable in range(20):\n",
    "    if variable % 4 == 0:\n",
    "        print(variable)\n",
    "    if variable % 16 == 0:\n",
    "        print('Foo!') \n",
    "```\n",
    "<div style=\"margin-bottom:40px\">\n",
    "    <input type=\"text\" placeholder=\"0, Foo!, 4, 8, 12, 16, Foo!\">\n",
    "</div>\n",
    "\n",
    "---\n",
    "\n",
    "```python\n",
    "for letter in 'hola':\n",
    "    print(letter)  \n",
    "```\n",
    "<div style=\"margin-bottom:40px\">\n",
    "    <input type=\"text\" placeholder=\"h, o, l, a\">\n",
    "</div>\n",
    "\n",
    "---\n",
    "\n",
    "```python\n",
    "count = 0\n",
    "for letter in 'Snow!':\n",
    "    print('Letter # ' + str(count) + ' is ' + str(letter))\n",
    "    count += 1\n",
    "    break\n",
    "print(count)\n",
    "```\n",
    "<div style=\"margin-bottom:40px\">\n",
    "    <input type=\"text\" placeholder=\"Letter # 0 is S, 1\">\n",
    "</div>"
   ]
  }
 ],
 "metadata": {
  "language_info": {
   "name": "python"
  }
 },
 "nbformat": 4,
 "nbformat_minor": 2
}
