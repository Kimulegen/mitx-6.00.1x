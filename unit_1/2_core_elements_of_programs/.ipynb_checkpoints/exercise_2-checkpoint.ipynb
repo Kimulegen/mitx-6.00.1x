{
 "cells": [
  {
   "cell_type": "markdown",
   "metadata": {},
   "source": [
    "You've seen in lecture that you can slice a string with a call such as s[i:j], which gives you a portion of string s from index i to index j-1. However this is not the only way to slice a string! If you omit the starting index, Python will assume that you wish to start your slice at index 0. If you omit the ending index, Python will assume you wish to end your slice at the end of the string. Check out this session with the Python shell:\n",
    "\n",
    "```python\n",
    ">>> s = 'Python is Fun!'\n",
    ">>> s[1:5]\n",
    "'ytho'\n",
    ">>> s[:5]\n",
    "'Pytho'\n",
    ">>> s[1:]\n",
    "'ython is Fun!'\n",
    ">>> s[:]\n",
    "'Python is Fun!'\n",
    "```\n",
    "\n",
    "That last example is interesting! If you omit both the start and ending index, you get your original string!\n",
    "\n",
    "There's one other cool thing you can do with string slicing. You can add a third parameter, k, like this: s[i:j:k]. This gives a slice of the string s from index i to index j-1, with step size k. Check out the following examples:\n",
    "\n",
    "```python\n",
    ">>> s = 'Python is Fun!'\n",
    ">>> s[1:12:2]\n",
    "'yhni u'\n",
    ">>> s[1:12:3]\n",
    "'yoiF'\n",
    ">>> s[::2]\n",
    "'Pto sFn'\n",
    "```\n",
    "\n",
    "The last example is similar to the example s[:]. With s[::2], we're asking for the full string s (from index 0 through 13), with a step size of 2 - so we end up with every other character in s. Pretty cool!\n"
   ]
  },
  {
   "cell_type": "markdown",
   "metadata": {},
   "source": [
    "Note: The Python 'in' operator\n",
    "\n",
    "The operators `in` and `not` in test for collection membership (a 'collection' refers to a string, list, tuple or dictionary - don't worry, we will cover lists, tuples and dictionaries soon!). The expression\n",
    "\n",
    "`element in coll`\n",
    "\n",
    "evaluates to `True` if element is a member of the collection coll, and `False` otherwise.\n",
    "\n",
    "The expression\n",
    "\n",
    "`element not in coll`\n",
    "\n",
    "evaluates to `True` if element is **not** a member of the collection coll, and `False` otherwise.\n",
    "\n",
    "Note this returns the negation of `element in coll` - that is, the expression `element not in coll` is equivalent to the expression `not (element in coll)`."
   ]
  },
  {
   "cell_type": "markdown",
   "metadata": {},
   "source": [
    "### Part 1\n",
    "For each of the expressions below, specify its type and value. If it generates an error, select type 'NoneType' and write the word 'error' (note this is a word, not a string, no quotes) in the box for the value. While you could simply type these expressions into your IDE, we encourage you to answer them directly since this will help reinforce your understand of basic Python expressions.\n",
    "\n",
    "Assume we've made the following assignments:"
   ]
  },
  {
   "cell_type": "code",
   "execution_count": null,
   "metadata": {},
   "outputs": [],
   "source": [
    "str1 = 'hello'\n",
    "str2 = ','\n",
    "str3 = 'world'"
   ]
  },
  {
   "cell_type": "markdown",
   "metadata": {},
   "source": [
    "- `str`\n",
    "<div>\n",
    "    <input type=\"text\" placeholder=\"string\" style=\"display:block\">\n",
    "    <input type=\"text\" placeholder=\"hello\" style=\"display:block\">\n",
    "</div>"
   ]
  },
  {
   "cell_type": "markdown",
   "metadata": {},
   "source": [
    "- `str1[0]`\n",
    "<div>\n",
    "    <input type=\"text\" placeholder=\"string\" style=\"display:block\">\n",
    "    <input type=\"text\" placeholder=\"h\" style=\"display:block\">\n",
    "</div>"
   ]
  },
  {
   "cell_type": "markdown",
   "metadata": {},
   "source": [
    "- `str1[1]`\n",
    "<div>\n",
    "    <input type=\"text\" placeholder=\"string\" style=\"display:block\">\n",
    "    <input type=\"text\" placeholder=\"e\" style=\"display:block\">\n",
    "</div>"
   ]
  },
  {
   "cell_type": "markdown",
   "metadata": {},
   "source": [
    "- `str1[-1]`\n",
    "<div>\n",
    "    <input type=\"text\" placeholder=\"string\" style=\"display:block\">\n",
    "    <input type=\"text\" placeholder=\"o\" style=\"display:block\">\n",
    "</div>"
   ]
  },
  {
   "cell_type": "markdown",
   "metadata": {},
   "source": [
    "- `len(str1)`\n",
    "<div>\n",
    "    <input type=\"text\" placeholder=\"int\" style=\"display:block\">\n",
    "    <input type=\"text\" placeholder=\"5\" style=\"display:block\">\n",
    "</div>"
   ]
  },
  {
   "cell_type": "markdown",
   "metadata": {},
   "source": [
    "### Part 2\n",
    "For each of the expressions below, specify its type and value. If it generates an error, select type 'NoneType' and write the word 'error' (note this is a word, not a string, no quotes) in the box for the value. While you could simply type these expressions into your IDE, we encourage you to answer them directly since this will help reinforce your understand of basic Python expressions.\n",
    "\n",
    "Assume we've made the following assignments:"
   ]
  },
  {
   "cell_type": "code",
   "execution_count": null,
   "metadata": {},
   "outputs": [],
   "source": [
    "str1 = 'hello'\n",
    "str2 = ','\n",
    "str3 = 'world'"
   ]
  },
  {
   "cell_type": "markdown",
   "metadata": {},
   "source": [
    "- `str1[len(str1)]`\n",
    "<div>\n",
    "    <input type=\"text\" placeholder=\"NoneType\" style=\"display:block\">\n",
    "    <input type=\"text\" placeholder=\"error\" style=\"display:block\">\n",
    "</div>\n"
   ]
  },
  {
   "cell_type": "markdown",
   "metadata": {},
   "source": [
    "- `str1 + str2 + str3`\n",
    "<div>\n",
    "    <input type=\"text\" placeholder=\"string\" style=\"display:block\">\n",
    "    <input type=\"text\" placeholder=\"hello,world\" style=\"display:block\">\n",
    "</div>"
   ]
  },
  {
   "cell_type": "markdown",
   "metadata": {},
   "source": [
    "- `str1 + str2 + ' ' + str3`\n",
    "<div>\n",
    "    <input type=\"text\" placeholder=\"string\" style=\"display:block\">\n",
    "    <input type=\"text\" placeholder=\"hello, world\" style=\"display:block\">\n",
    "</div>"
   ]
  },
  {
   "cell_type": "markdown",
   "metadata": {},
   "source": [
    "- `str3 * 3`\n",
    "<div>\n",
    "    <input type=\"text\" placeholder=\"string\" style=\"display:block\">\n",
    "    <input type=\"text\" placeholder=\"worldworldworld\" style=\"display:block\">\n",
    "</div>"
   ]
  },
  {
   "cell_type": "markdown",
   "metadata": {},
   "source": [
    "- `'hello' == str1`\n",
    "<div>\n",
    "    <input type=\"text\" placeholder=\"boolean\" style=\"display:block\">\n",
    "    <input type=\"text\" placeholder=\"True\" style=\"display:block\">\n",
    "</div>"
   ]
  },
  {
   "cell_type": "markdown",
   "metadata": {},
   "source": [
    "### Part 3\n",
    "For each of the expressions below, specify its type and value. If it generates an error, select type 'NoneType' and write the word 'error' (note this is a word, not a string, no quotes) in the box for the value. While you could simply type these expressions into your IDE, we encourage you to answer them directly since this will help reinforce your understand of basic Python expressions.\n",
    "\n",
    "Assume we've made the following assignments:"
   ]
  },
  {
   "cell_type": "code",
   "execution_count": 8,
   "metadata": {},
   "outputs": [],
   "source": [
    "str1 = 'hello'\n",
    "str2 = ','\n",
    "str3 = 'world'"
   ]
  },
  {
   "cell_type": "markdown",
   "metadata": {},
   "source": [
    "- `'HELLO' == str1`\n",
    "<div>\n",
    "    <input type=\"text\" placeholder=\"boolean\" style=\"display:block\">\n",
    "    <input type=\"text\" placeholder=\"False\" style=\"display:block\">\n",
    "</div>"
   ]
  },
  {
   "cell_type": "markdown",
   "metadata": {},
   "source": [
    "- `'a' in str3`\n",
    "<div>\n",
    "    <input type=\"text\" placeholder=\"boolean\" style=\"display:block\">\n",
    "    <input type=\"text\" placeholder=\"False\" style=\"display:block\">\n",
    "</div>"
   ]
  },
  {
   "cell_type": "markdown",
   "metadata": {},
   "source": [
    "- `str4 = str1 + str3`\n",
    "\n",
    "<code style=\"margin-left:25px\">'low' in str4</code>\n",
    "\n",
    "<div style=\"margin-left:25px\">\n",
    "    <input type=\"text\" placeholder=\"boolean\" style=\"display:block\">\n",
    "    <input type=\"text\" placeholder=\"True\" style=\"display:block\">\n",
    "</div>"
   ]
  },
  {
   "cell_type": "markdown",
   "metadata": {},
   "source": [
    "- `str3[1:3]`\n",
    "<div>\n",
    "    <input type=\"text\" placeholder=\"string\" style=\"display:block\">\n",
    "    <input type=\"text\" placeholder=\"or\" style=\"display:block\">\n",
    "</div>"
   ]
  },
  {
   "cell_type": "markdown",
   "metadata": {},
   "source": [
    "- `str3[:3]`\n",
    "<div>\n",
    "    <input type=\"text\" placeholder=\"string\" style=\"display:block\">\n",
    "    <input type=\"text\" placeholder=\"wor\" style=\"display:block\">\n",
    "</div>"
   ]
  },
  {
   "cell_type": "markdown",
   "metadata": {},
   "source": [
    "### Part 4\n",
    "For each of the expressions below, specify its type and value. If it generates an error, select type 'NoneType' and write the word 'error' (note this is a word, not a string, no quotes) in the box for the value. While you could simply type these expressions into your IDE, we encourage you to answer them directly since this will help reinforce your understand of basic Python expressions.\n",
    "\n",
    "Assume we've made the following assignments:"
   ]
  },
  {
   "cell_type": "code",
   "execution_count": null,
   "metadata": {},
   "outputs": [],
   "source": [
    "str1 = 'hello'\n",
    "str2 = ','\n",
    "str3 = 'world'\n",
    "str4 = str1 + str3"
   ]
  },
  {
   "cell_type": "markdown",
   "metadata": {},
   "source": [
    "- `str3[:-1]`\n",
    "<div>\n",
    "    <input type=\"text\" placeholder=\"string\" style=\"display:block\">\n",
    "    <input type=\"text\" placeholder=\"worl\" style=\"display:block\">\n",
    "</div>"
   ]
  },
  {
   "cell_type": "markdown",
   "metadata": {},
   "source": [
    "- `str1[1:]`\n",
    "<div>\n",
    "    <input type=\"text\" placeholder=\"string\" style=\"display:block\">\n",
    "    <input type=\"text\" placeholder=\"ello\" style=\"display:block\">\n",
    "</div>"
   ]
  },
  {
   "cell_type": "markdown",
   "metadata": {},
   "source": [
    "- `str4[1:9]`\n",
    "<div>\n",
    "    <input type=\"text\" placeholder=\"string\" style=\"display:block\">\n",
    "    <input type=\"text\" placeholder=\"elloworl\" style=\"display:block\">\n",
    "</div>"
   ]
  },
  {
   "cell_type": "markdown",
   "metadata": {},
   "source": [
    "- `str4[1:9:2]`\n",
    "<div>\n",
    "    <input type=\"text\" placeholder=\"string\" style=\"display:block\">\n",
    "    <input type=\"text\" placeholder=\"elwr\" style=\"display:block\">\n",
    "</div>\n"
   ]
  },
  {
   "cell_type": "markdown",
   "metadata": {},
   "source": [
    "- `str4[::-1]`\n",
    "<div>\n",
    "    <input type=\"text\" placeholder=\"string\" style=\"display:block\">\n",
    "    <input type=\"text\" placeholder=\"dlrowolleh\" style=\"display:block\">\n",
    "</div>"
   ]
  }
 ],
 "metadata": {
  "kernelspec": {
   "display_name": "Python 3 (ipykernel)",
   "language": "python",
   "name": "python3"
  },
  "language_info": {
   "codemirror_mode": {
    "name": "ipython",
    "version": 3
   },
   "file_extension": ".py",
   "mimetype": "text/x-python",
   "name": "python",
   "nbconvert_exporter": "python",
   "pygments_lexer": "ipython3",
   "version": "3.11.7"
  }
 },
 "nbformat": 4,
 "nbformat_minor": 4
}
