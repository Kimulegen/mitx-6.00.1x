{
 "cells": [
  {
   "cell_type": "markdown",
   "metadata": {},
   "source": [
    "In this problem you'll be given a chance to practice writing some while loops.\n",
    "\n",
    "1. Convert the following into code that uses a while loop.\n",
    "\n",
    "    prints `2`<br>\n",
    "    prints `4`<br>\n",
    "    prints `6`<br>\n",
    "    prints `8`<br>\n",
    "    prints `10`<br>\n",
    "    prints `Goodbye!`\n",
    "\n"
   ]
  },
  {
   "cell_type": "code",
   "execution_count": null,
   "metadata": {},
   "outputs": [],
   "source": [
    "for i in range(2, 11, 2):\n",
    "    print(i)\n",
    "else:\n",
    "    print('Goodbye!')"
   ]
  },
  {
   "cell_type": "markdown",
   "metadata": {},
   "source": [
    "---"
   ]
  },
  {
   "cell_type": "markdown",
   "metadata": {},
   "source": [
    "2. Convert the following into code that uses a while loop.\n",
    "\n",
    "    prints `Hello!`<br>\n",
    "    prints `10`<br>\n",
    "    prints `8`<br>\n",
    "    prints `6`<br>\n",
    "    prints `4`<br>\n",
    "    prints `2`<br>\n",
    "\n"
   ]
  },
  {
   "cell_type": "code",
   "execution_count": null,
   "metadata": {},
   "outputs": [],
   "source": [
    "print('Hello!')\n",
    "for i in range(10, 1, -2):\n",
    "    print(i)"
   ]
  },
  {
   "cell_type": "markdown",
   "metadata": {},
   "source": [
    "---"
   ]
  },
  {
   "cell_type": "markdown",
   "metadata": {},
   "source": [
    "3. Write a while loop that sums the values 1 through `end`, inclusive. `end` is a variable that we define for you. So, for example, if we define `end` to be 6, your code should print out the result:"
   ]
  },
  {
   "cell_type": "code",
   "execution_count": null,
   "metadata": {},
   "outputs": [],
   "source": [
    "21"
   ]
  },
  {
   "cell_type": "markdown",
   "metadata": {},
   "source": [
    "<div style=\"margin-left:40px\">\n",
    "which is 1 + 2 + 3 + 4 + 5 + 6.\n",
    "\n",
    "For problems such as these, do not include `input` statements or define variables we will provide for you. Our automating testing will provide values so write your code in the following box assuming these variables are already defined.\n",
    "</div>"
   ]
  },
  {
   "cell_type": "code",
   "execution_count": null,
   "metadata": {},
   "outputs": [],
   "source": [
    "suma = 0\n",
    "for i in range(1, end+1):\n",
    "    suma += i\n",
    "print(suma)"
   ]
  }
 ],
 "metadata": {
  "language_info": {
   "name": "python"
  }
 },
 "nbformat": 4,
 "nbformat_minor": 2
}
