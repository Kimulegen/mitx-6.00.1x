{
 "cells": [
  {
   "cell_type": "markdown",
   "metadata": {},
   "source": [
    "Consider the following code specification:"
   ]
  },
  {
   "cell_type": "code",
   "execution_count": null,
   "metadata": {},
   "outputs": [],
   "source": [
    "def size(aSet):\n",
    "   \"\"\"\n",
    "   aSet is a collection of objects, which might be empty.\n",
    "   Objects are assumed to be of the same type.\n",
    "   \"\"\"\n",
    "   pass"
   ]
  },
  {
   "cell_type": "markdown",
   "metadata": {},
   "source": [
    "Here is a set of possible test cases to include in a black box test suite. Indicate which of the following conditions would make a good black box test suite for the function `size` by clicking on the appropriate choice(s)."
   ]
  },
  {
   "cell_type": "markdown",
   "metadata": {},
   "source": [
    "**Review: Black Box Test Suites**\n",
    "\n",
    "Black-box testing is a method of software testing that tests the _functionality_ of an application. Recall from the lecture that a way to think about black-box testing is to look at both:\n",
    "\n",
    "The possible paths through the specification.\n",
    "The possible boundary cases."
   ]
  },
  {
   "cell_type": "markdown",
   "metadata": {},
   "source": [
    "Undoubtably many - if not all - of the listed tests look like they would be pretty good for testing the function `size`. However, we want you to think critically about the way `size` is specified - including possible boundary cases - and pick a set of tests that adequately and fully tests all paths and boundary conditions. Be sure the set of tests you pick does not have extraneous, useless, or repetitive tests.\n",
    "\n",
    "<div style=\"margin-top:20px\">\n",
    "    <fieldset style=\"margin:10px;padding:8px\">\n",
    "        <input type=\"checkbox\" name=\"question\" checked />\n",
    "        Empty set\n",
    "    </fieldset>\n",
    "    <fieldset style=\"margin:10px;padding:8px\">\n",
    "        <input type=\"checkbox\" name=\"question\" checked/> \n",
    "        Set of size 1\n",
    "    </fieldset>\n",
    "    <fieldset style=\"margin:10px;padding:8px\">\n",
    "        <input type=\"checkbox\" name=\"question\" unchecked/> \n",
    "        Set of odd size\n",
    "    </fieldset>\n",
    "    <fieldset style=\"margin:10px;padding:8px\">\n",
    "        <input type=\"checkbox\" name=\"question\" unchecked/> \n",
    "        Set of even size\n",
    "    </fieldset>\n",
    "        <fieldset style=\"margin:10px;padding:8px\">\n",
    "        <input type=\"checkbox\" name=\"question\" checked/> \n",
    "        Set of size greater than 1\n",
    "    </fieldset>\n",
    "        <fieldset style=\"margin:10px;padding:8px\">\n",
    "        <input type=\"checkbox\" name=\"question\" unchecked/> \n",
    "        Set whose size is a prime number\n",
    "    </fieldset>\n",
    "</div>"
   ]
  }
 ],
 "metadata": {
  "language_info": {
   "name": "python"
  }
 },
 "nbformat": 4,
 "nbformat_minor": 2
}
