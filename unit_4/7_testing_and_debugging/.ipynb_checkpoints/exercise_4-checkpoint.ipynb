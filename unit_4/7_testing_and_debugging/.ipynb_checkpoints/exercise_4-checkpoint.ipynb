{
 "cells": [
  {
   "cell_type": "markdown",
   "metadata": {},
   "source": [
    "Consider the following function definition:"
   ]
  },
  {
   "cell_type": "code",
   "execution_count": null,
   "metadata": {},
   "outputs": [],
   "source": [
    "def union(set1, set2):\n",
    "   \"\"\"\n",
    "   set1 and set2 are collections of objects, each of which might be empty.\n",
    "   Each set has no duplicates within itself, but there may be objects that\n",
    "   are in both sets. Objects are assumed to be of the same type.\n",
    "\n",
    "   This function returns one set containing all elements from\n",
    "   both input sets, but with no duplicates.\n",
    "   \"\"\"\n",
    "   if len(set1) == 0:\n",
    "      return set2\n",
    "   elif set1[0] in set2:\n",
    "      return union(set1[1:], set2)\n",
    "   else:\n",
    "      return set1[0] + union(set1[1:], set2)"
   ]
  },
  {
   "cell_type": "markdown",
   "metadata": {},
   "source": [
    "Assume that `union` is called with strings as arguments.\n",
    "\n",
    "Please select the best glass box test suite for the function `union` from the following options:\n",
    "\n",
    "<div style=\"margin-top:20px\">\n",
    "    <fieldset style=\"margin:10px;padding:8px\">\n",
    "        <input type=\"radio\" name=\"question\" unchecked />\n",
    "        Test Suite A: <code>union('','')</code>, <code>union('','a')</code>, <code>union('','ab')</code>, <code>union('a','')</code>, <code>union('a','b')</code>, <code>union('c','ab')</code>, <code>union('de','')</code>, <code>union('ab','c')</code>, <code>union('cd','ab')</code>\n",
    "    </fieldset>\n",
    "    <fieldset style=\"margin:10px;padding:8px\">\n",
    "        <input type=\"radio\" name=\"question\" unchecked/> \n",
    "        Test Suite B: <code>union('abc','')</code>, <code>union('abc','a')</code>, <code>union('abc','ab')</code>, <code>union('abc','d')</code>, <code>union('abc', 'abcd')</code>\n",
    "    </fieldset>\n",
    "    <fieldset style=\"margin:10px;padding:8px\">\n",
    "        <input type=\"radio\" name=\"question\" unchecked/> \n",
    "        Test Suite C: <code>union('','abc')</code>, <code>union('a','abc')</code>, <code>union('ab','abc')</code>, <code>union('abc','abc')</code>\n",
    "    </fieldset>\n",
    "    <fieldset style=\"margin:10px;padding:8px\">\n",
    "        <input type=\"radio\" name=\"question\" checked/> \n",
    "        Test Suite D: <code>union('','abc')</code>, <code>union('a','abc')</code>, <code>union('ab','abc')</code>, <code>union('d','abc')</code>\n",
    "    </fieldset>\n",
    "</div>\n"
   ]
  }
 ],
 "metadata": {
  "kernelspec": {
   "display_name": "Python 3 (ipykernel)",
   "language": "python",
   "name": "python3"
  },
  "language_info": {
   "codemirror_mode": {
    "name": "ipython",
    "version": 3
   },
   "file_extension": ".py",
   "mimetype": "text/x-python",
   "name": "python",
   "nbconvert_exporter": "python",
   "pygments_lexer": "ipython3",
   "version": "3.11.7"
  }
 },
 "nbformat": 4,
 "nbformat_minor": 4
}
