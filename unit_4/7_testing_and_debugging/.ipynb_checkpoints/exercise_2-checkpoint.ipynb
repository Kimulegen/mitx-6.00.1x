{
 "cells": [
  {
   "cell_type": "markdown",
   "metadata": {},
   "source": [
    "Consider the following code specification:"
   ]
  },
  {
   "cell_type": "code",
   "execution_count": null,
   "metadata": {},
   "outputs": [],
   "source": [
    "def union(set1, set2):\n",
    "   \"\"\"\n",
    "   set1 and set2 are collections of objects, each of which might be empty.\n",
    "   Each set has no duplicates within itself, but there may be objects that\n",
    "   are in both sets. Objects are assumed to be of the same type.\n",
    "\n",
    "   This function returns one set containing all elements from\n",
    "   both input sets, but with no duplicates.\n",
    "   \"\"\"\n",
    "   pass"
   ]
  },
  {
   "cell_type": "markdown",
   "metadata": {},
   "source": [
    "Indicate which of the conditions below would combine to make a good black box test suite for the function `union` by selecting the appropriate choice(s).\n",
    "<div style=\"margin-top:20px\">\n",
    "    <fieldset style=\"margin:10px;padding:8px\">\n",
    "        <input type=\"checkbox\" name=\"question\" checked />\n",
    "        <code>set1</code> is an empty set; <code>set2</code> is an empty set\n",
    "    </fieldset>\n",
    "    <fieldset style=\"margin:10px;padding:8px\">\n",
    "        <input type=\"checkbox\" name=\"question\" checked/> \n",
    "        <code>set1</code> is an empty set; <code>set2</code> is of size greater than or equal to 1\n",
    "    </fieldset>\n",
    "    <fieldset style=\"margin:10px;padding:8px\">\n",
    "        <input type=\"checkbox\" name=\"question\" checked/> \n",
    "        <code>set1</code> is of size greater than or equal to 1; <code>set2</code> is an empty set\n",
    "    </fieldset>\n",
    "    <fieldset style=\"margin:10px;padding:8px\">\n",
    "        <input type=\"checkbox\" name=\"question\" checked/> \n",
    "        <code>set1</code> and <code>set2</code> are both nonempty sets which do not contain any objects in common\n",
    "    </fieldset>\n",
    "        <fieldset style=\"margin:10px;padding:8px\">\n",
    "        <input type=\"checkbox\" name=\"question\" checked/> \n",
    "        <code>set1</code> and <code>set2</code> are both nonempty sets which contain objects in common\n",
    "    </fieldset>\n",
    "</div>"
   ]
  }
 ],
 "metadata": {
  "kernelspec": {
   "display_name": "Python 3 (ipykernel)",
   "language": "python",
   "name": "python3"
  },
  "language_info": {
   "codemirror_mode": {
    "name": "ipython",
    "version": 3
   },
   "file_extension": ".py",
   "mimetype": "text/x-python",
   "name": "python",
   "nbconvert_exporter": "python",
   "pygments_lexer": "ipython3",
   "version": "3.11.7"
  }
 },
 "nbformat": 4,
 "nbformat_minor": 4
}
