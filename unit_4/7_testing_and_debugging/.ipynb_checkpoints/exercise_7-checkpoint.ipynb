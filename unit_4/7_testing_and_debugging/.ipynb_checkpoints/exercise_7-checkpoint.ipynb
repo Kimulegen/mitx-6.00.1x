{
 "cells": [
  {
   "cell_type": "markdown",
   "metadata": {},
   "source": [
    "Consider the following function definition:"
   ]
  },
  {
   "cell_type": "code",
   "execution_count": null,
   "metadata": {},
   "outputs": [],
   "source": [
    "def f(n):\n",
    "   \"\"\"\n",
    "   n: integer, n >= 0.\n",
    "   \"\"\"\n",
    "   if n == 0:\n",
    "      return n\n",
    "   else:\n",
    "      return n * f(n-1)"
   ]
  },
  {
   "cell_type": "markdown",
   "metadata": {},
   "source": [
    "When we call `f(3)` we expect the result 6, but we get 0.\n",
    "\n",
    "When we call `f(1)` we expect the result 1, but we get 0.\n",
    "\n",
    "When we call `f(0)` we expect the result 1, but we get 0.\n",
    "\n",
    "Using this information, choose what line of code should be changed from the following choices:\n",
    "\n",
    "<div style=\"margin-top:20px\">\n",
    "    <fieldset style=\"margin:10px;padding:8px\">\n",
    "        <input type=\"radio\" name=\"question\" unchecked />\n",
    "        <code>if n == 0:</code>\n",
    "    </fieldset>\n",
    "    <fieldset style=\"margin:10px;padding:8px\">\n",
    "        <input type=\"radio\" name=\"question\" checked/> \n",
    "        <code>return n</code>\n",
    "    </fieldset>\n",
    "    <fieldset style=\"margin:10px;padding:8px\">\n",
    "        <input type=\"radio\" name=\"question\" unchecked/> \n",
    "        <code>else:</code>\n",
    "    </fieldset>\n",
    "    <fieldset style=\"margin:10px;padding:8px\">\n",
    "        <input type=\"radio\" name=\"question\" unchecked/> \n",
    "        <code>return n * f(n-1)</code>\n",
    "    </fieldset>\n",
    "</div>\n",
    "\n",
    "How should this line be rewritten?\n",
    "<div style=\"margin-top:20px;display:flex\">\n",
    "    <fieldset style=\"margin:10px;min-width:33%\">\n",
    "        <code>return 1</code>\n",
    "    </fieldset>\n",
    "</div>\n"
   ]
  }
 ],
 "metadata": {
  "kernelspec": {
   "display_name": "Python 3 (ipykernel)",
   "language": "python",
   "name": "python3"
  },
  "language_info": {
   "codemirror_mode": {
    "name": "ipython",
    "version": 3
   },
   "file_extension": ".py",
   "mimetype": "text/x-python",
   "name": "python",
   "nbconvert_exporter": "python",
   "pygments_lexer": "ipython3",
   "version": "3.11.7"
  }
 },
 "nbformat": 4,
 "nbformat_minor": 4
}
