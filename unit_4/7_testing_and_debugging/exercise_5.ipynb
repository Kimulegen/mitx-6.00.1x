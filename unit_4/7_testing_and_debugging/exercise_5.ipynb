{
 "cells": [
  {
   "cell_type": "markdown",
   "metadata": {},
   "source": [
    "Consider the following function definition:"
   ]
  },
  {
   "cell_type": "code",
   "execution_count": null,
   "metadata": {},
   "outputs": [],
   "source": [
    "def foo(x, a):\n",
    "   \"\"\"\n",
    "   x: a positive integer argument\n",
    "   a: a positive integer argument\n",
    "\n",
    "   returns an integer\n",
    "   \"\"\"\n",
    "   count = 0\n",
    "   while x >= a:\n",
    "      count += 1\n",
    "      x = x - a\n",
    "   return count"
   ]
  },
  {
   "cell_type": "markdown",
   "metadata": {},
   "source": [
    "Please select the best glass box test suite for the function foo from the following options.\n",
    "<div style=\"margin-top:20px\">\n",
    "    <fieldset style=\"margin:10px;padding:8px\">\n",
    "        <input type=\"radio\" name=\"question\" unchecked />\n",
    "        Test Suite A: <code>foo(2, 5)</code>, <code>foo(5, 6)</code>, <code>foo(9, 7)</code>\n",
    "    </fieldset>\n",
    "    <fieldset style=\"margin:10px;padding:8px\">\n",
    "        <input type=\"radio\" name=\"question\" checked/> \n",
    "        Test Suite B: <code>foo(10, 3)</code>, <code>foo(1, 4)</code>, <code>foo(10, 6)</code>\n",
    "    </fieldset>\n",
    "    <fieldset style=\"margin:10px;padding:8px\">\n",
    "        <input type=\"radio\" name=\"question\" unchecked/> \n",
    "        Test Suite C: <code>foo(100, 5)</code>, <code>foo(96, 5)</code>, <code>foo(22, 5)</code>\n",
    "    </fieldset>\n",
    "</div>\n",
    "\n",
    "\n",
    "\n"
   ]
  }
 ],
 "metadata": {
  "language_info": {
   "name": "python"
  }
 },
 "nbformat": 4,
 "nbformat_minor": 2
}
