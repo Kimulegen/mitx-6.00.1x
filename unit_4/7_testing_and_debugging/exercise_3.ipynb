{
 "cells": [
  {
   "cell_type": "markdown",
   "metadata": {},
   "source": [
    "Consider the following function definition:"
   ]
  },
  {
   "cell_type": "code",
   "execution_count": null,
   "metadata": {},
   "outputs": [],
   "source": [
    "def maxOfThree(a,b,c) :\n",
    "    \"\"\"\n",
    "    a, b, and c are numbers\n",
    "\n",
    "    returns: the maximum of a, b, and c        \n",
    "    \"\"\"\n",
    "    if a > b:\n",
    "        bigger = a\n",
    "\n",
    "    else:\n",
    "        bigger = b\n",
    "\n",
    "    if c > bigger:\n",
    "        bigger = c\n",
    "\n",
    "    return bigger"
   ]
  },
  {
   "cell_type": "markdown",
   "metadata": {},
   "source": [
    "Assume that `maxOfThree` is called with numbers as arguments.\n",
    "\n",
    "Which of the following test suites would make a path-complete glass box test suite for `maxOfThree`?"
   ]
  },
  {
   "cell_type": "markdown",
   "metadata": {},
   "source": [
    "**Review: Glass Box Test Suites**\n",
    "\n",
    "Recall from the lecture that a path-complete glass box test suite would find test cases that go through every possible path in the code. This is different from black-box testing, because in black-box testing you only have the function specification. For glass-box testing, you actually know how the function you are testing is defined. Thus you can use this definition to figure out how many different paths through the code exist, and then pick a test suite based on that knowledge."
   ]
  },
  {
   "cell_type": "markdown",
   "metadata": {},
   "source": [
    "Undoubtably many - if not all - of the listed tests look like they would be pretty good for testing the function `maxOfThree`. However, we want you to think critically about the way `maxOfThree` is defined - including possible boundary cases - and pick a set of tests that adequately and fully tests all paths and boundary conditions. A good first step will be to look at the function definition and figure out what paths through the code exist. Then, look through the suggested test suites one test at a time and see if the suite tests every single path.\n",
    "\n",
    "<div style=\"margin-top:20px\">\n",
    "    <fieldset style=\"margin:10px;padding:8px\">\n",
    "        <input type=\"radio\" name=\"question\" checked />\n",
    "        Test Suite A: <code>maxOfThree(2, -10, 100)</code>, <code>maxOfThree(7, 9, 10)</code>, <code>maxOfThree(6, 1, 5)</code>, <code>maxOfThree(0, 40, 20)</code>\n",
    "    </fieldset>\n",
    "    <fieldset style=\"margin:10px;padding:8px\">\n",
    "        <input type=\"radio\" name=\"question\" unchecked/> \n",
    "        Test Suite B: <code>maxOfThree(10, 100, -20)</code>, <code>maxOfThree(99, 0, 20)</code>, <code>maxOfThree(1, 60, 300)</code>\n",
    "    </fieldset>\n",
    "    <fieldset style=\"margin:10px;padding:8px\">\n",
    "        <input type=\"radio\" name=\"question\" unchecked/> \n",
    "        Test Suite C: <code>maxOfThree(0, 0, 0)</code>, <code>maxOfThree(-3, -10, -1)</code>, <code>maxOfThree(10, 30, 100)</code>, <code>maxOfThree(0, -9, 11)</code>, <code>maxOfThree(-10, 0, 30)</code>\n",
    "    </fieldset>\n",
    "</div>\n"
   ]
  }
 ],
 "metadata": {
  "language_info": {
   "name": "python"
  }
 },
 "nbformat": 4,
 "nbformat_minor": 2
}
