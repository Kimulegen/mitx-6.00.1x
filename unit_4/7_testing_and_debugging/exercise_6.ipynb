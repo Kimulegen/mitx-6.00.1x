{
 "cells": [
  {
   "cell_type": "markdown",
   "metadata": {},
   "source": [
    "Consider the following function definition:"
   ]
  },
  {
   "cell_type": "code",
   "execution_count": null,
   "metadata": {},
   "outputs": [],
   "source": [
    "def rem(x, a):\n",
    "    \"\"\"\n",
    "    x: a non-negative integer argument\n",
    "    a: a positive integer argument\n",
    "\n",
    "    returns: integer, the remainder when x is divided by a.\n",
    "    \"\"\"\n",
    "    if x == a:\n",
    "        return 0\n",
    "    elif x < a:\n",
    "        return x\n",
    "    else:\n",
    "        rem(x-a, a)"
   ]
  },
  {
   "cell_type": "markdown",
   "metadata": {},
   "source": [
    "When we call"
   ]
  },
  {
   "cell_type": "code",
   "execution_count": null,
   "metadata": {},
   "outputs": [],
   "source": [
    "rem(2, 5)"
   ]
  },
  {
   "cell_type": "markdown",
   "metadata": {},
   "source": [
    "the shell returns 2. When we call"
   ]
  },
  {
   "cell_type": "code",
   "execution_count": null,
   "metadata": {},
   "outputs": [],
   "source": [
    "rem(5, 5)"
   ]
  },
  {
   "cell_type": "markdown",
   "metadata": {},
   "source": [
    "the shell returns 0. But when we call"
   ]
  },
  {
   "cell_type": "code",
   "execution_count": null,
   "metadata": {},
   "outputs": [],
   "source": [
    "rem(7, 5)"
   ]
  },
  {
   "cell_type": "markdown",
   "metadata": {},
   "source": []
  },
  {
   "cell_type": "markdown",
   "metadata": {},
   "source": [
    "the shell does not return anything! Using this information, choose what line of code should be changed from the following choices:\n",
    "\n",
    "<div style=\"margin-top:20px\">\n",
    "    <fieldset style=\"margin:10px;padding:8px\">\n",
    "        <input type=\"radio\" name=\"question\" unchecked />\n",
    "        <code>if x == a:</code>\n",
    "    </fieldset>\n",
    "    <fieldset style=\"margin:10px;padding:8px\">\n",
    "        <input type=\"radio\" name=\"question\" unchecked/> \n",
    "        <code>return 0</code>\n",
    "    </fieldset>\n",
    "    <fieldset style=\"margin:10px;padding:8px\">\n",
    "        <input type=\"radio\" name=\"question\" unchecked/> \n",
    "        <code>elif x < a:</code>\n",
    "    </fieldset>\n",
    "    <fieldset style=\"margin:10px;padding:8px\">\n",
    "        <input type=\"radio\" name=\"question\" unchecked/> \n",
    "        <code>return x</code>\n",
    "    </fieldset>\n",
    "    <fieldset style=\"margin:10px;padding:8px\">\n",
    "        <input type=\"radio\" name=\"question\" unchecked/> \n",
    "        <code>else:</code>\n",
    "    </fieldset>\n",
    "    <fieldset style=\"margin:10px;padding:8px\">\n",
    "        <input type=\"radio\" name=\"question\" checked/> \n",
    "        <code>rem(x-a, a)</code>\n",
    "    </fieldset>\n",
    "</div>\n",
    "\n",
    "\n",
    "How should this line be rewritten?\n",
    "<div style=\"margin-top:20px;display:flex\">\n",
    "    <fieldset style=\"margin:10px;min-width:33%\">\n",
    "        <code>return rem(x-a, a)</code>\n",
    "    </fieldset>\n",
    "</div>\n"
   ]
  }
 ],
 "metadata": {
  "language_info": {
   "name": "python"
  }
 },
 "nbformat": 4,
 "nbformat_minor": 2
}
