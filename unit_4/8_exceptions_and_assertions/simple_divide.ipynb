{
 "cells": [
  {
   "cell_type": "markdown",
   "metadata": {},
   "source": [
    "Suppose we rewrite the FancyDivide function to use a helper function."
   ]
  },
  {
   "cell_type": "code",
   "execution_count": null,
   "metadata": {},
   "outputs": [],
   "source": [
    "def fancy_divide(list_of_numbers, index):\n",
    "   denom = list_of_numbers[index]\n",
    "   return [simple_divide(item, denom) for item in list_of_numbers]\n",
    "\n",
    "\n",
    "def simple_divide(item, denom):\n",
    "   return item / denom"
   ]
  },
  {
   "cell_type": "markdown",
   "metadata": {},
   "source": [
    "This code raises a ZeroDivisionError exception for the following call: `fancy_divide([0, 2, 4], 0)`\n",
    "\n",
    "Your task is to change the definition of `simple_divide` so that the call does not raise an exception. When dividing by 0, `fancy_divide` should return a list with all 0 elements. Any other error cases should still raise exceptions. You should only handle the ZeroDivisionError."
   ]
  },
  {
   "cell_type": "code",
   "execution_count": null,
   "metadata": {},
   "outputs": [],
   "source": [
    "def simple_divide(item,denom):\n",
    "    try:\n",
    "        division = item / denom\n",
    "    except ZeroDivisionError:\n",
    "        return 0\n",
    "    else: \n",
    "        return division"
   ]
  }
 ],
 "metadata": {
  "language_info": {
   "name": "python"
  }
 },
 "nbformat": 4,
 "nbformat_minor": 2
}
