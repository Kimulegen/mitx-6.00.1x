{
 "cells": [
  {
   "cell_type": "markdown",
   "metadata": {},
   "source": [
    "Try to answer the following questions by just reading the code. Reading code is a very good skill to have (and will help you both in your programming career and on your exams!). It is okay to check your answers that you obtain from just reading the code, then in your interpreter run the code for the ones you got wrong on your first attempt.\n",
    "\n",
    "What error (if any) is raised when the following code snippets are attempted?"
   ]
  },
  {
   "cell_type": "markdown",
   "metadata": {},
   "source": [
    "`'1'/'2'`\n",
    "<fieldset style=\"margin:10px;min-padding:8px\">\n",
    "    <input type=\"radio\" name=\"test\"/> SyntaxError\n",
    "</fieldset>\n",
    "<fieldset style=\"margin:10px;min-padding:8px\">\n",
    "    <input type=\"radio\" name=\"test\"/> ValueError\n",
    "</fieldset>\n",
    "<fieldset style=\"margin:10px;min-padding:8px\">\n",
    "    <input type=\"radio\" name=\"test\" checked/> TypeError\n",
    "</fieldset>\n",
    "<fieldset style=\"margin:10px;min-padding:8px\">\n",
    "    <input type=\"radio\" name=\"test\"/> NameError\n",
    "</fieldset>\n",
    "<fieldset style=\"margin:10px;padding:8px\">\n",
    "    <input type=\"radio\" name=\"test\"/> No error is raised\n",
    "</fieldset>"
   ]
  },
  {
   "cell_type": "markdown",
   "metadata": {},
   "source": [
    "`'1' / 2`\n",
    "<fieldset style=\"margin:10px;min-padding:8px\">\n",
    "    <input type=\"radio\" name=\"test\"/> SyntaxError\n",
    "</fieldset>\n",
    "<fieldset style=\"margin:10px;min-padding:8px\">\n",
    "    <input type=\"radio\" name=\"test\"/> ValueError\n",
    "</fieldset>\n",
    "<fieldset style=\"margin:10px;min-padding:8px\">\n",
    "    <input type=\"radio\" name=\"test\" checked/> TypeError\n",
    "</fieldset>\n",
    "<fieldset style=\"margin:10px;min-padding:8px\">\n",
    "    <input type=\"radio\" name=\"test\"/> NameError\n",
    "</fieldset>\n",
    "<fieldset style=\"margin:10px;padding:8px\">\n",
    "    <input type=\"radio\" name=\"test\"/> No error is raised\n",
    "</fieldset>"
   ]
  },
  {
   "cell_type": "markdown",
   "metadata": {},
   "source": [
    "`int('1') / 2.0`\n",
    "<fieldset style=\"margin:10px;min-padding:8px\">\n",
    "    <input type=\"radio\" name=\"test\"/> SyntaxError\n",
    "</fieldset>\n",
    "<fieldset style=\"margin:10px;min-padding:8px\">\n",
    "    <input type=\"radio\" name=\"test\"/> ValueError\n",
    "</fieldset>\n",
    "<fieldset style=\"margin:10px;min-padding:8px\">\n",
    "    <input type=\"radio\" name=\"test\"/> TypeError\n",
    "</fieldset>\n",
    "<fieldset style=\"margin:10px;min-padding:8px\">\n",
    "    <input type=\"radio\" name=\"test\"/> NameError\n",
    "</fieldset>\n",
    "<fieldset style=\"margin:10px;padding:8px\">\n",
    "    <input type=\"radio\" name=\"test\" checked/> No error is raised\n",
    "</fieldset>"
   ]
  },
  {
   "cell_type": "markdown",
   "metadata": {},
   "source": [
    "`myList = [10, 20, 30]`\n",
    "    <br>\n",
    "`myList.index(11)`\n",
    "<fieldset style=\"margin:10px;min-padding:8px\">\n",
    "    <input type=\"radio\" name=\"test\"/> SyntaxError\n",
    "</fieldset>\n",
    "<fieldset style=\"margin:10px;min-padding:8px\">\n",
    "    <input type=\"radio\" name=\"test\"checked/> ValueError\n",
    "</fieldset>\n",
    "<fieldset style=\"margin:10px;min-padding:8px\">\n",
    "    <input type=\"radio\" name=\"test\" /> TypeError\n",
    "</fieldset>\n",
    "<fieldset style=\"margin:10px;min-padding:8px\">\n",
    "    <input type=\"radio\" name=\"test\"/> NameError\n",
    "</fieldset>\n",
    "<fieldset style=\"margin:10px;padding:8px\">\n",
    "    <input type=\"radio\" name=\"test\"/> No error is raised\n",
    "</fieldset>"
   ]
  },
  {
   "cell_type": "markdown",
   "metadata": {},
   "source": [
    "`A=2`\n",
    "<br>\n",
    "`3*a`\n",
    "<fieldset style=\"margin:10px;min-padding:8px\">\n",
    "    <input type=\"radio\" name=\"test\"/> SyntaxError\n",
    "</fieldset>\n",
    "<fieldset style=\"margin:10px;min-padding:8px\">\n",
    "    <input type=\"radio\" name=\"test\"/> ValueError\n",
    "</fieldset>\n",
    "<fieldset style=\"margin:10px;min-padding:8px\">\n",
    "    <input type=\"radio\" name=\"test\" /> TypeError\n",
    "</fieldset>\n",
    "<fieldset style=\"margin:10px;min-padding:8px\">\n",
    "    <input type=\"radio\" name=\"test\"checked/> NameError\n",
    "</fieldset>\n",
    "<fieldset style=\"margin:10px;padding:8px\">\n",
    "    <input type=\"radio\" name=\"test\"/> No error is raised\n",
    "</fieldset>"
   ]
  }
 ],
 "metadata": {
  "language_info": {
   "name": "python"
  }
 },
 "nbformat": 4,
 "nbformat_minor": 2
}
