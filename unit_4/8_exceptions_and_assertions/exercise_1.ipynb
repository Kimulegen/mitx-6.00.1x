{
 "cells": [
  {
   "cell_type": "markdown",
   "metadata": {},
   "source": [
    "Try to answer the following questions by just reading the code. Reading code is a very good skill to have (and will help you both in your programming career and on your exams!). It is okay to check your answers that you obtain from just reading the code, then in your interpreter run the code for the ones you got wrong on your first attempt.\n",
    "\n",
    "What error (if any) is raised when the following code snippets are attempted?"
   ]
  },
  {
   "cell_type": "markdown",
   "metadata": {},
   "source": [
    "`'1'/'2'`\n",
    "<fieldset style=\"margin:10px 0;min-padding:8px\">\n",
    "    <input type=\"radio\" name=\"question1\"/> SyntaxError\n",
    "</fieldset>\n",
    "<fieldset style=\"margin:10px 0;min-padding:8px\">\n",
    "    <input type=\"radio\" name=\"question1\"/> ValueError\n",
    "</fieldset>\n",
    "<fieldset style=\"margin:10px 0;min-padding:8px\">\n",
    "    <input type=\"radio\" name=\"question1\" checked/> TypeError\n",
    "</fieldset>\n",
    "<fieldset style=\"margin:10px 0;min-padding:8px\">\n",
    "    <input type=\"radio\" name=\"question1\"/> NameError\n",
    "</fieldset>\n",
    "<fieldset style=\"margin:10px 0;padding:8px\">\n",
    "    <input type=\"radio\" name=\"question1\"/> No error is raised\n",
    "</fieldset>"
   ]
  },
  {
   "cell_type": "markdown",
   "metadata": {},
   "source": [
    "---"
   ]
  },
  {
   "cell_type": "markdown",
   "metadata": {},
   "source": [
    "`'1' / 2`\n",
    "<fieldset style=\"margin:10px 0;min-padding:8px\">\n",
    "    <input type=\"radio\" name=\"question2\"/> SyntaxError\n",
    "</fieldset>\n",
    "<fieldset style=\"margin:10px 0;min-padding:8px\">\n",
    "    <input type=\"radio\" name=\"question2\"/> ValueError\n",
    "</fieldset>\n",
    "<fieldset style=\"margin:10px 0;min-padding:8px\">\n",
    "    <input type=\"radio\" name=\"question2\" checked/> TypeError\n",
    "</fieldset>\n",
    "<fieldset style=\"margin:10px 0;min-padding:8px\">\n",
    "    <input type=\"radio\" name=\"question2\"/> NameError\n",
    "</fieldset>\n",
    "<fieldset style=\"margin:10px 0;padding:8px\">\n",
    "    <input type=\"radio\" name=\"question2\"/> No error is raised\n",
    "</fieldset>"
   ]
  },
  {
   "cell_type": "markdown",
   "metadata": {},
   "source": [
    "---"
   ]
  },
  {
   "cell_type": "markdown",
   "metadata": {},
   "source": [
    "`int('1') / 2.0`\n",
    "<fieldset style=\"margin:10px 0;min-padding:8px\">\n",
    "    <input type=\"radio\" name=\"question3\"/> SyntaxError\n",
    "</fieldset>\n",
    "<fieldset style=\"margin:10px 0;min-padding:8px\">\n",
    "    <input type=\"radio\" name=\"question3\"/> ValueError\n",
    "</fieldset>\n",
    "<fieldset style=\"margin:10px 0;min-padding:8px\">\n",
    "    <input type=\"radio\" name=\"question3\"/> TypeError\n",
    "</fieldset>\n",
    "<fieldset style=\"margin:10px 0;min-padding:8px\">\n",
    "    <input type=\"radio\" name=\"question3\"/> NameError\n",
    "</fieldset>\n",
    "<fieldset style=\"margin:10px 0;padding:8px\">\n",
    "    <input type=\"radio\" name=\"question3\" checked/> No error is raised\n",
    "</fieldset>"
   ]
  },
  {
   "cell_type": "markdown",
   "metadata": {},
   "source": [
    "---"
   ]
  },
  {
   "cell_type": "markdown",
   "metadata": {},
   "source": [
    "`myList = [10, 20, 30]`\n",
    "    <br>\n",
    "`myList.index(11)`\n",
    "<fieldset style=\"margin:10px 0;min-padding:8px\">\n",
    "    <input type=\"radio\" name=\"question4\"/> SyntaxError\n",
    "</fieldset>\n",
    "<fieldset style=\"margin:10px 0;min-padding:8px\">\n",
    "    <input type=\"radio\" name=\"question4\"checked/> ValueError\n",
    "</fieldset>\n",
    "<fieldset style=\"margin:10px 0;min-padding:8px\">\n",
    "    <input type=\"radio\" name=\"question4\" /> TypeError\n",
    "</fieldset>\n",
    "<fieldset style=\"margin:10px 0;min-padding:8px\">\n",
    "    <input type=\"radio\" name=\"question4\"/> NameError\n",
    "</fieldset>\n",
    "<fieldset style=\"margin:10px 0;padding:8px\">\n",
    "    <input type=\"radio\" name=\"question4\"/> No error is raised\n",
    "</fieldset>"
   ]
  },
  {
   "cell_type": "markdown",
   "metadata": {},
   "source": [
    "---"
   ]
  },
  {
   "cell_type": "markdown",
   "metadata": {},
   "source": [
    "`A=2`\n",
    "<br>\n",
    "`3*a`\n",
    "<fieldset style=\"margin:10px 0;min-padding:8px\">\n",
    "    <input type=\"radio\" name=\"test\"/> SyntaxError\n",
    "</fieldset>\n",
    "<fieldset style=\"margin:10px 0;min-padding:8px\">\n",
    "    <input type=\"radio\" name=\"test\"/> ValueError\n",
    "</fieldset>\n",
    "<fieldset style=\"margin:10px 0;min-padding:8px\">\n",
    "    <input type=\"radio\" name=\"test\" /> TypeError\n",
    "</fieldset>\n",
    "<fieldset style=\"margin:10px 0;min-padding:8px\">\n",
    "    <input type=\"radio\" name=\"test\"checked/> NameError\n",
    "</fieldset>\n",
    "<fieldset style=\"margin:10px 0;padding:8px\">\n",
    "    <input type=\"radio\" name=\"test\"/> No error is raised\n",
    "</fieldset>"
   ]
  }
 ],
 "metadata": {
  "kernelspec": {
   "display_name": "Python 3 (ipykernel)",
   "language": "python",
   "name": "python3"
  },
  "language_info": {
   "codemirror_mode": {
    "name": "ipython",
    "version": 3
   },
   "file_extension": ".py",
   "mimetype": "text/x-python",
   "name": "python",
   "nbconvert_exporter": "python",
   "pygments_lexer": "ipython3",
   "version": "3.11.7"
  }
 },
 "nbformat": 4,
 "nbformat_minor": 4
}
