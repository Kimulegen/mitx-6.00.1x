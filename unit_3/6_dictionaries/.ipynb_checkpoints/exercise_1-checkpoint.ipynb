{
 "cells": [
  {
   "cell_type": "markdown",
   "metadata": {},
   "source": [
    "Suppose we evaluate the following expressions:"
   ]
  },
  {
   "cell_type": "code",
   "execution_count": null,
   "metadata": {},
   "outputs": [],
   "source": [
    "animals = {'a': 'aardvark', 'b': 'baboon', 'c': 'coati'}\n",
    "\n",
    "animals['d'] = 'donkey'"
   ]
  },
  {
   "cell_type": "markdown",
   "metadata": {},
   "source": [
    "We are now going to evaluate a set of expressions, resulting in the following sequence of interactions. Fill in each blank to show what the Python interpreter would print at that point. If an expression below would generate an error, enter 'error'."
   ]
  },
  {
   "cell_type": "markdown",
   "metadata": {},
   "source": [
    "1. `>>> animals`\n",
    "<div>\n",
    "    <input type=\"text\" placeholder=\"{'a': 'aardvark', 'b': 'baboon', 'c': 'coati', 'd': 'donkey'}\">\n",
    "</div>"
   ]
  },
  {
   "cell_type": "markdown",
   "metadata": {},
   "source": [
    "2. `>>> animals['c']`\n",
    "<div>\n",
    "    <input type=\"text\" placeholder=\"'coati'\">\n",
    "</div>"
   ]
  },
  {
   "cell_type": "markdown",
   "metadata": {},
   "source": [
    "3. `>>> animals['donkey']`\n",
    "<div>\n",
    "    <input type=\"text\" placeholder=\"error\">\n",
    "</div>"
   ]
  },
  {
   "cell_type": "markdown",
   "metadata": {},
   "source": [
    "4. `>>> len(animals)`\n",
    "<div>\n",
    "    <input type=\"text\" placeholder=\"4\">\n",
    "</div>"
   ]
  },
  {
   "cell_type": "markdown",
   "metadata": {},
   "source": [
    "5. `>>> animals['a'] = 'anteater'`\n",
    "\n",
    "<code style=\"margin-left:30px\">>>> animals['a']</code>\n",
    "<div style=\"margin-left:30px\">\n",
    "    <input type=\"text\" placeholder=\"'anteater'\">\n",
    "</div>"
   ]
  },
  {
   "cell_type": "markdown",
   "metadata": {},
   "source": [
    "6. `>>> len(animals['a'])`\n",
    "<div>\n",
    "    <input type=\"text\" placeholder=\"8\">\n",
    "</div>"
   ]
  },
  {
   "cell_type": "markdown",
   "metadata": {},
   "source": [
    "7. `>>> 'baboon' in animals`\n",
    "<div>\n",
    "    <input type=\"text\" placeholder=\"False\">\n",
    "</div>"
   ]
  },
  {
   "cell_type": "markdown",
   "metadata": {},
   "source": [
    "8. `>>> 'donkey' in animals.values()`\n",
    "<div>\n",
    "    <input type=\"text\" placeholder=\"True\">\n",
    "</div>"
   ]
  },
  {
   "cell_type": "markdown",
   "metadata": {},
   "source": [
    "9. `>>> 'b' in animals`\n",
    "<div>\n",
    "    <input type=\"text\" placeholder=\"True\">\n",
    "</div>"
   ]
  },
  {
   "cell_type": "markdown",
   "metadata": {},
   "source": [
    "10. `>>> animals.keys()`\n",
    "<div>\n",
    "    <input type=\"text\" placeholder=\"['a', 'b', 'c', 'd']\">\n",
    "</div>"
   ]
  },
  {
   "cell_type": "markdown",
   "metadata": {},
   "source": [
    "11. `>>> del animals['b']`\n",
    "\n",
    "<code style=\"margin-left:30px\">>>> len(animals)</code>\n",
    "<div style=\"margin-left:30px\">\n",
    "    <input type=\"text\" placeholder=\"3\">\n",
    "</div>"
   ]
  },
  {
   "cell_type": "markdown",
   "metadata": {},
   "source": [
    "12. `>>> animals.values()`\n",
    "<div>\n",
    "    <input type=\"text\" placeholder=\"['anteater', 'coati', 'donkey']\">\n",
    "</div>"
   ]
  }
 ],
 "metadata": {
  "kernelspec": {
   "display_name": "Python 3 (ipykernel)",
   "language": "python",
   "name": "python3"
  },
  "language_info": {
   "codemirror_mode": {
    "name": "ipython",
    "version": 3
   },
   "file_extension": ".py",
   "mimetype": "text/x-python",
   "name": "python",
   "nbconvert_exporter": "python",
   "pygments_lexer": "ipython3",
   "version": "3.11.7"
  }
 },
 "nbformat": 4,
 "nbformat_minor": 4
}
