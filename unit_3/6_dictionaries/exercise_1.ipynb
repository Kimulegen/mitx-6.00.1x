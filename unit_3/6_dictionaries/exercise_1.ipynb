{
 "cells": [
  {
   "cell_type": "markdown",
   "metadata": {},
   "source": [
    "Suppose we evaluate the following expressions:"
   ]
  },
  {
   "cell_type": "code",
   "execution_count": null,
   "metadata": {},
   "outputs": [],
   "source": [
    "animals = {'a': 'aardvark', 'b': 'baboon', 'c': 'coati'}\n",
    "\n",
    "animals['d'] = 'donkey'"
   ]
  },
  {
   "cell_type": "markdown",
   "metadata": {},
   "source": [
    "We are now going to evaluate a set of expressions, resulting in the following sequence of interactions. Fill in each blank to show what the Python interpreter would print at that point. If an expression below would generate an error, enter 'error'."
   ]
  },
  {
   "cell_type": "markdown",
   "metadata": {},
   "source": [
    "1. `>>> animals`\n",
    "<div style=\"margin-left:40px;margin-bottom:40px\">\n",
    "    <input type=\"text\" placeholder=\"{'a': 'aardvark', 'b': 'baboon', 'c': 'coati', 'd': 'donkey'}\">\n",
    "</div>\n",
    "\n",
    "2. `>>> animals['c']`\n",
    "<div style=\"margin-left:40px;margin-bottom:40px\">\n",
    "    <input type=\"text\" placeholder=\"'coati'\">\n",
    "</div>\n",
    "\n",
    "3. `>>> animals['donkey']`\n",
    "<div style=\"margin-left:40px;margin-bottom:40px\">\n",
    "    <input type=\"text\" placeholder=\"error\">\n",
    "</div>\n",
    "\n",
    "4. `>>> len(animals)`\n",
    "<div style=\"margin-left:40px;margin-bottom:40px\">\n",
    "    <input type=\"text\" placeholder=\"4\">\n",
    "</div>\n",
    "\n",
    "5. `>>> animals['a'] = 'anteater'`\n",
    "\n",
    "<code style=\"margin-left:40px\">>>> animals['a']</code>\n",
    "<div style=\"margin-left:40px;margin-bottom:40px\">\n",
    "    <input type=\"text\" placeholder=\"'anteater'\">\n",
    "</div>\n",
    "\n",
    "6. `>>> len(animals['a'])`\n",
    "<div style=\"margin-left:40px;margin-bottom:40px\">\n",
    "    <input type=\"text\" placeholder=\"8\">\n",
    "</div>\n",
    "\n",
    "7. `>>> 'baboon' in animals`\n",
    "<div style=\"margin-left:40px;margin-bottom:40px\">\n",
    "    <input type=\"text\" placeholder=\"False\">\n",
    "</div>\n",
    "\n",
    "8. `>>> 'donkey' in animals.values()`\n",
    "<div style=\"margin-left:40px;margin-bottom:40px\">\n",
    "    <input type=\"text\" placeholder=\"True\">\n",
    "</div>\n",
    "\n",
    "9. `>>> 'b' in animals`\n",
    "<div style=\"margin-left:40px;margin-bottom:40px\">\n",
    "    <input type=\"text\" placeholder=\"True\">\n",
    "</div>\n",
    "\n",
    "10. `>>> animals.keys()`\n",
    "<div style=\"margin-left:40px;margin-bottom:40px\">\n",
    "    <input type=\"text\" placeholder=\"['a', 'b', 'c', 'd']\">\n",
    "</div>\n",
    "\n",
    "11. `>>> del animals['b']`\n",
    "\n",
    "<code style=\"margin-left:40px\">>>> len(animals)</code>\n",
    "<div style=\"margin-left:40px;margin-bottom:40px\">\n",
    "    <input type=\"text\" placeholder=\"3\">\n",
    "</div>\n",
    "\n",
    "12. `>>> animals.values()`\n",
    "<div style=\"margin-left:40px;margin-bottom:40px\">\n",
    "    <input type=\"text\" placeholder=\"['anteater', 'coati', 'donkey']\">\n",
    "</div>\n",
    "\n"
   ]
  }
 ],
 "metadata": {
  "language_info": {
   "name": "python"
  }
 },
 "nbformat": 4,
 "nbformat_minor": 2
}
