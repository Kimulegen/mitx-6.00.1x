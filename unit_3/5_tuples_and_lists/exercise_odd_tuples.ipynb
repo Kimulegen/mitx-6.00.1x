{
 "cells": [
  {
   "cell_type": "markdown",
   "metadata": {},
   "source": [
    "Write a procedure called `oddTuples`, which takes a tuple as input, and returns a new tuple as output, where every other element of the input tuple is copied, starting with the first one. So if test is the tuple `('I', 'am', 'a', 'test', 'tuple')`, then evaluating `oddTuples` on this input would return the tuple `('I', 'a', 'tuple')`."
   ]
  },
  {
   "cell_type": "code",
   "execution_count": null,
   "metadata": {},
   "outputs": [],
   "source": [
    "def oddTuples(aTup):\n",
    "    \"\"\"\n",
    "    aTup: a tuple\n",
    "\n",
    "    returns: tuple, every other element of aTup.\n",
    "    \"\"\"\n",
    "    return tuple([value for i, value in enumerate(aTup) if i % 2 == 0])"
   ]
  }
 ],
 "metadata": {
  "language_info": {
   "name": "python"
  }
 },
 "nbformat": 4,
 "nbformat_minor": 2
}
