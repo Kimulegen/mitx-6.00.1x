{
 "cells": [
  {
   "cell_type": "markdown",
   "metadata": {},
   "source": [
    "For each of the expressions below, specify its type and value. If it generates an error, select type 'NoneType' and put the word 'error' in the box for the value.\n",
    "\n",
    "Assume we've made the following assignment:"
   ]
  },
  {
   "cell_type": "code",
   "execution_count": null,
   "metadata": {},
   "outputs": [],
   "source": [
    "x = [1, 2, [3, 'John', 4], 'Hi'] "
   ]
  },
  {
   "cell_type": "markdown",
   "metadata": {},
   "source": [
    "Additionally, assume that the expressions are evaluated in the order shown - that is, each problem part is evaluated directly after the previous problem part(s)."
   ]
  },
  {
   "cell_type": "markdown",
   "metadata": {},
   "source": [
    "- `x[0]`\n",
    "<div>\n",
    "    <input type=\"text\" placeholder=\"int\" style=\"display:block\">\n",
    "    <input type=\"text\" placeholder=\"1\" style=\"display:block\">\n",
    "</div>"
   ]
  },
  {
   "cell_type": "markdown",
   "metadata": {},
   "source": [
    "- `x[2]`\n",
    "<div>\n",
    "    <input type=\"text\" placeholder=\"list\" style=\"display:block\">\n",
    "    <input type=\"text\" placeholder=\"[3, 'John', 4]\" style=\"display:block\">\n",
    "</div>"
   ]
  },
  {
   "cell_type": "markdown",
   "metadata": {},
   "source": [
    "- `x[-1]`\n",
    "<div>\n",
    "    <input type=\"text\" placeholder=\"string\" style=\"display:block\">\n",
    "    <input type=\"text\" placeholder=\"'Hi'\" style=\"display:block\">\n",
    "</div>"
   ]
  },
  {
   "cell_type": "markdown",
   "metadata": {},
   "source": [
    "- `x[2][2]`\n",
    "<div>\n",
    "    <input type=\"text\" placeholder=\"int\" style=\"display:block\">\n",
    "    <input type=\"text\" placeholder=\"4\" style=\"display:block\">\n",
    "</div>"
   ]
  },
  {
   "cell_type": "markdown",
   "metadata": {},
   "source": [
    "- `x[0:1]`\n",
    "<div>\n",
    "    <input type=\"text\" placeholder=\"list\" style=\"display:block\">\n",
    "    <input type=\"text\" placeholder=\"[1]\" style=\"display:block\">\n",
    "</div>"
   ]
  },
  {
   "cell_type": "markdown",
   "metadata": {},
   "source": [
    "- `2 in x`\n",
    "<div>\n",
    "    <input type=\"text\" placeholder=\"boolean\" style=\"display:block\">\n",
    "    <input type=\"text\" placeholder=\"True\" style=\"display:block\">\n",
    "</div>"
   ]
  },
  {
   "cell_type": "markdown",
   "metadata": {},
   "source": [
    "- `3 in x`\n",
    "<div>\n",
    "    <input type=\"text\" placeholder=\"boolean\" style=\"display:block\">\n",
    "    <input type=\"text\" placeholder=\"False\" style=\"display:block\">\n",
    "</div>"
   ]
  },
  {
   "cell_type": "markdown",
   "metadata": {},
   "source": [
    "- `x[0] = 8`\n",
    "<div>\n",
    "    <input type=\"text\" placeholder=\"list\" style=\"display:block\">\n",
    "    <input type=\"text\" placeholder=\"[8, 2, [3, 'John', 4], 'Hi']\" style=\"display:block\">\n",
    "</div>"
   ]
  }
 ],
 "metadata": {
  "kernelspec": {
   "display_name": "Python 3 (ipykernel)",
   "language": "python",
   "name": "python3"
  },
  "language_info": {
   "codemirror_mode": {
    "name": "ipython",
    "version": 3
   },
   "file_extension": ".py",
   "mimetype": "text/x-python",
   "name": "python",
   "nbconvert_exporter": "python",
   "pygments_lexer": "ipython3",
   "version": "3.11.7"
  }
 },
 "nbformat": 4,
 "nbformat_minor": 4
}
