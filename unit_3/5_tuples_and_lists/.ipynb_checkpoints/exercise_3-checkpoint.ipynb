{
 "cells": [
  {
   "cell_type": "markdown",
   "metadata": {},
   "source": [
    "For each of the expressions below, specify its type and value. If it generates an error, select type 'NoneType' and put the word 'error' in the box for the value. If it would be a function, select type 'function' and put the word 'function' in the box for the value.\n",
    "\n",
    "If the method returns `None`, select type 'NoneType' and put the word 'None' in the box for the value.\n",
    "\n",
    "Assume we've made the following assignments:"
   ]
  },
  {
   "cell_type": "code",
   "execution_count": null,
   "metadata": {},
   "outputs": [],
   "source": [
    "listA = [1, 4, 3, 0]\n",
    "listB = ['x', 'z', 't', 'q']"
   ]
  },
  {
   "cell_type": "markdown",
   "metadata": {},
   "source": [
    "You may want to refer to the [Python Library Reference](http://docs.python.org/tutorial/datastructures.html) to learn about list methods. Assume these calls appear one after another (so if the list is modified in a question, that modification stays for subsequent questions)."
   ]
  },
  {
   "cell_type": "markdown",
   "metadata": {},
   "source": [
    "1. `listA.sort`\n",
    "<div>\n",
    "    <input type=\"text\" placeholder=\"function\" style=\"display:block\">\n",
    "    <input type=\"text\" placeholder=\"function\" style=\"display:block\">\n",
    "</div>"
   ]
  },
  {
   "cell_type": "markdown",
   "metadata": {},
   "source": [
    "2. `listA.sort()`\n",
    "<div>\n",
    "    <input type=\"text\" placeholder=\"NoneType\" style=\"display:block\">\n",
    "    <input type=\"text\" placeholder=\"None\" style=\"display:block\">\n",
    "</div>"
   ]
  },
  {
   "cell_type": "markdown",
   "metadata": {},
   "source": [
    "3. `listA`\n",
    "<div>\n",
    "    <input type=\"text\" placeholder=\"string\" style=\"display:block\">\n",
    "    <input type=\"text\" placeholder=\"[0,1,3,4]\" style=\"display:block\">\n",
    "</div>"
   ]
  },
  {
   "cell_type": "markdown",
   "metadata": {},
   "source": [
    "4. `listA.insert(0, 100)`\n",
    "<div>\n",
    "    <input type=\"text\" placeholder=\"NoneType\" style=\"display:block\">\n",
    "    <input type=\"text\" placeholder=\"None\" style=\"display:block\">\n",
    "</div>"
   ]
  },
  {
   "cell_type": "markdown",
   "metadata": {},
   "source": [
    "5. `listA.remove(3)`\n",
    "<div>\n",
    "    <input type=\"text\" placeholder=\"NoneType\" style=\"display:block\">\n",
    "    <input type=\"text\" placeholder=\"None\" style=\"display:block\">\n",
    "</div>"
   ]
  },
  {
   "cell_type": "markdown",
   "metadata": {},
   "source": [
    "6. `listA.append(7)`\n",
    "<div>\n",
    "    <input type=\"text\" placeholder=\"NoneType\" style=\"display:block\">\n",
    "    <input type=\"text\" placeholder=\"None\" style=\"display:block\">\n",
    "</div>"
   ]
  },
  {
   "cell_type": "markdown",
   "metadata": {},
   "source": [
    "7. `listA`\n",
    "<div>\n",
    "    <input type=\"text\" placeholder=\"list\" style=\"display:block\">\n",
    "    <input type=\"text\" placeholder=\"[100,0,1,4,7]\" style=\"display:block\">\n",
    "</div>"
   ]
  },
  {
   "cell_type": "markdown",
   "metadata": {},
   "source": [
    "8. `listA + listB`\n",
    "<div>\n",
    "    <input type=\"text\" placeholder=\"list\" style=\"display:block\">\n",
    "    <input type=\"text\" placeholder=\"[100,0,1,4,7,'x', 'z', 't', 'q']\" style=\"display:block\">\n",
    "</div>"
   ]
  },
  {
   "cell_type": "markdown",
   "metadata": {},
   "source": [
    "9. `listB.sort()`\n",
    "\n",
    "<code style=\"margin-left:30px\">listB.pop()</code>\n",
    "<div style=\"margin-left:30px\">\n",
    "    <input type=\"text\" placeholder=\"string\" style=\"display:block\">\n",
    "    <input type=\"text\" placeholder=\"'z'\" style=\"display:block\">\n",
    "</div>"
   ]
  },
  {
   "cell_type": "markdown",
   "metadata": {},
   "source": [
    "10. `listB.count('a')`\n",
    "<div>\n",
    "    <input type=\"text\" placeholder=\"int\" style=\"display:block\">\n",
    "    <input type=\"text\" placeholder=\"0\" style=\"display:block\">\n",
    "</div>"
   ]
  },
  {
   "cell_type": "markdown",
   "metadata": {},
   "source": [
    "11. `listB.remove('a')`\n",
    "<div>\n",
    "    <input type=\"text\" placeholder=\"NoneType\" style=\"display:block\">\n",
    "    <input type=\"text\" placeholder=\"error\" style=\"display:block\">\n",
    "</div>"
   ]
  },
  {
   "cell_type": "markdown",
   "metadata": {},
   "source": [
    "12. `listA.extend([4, 1, 6, 3, 4])`\n",
    "<div>\n",
    "    <input type=\"text\" placeholder=\"NoneType\" style=\"display:block\">\n",
    "    <input type=\"text\" placeholder=\"None\" style=\"display:block\">\n",
    "</div>"
   ]
  },
  {
   "cell_type": "markdown",
   "metadata": {},
   "source": [
    "13. `listA.count(4)`\n",
    "<div>\n",
    "    <input type=\"text\" placeholder=\"int\" style=\"display:block\">\n",
    "    <input type=\"text\" placeholder=\"3\" style=\"display:block\">\n",
    "</div>"
   ]
  },
  {
   "cell_type": "markdown",
   "metadata": {},
   "source": [
    "14. `listA.index(1)`\n",
    "<div>\n",
    "    <input type=\"text\" placeholder=\"int\" style=\"display:block\">\n",
    "    <input type=\"text\" placeholder=\"4\" style=\"display:block\">\n",
    "</div>"
   ]
  },
  {
   "cell_type": "markdown",
   "metadata": {},
   "source": [
    "15. `listA.pop(4)`\n",
    "<div>\n",
    "    <input type=\"text\" placeholder=\"int\" style=\"display:block\">\n",
    "    <input type=\"text\" placeholder=\"7\" style=\"display:block\">\n",
    "</div>"
   ]
  },
  {
   "cell_type": "markdown",
   "metadata": {},
   "source": [
    "16. `listA.reverse()`\n",
    "<div>\n",
    "    <input type=\"text\" placeholder=\"NoneType\" style=\"display:block\">\n",
    "    <input type=\"text\" placeholder=\"None\" style=\"display:block\">\n",
    "</div>"
   ]
  },
  {
   "cell_type": "markdown",
   "metadata": {},
   "source": [
    "17. `listA`\n",
    "<div>\n",
    "    <input type=\"text\" placeholder=\"list\" style=\"display:block\">\n",
    "    <input type=\"text\" placeholder=\"[4,3,6,1,4,4,1,0,100]\" style=\"display:block\">\n",
    "</div>"
   ]
  }
 ],
 "metadata": {
  "kernelspec": {
   "display_name": "Python 3 (ipykernel)",
   "language": "python",
   "name": "python3"
  },
  "language_info": {
   "codemirror_mode": {
    "name": "ipython",
    "version": 3
   },
   "file_extension": ".py",
   "mimetype": "text/x-python",
   "name": "python",
   "nbconvert_exporter": "python",
   "pygments_lexer": "ipython3",
   "version": "3.11.7"
  }
 },
 "nbformat": 4,
 "nbformat_minor": 4
}
