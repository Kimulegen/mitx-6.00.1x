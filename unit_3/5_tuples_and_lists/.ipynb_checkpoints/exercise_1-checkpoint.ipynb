{
 "cells": [
  {
   "cell_type": "markdown",
   "metadata": {},
   "source": [
    "For each of the expressions below, specify its type and value. If it generates an error, select type 'NoneType' and put the word 'error' in the box for the value.\n",
    "\n",
    "Assume we've made the following assignment:"
   ]
  },
  {
   "cell_type": "code",
   "execution_count": null,
   "metadata": {},
   "outputs": [],
   "source": [
    "x = (1, 2, (3, 'John', 4), 'Hi')"
   ]
  },
  {
   "cell_type": "markdown",
   "metadata": {},
   "source": [
    "**Hints: Single Element Tuples**\n",
    "\n",
    "When a tuple has only one element, you must specify it as follows: (elt,). Here is an example shell session that illustrates the difference:\n",
    "\n",
    "```\n",
    ">>> tup1 = (5)\n",
    ">>> print(tup1)\n",
    "5\n",
    ">>> type(tup1)\n",
    "<type 'int'>\n",
    ">>> tup2 = (5,)\n",
    ">>> print(tup2)\n",
    "(5,)\n",
    ">>> type(tup2)\n",
    "<type 'tuple'>\n",
    "```"
   ]
  },
  {
   "cell_type": "markdown",
   "metadata": {},
   "source": [
    "- `x[0]`\n",
    "<div>\n",
    "    <input type=\"text\" placeholder=\"int\" style=\"display:block\">\n",
    "    <input type=\"text\" placeholder=\"1\" style=\"display:block\">\n",
    "</div>"
   ]
  },
  {
   "cell_type": "markdown",
   "metadata": {},
   "source": [
    "- `x[2]`\n",
    "<div>\n",
    "    <input type=\"text\" placeholder=\"tuple\" style=\"display:block\">\n",
    "    <input type=\"text\" placeholder=\"(3, 'John', 4)\" style=\"display:block\">\n",
    "</div>"
   ]
  },
  {
   "cell_type": "markdown",
   "metadata": {},
   "source": [
    "- `x[-1]`\n",
    "<div>\n",
    "    <input type=\"text\" placeholder=\"string\" style=\"display:block\">\n",
    "    <input type=\"text\" placeholder=\"'Hi'\" style=\"display:block\">\n",
    "</div>"
   ]
  },
  {
   "cell_type": "markdown",
   "metadata": {},
   "source": [
    "- `x[2][2]`\n",
    "<div>\n",
    "    <input type=\"text\" placeholder=\"int\" style=\"display:block\">\n",
    "    <input type=\"text\" placeholder=\"4\" style=\"display:block\">\n",
    "</div>"
   ]
  },
  {
   "cell_type": "markdown",
   "metadata": {},
   "source": [
    "- `x[2][-1]`\n",
    "<div>\n",
    "    <input type=\"text\" placeholder=\"int\" style=\"display:block\">\n",
    "    <input type=\"text\" placeholder=\"4\" style=\"display:block\">\n",
    "</div>\n"
   ]
  },
  {
   "cell_type": "markdown",
   "metadata": {},
   "source": [
    "- `x[-1][-1]`\n",
    "<div>\n",
    "    <input type=\"text\" placeholder=\"string\" style=\"display:block\">\n",
    "    <input type=\"text\" placeholder=\"i\" style=\"display:block\">\n",
    "</div>"
   ]
  },
  {
   "cell_type": "markdown",
   "metadata": {},
   "source": [
    "- `x[-1][2]`\n",
    "<div>\n",
    "    <input type=\"text\" placeholder=\"NoneType\" style=\"display:block\">\n",
    "    <input type=\"text\" placeholder=\"error\" style=\"display:block\">\n",
    "</div>"
   ]
  },
  {
   "cell_type": "markdown",
   "metadata": {},
   "source": [
    "- `x[0:1]`\n",
    "<div>\n",
    "    <input type=\"text\" placeholder=\"tuple\" style=\"display:block\">\n",
    "    <input type=\"text\" placeholder=\"(1,)\" style=\"display:block\">\n",
    "</div>"
   ]
  },
  {
   "cell_type": "markdown",
   "metadata": {},
   "source": [
    "- `x[0:-1]`\n",
    "<div>\n",
    "    <input type=\"text\" placeholder=\"tuple\" style=\"display:block\">\n",
    "    <input type=\"text\" placeholder=\"(1, 2, (3, 'John', 4))\" style=\"display:block\">\n",
    "</div>"
   ]
  },
  {
   "cell_type": "markdown",
   "metadata": {},
   "source": [
    "- `len(x)`\n",
    "<div>\n",
    "    <input type=\"text\" placeholder=\"int\" style=\"display:block\">\n",
    "    <input type=\"text\" placeholder=\"4\" style=\"display:block\">\n",
    "</div>"
   ]
  },
  {
   "cell_type": "markdown",
   "metadata": {},
   "source": [
    "- `2 in x`\n",
    "<div>\n",
    "    <input type=\"text\" placeholder=\"boolean\" style=\"display:block\">\n",
    "    <input type=\"text\" placeholder=\"True\" style=\"display:block\">\n",
    "</div>"
   ]
  },
  {
   "cell_type": "markdown",
   "metadata": {},
   "source": [
    "- `3 in x`\n",
    "<div>\n",
    "    <input type=\"text\" placeholder=\"boolean\" style=\"display:block\">\n",
    "    <input type=\"text\" placeholder=\"False\" style=\"display:block\">\n",
    "</div>"
   ]
  },
  {
   "cell_type": "markdown",
   "metadata": {},
   "source": [
    "- `x[0] = 8`\n",
    "<div>\n",
    "    <input type=\"text\" placeholder=\"NoneType\" style=\"display:block\">\n",
    "    <input type=\"text\" placeholder=\"error\" style=\"display:block\">\n",
    "</div>"
   ]
  }
 ],
 "metadata": {
  "kernelspec": {
   "display_name": "Python 3 (ipykernel)",
   "language": "python",
   "name": "python3"
  },
  "language_info": {
   "codemirror_mode": {
    "name": "ipython",
    "version": 3
   },
   "file_extension": ".py",
   "mimetype": "text/x-python",
   "name": "python",
   "nbconvert_exporter": "python",
   "pygments_lexer": "ipython3",
   "version": "3.11.7"
  }
 },
 "nbformat": 4,
 "nbformat_minor": 4
}
