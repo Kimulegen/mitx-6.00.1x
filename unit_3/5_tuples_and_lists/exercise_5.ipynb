{
 "cells": [
  {
   "cell_type": "markdown",
   "metadata": {},
   "source": [
    "Here is a different piece of code for working with lists:\n",
    "\n"
   ]
  },
  {
   "cell_type": "code",
   "execution_count": null,
   "metadata": {},
   "outputs": [],
   "source": [
    "def applyEachTo(L, x):\n",
    "    result = []\n",
    "    for i in range(len(L)):\n",
    "        result.append(L[i](x))\n",
    "    return result"
   ]
  },
  {
   "cell_type": "markdown",
   "metadata": {},
   "source": [
    "Suppose that you are given the following functions:"
   ]
  },
  {
   "cell_type": "code",
   "execution_count": null,
   "metadata": {},
   "outputs": [],
   "source": [
    "def square(a):\n",
    "    return a*a\n",
    "\n",
    "def halve(a):\n",
    "    return a/2\n",
    "\n",
    "def inc(a):\n",
    "    return a+1"
   ]
  },
  {
   "cell_type": "markdown",
   "metadata": {},
   "source": [
    "For each of the following questions, indicate what value is returned. If you believe that an error will occur, write the word 'error'."
   ]
  },
  {
   "cell_type": "markdown",
   "metadata": {},
   "source": [
    "```python\n",
    "applyEachTo([inc, square, halve, abs], -3)\n",
    "```\n",
    "<div style=\"margin-bottom:40px\">\n",
    "    <input type=\"text\" placeholder=\"[-2, 9, -1.5, 3]\">\n",
    "</div>\n",
    "\n",
    "---\n"
   ]
  },
  {
   "cell_type": "markdown",
   "metadata": {},
   "source": [
    "```python\n",
    "applyEachTo([inc, square, halve, abs], 3.0)\n",
    "```\n",
    "<div style=\"margin-bottom:40px\">\n",
    "    <input type=\"text\" placeholder=\"[4.0, 9.0, 1.5, 3.0]\">\n",
    "</div>\n",
    "\n",
    "---\n"
   ]
  },
  {
   "cell_type": "markdown",
   "metadata": {},
   "source": [
    "```python\n",
    "applyEachTo([inc, max, int], -3)\n",
    "```\n",
    "<div style=\"margin-bottom:40px\">\n",
    "    <input type=\"text\" placeholder=\"error\">\n",
    "</div>"
   ]
  }
 ],
 "metadata": {
  "language_info": {
   "name": "python"
  }
 },
 "nbformat": 4,
 "nbformat_minor": 2
}
