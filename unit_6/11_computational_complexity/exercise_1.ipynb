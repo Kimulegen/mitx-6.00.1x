{
 "cells": [
  {
   "cell_type": "markdown",
   "metadata": {},
   "source": [
    "Here is some code from lecture:"
   ]
  },
  {
   "cell_type": "code",
   "execution_count": null,
   "metadata": {},
   "outputs": [],
   "source": [
    "def linearSearch(L, x):\n",
    "    for e in L:\n",
    "        if e == x:\n",
    "            return True\n",
    "    return False"
   ]
  },
  {
   "cell_type": "markdown",
   "metadata": {},
   "source": [
    "Choose which of the following inputs to linearSearch would give the best case, average case, or worst case run time."
   ]
  },
  {
   "cell_type": "markdown",
   "metadata": {},
   "source": [
    "1. Best Case Run Time\n",
    "<div style=\"margin-top:20px\">\n",
    "    <fieldset style=\"margin:10px 0;padding:8px\">\n",
    "        <input type=\"radio\"/>\n",
    "        <code>linearSearch([14, 15, 6, 27, 13, 16, 25, 11, 7], 15)</code>\n",
    "    </fieldset>\n",
    "    <fieldset style=\"margin:10px 0;padding:8px\">\n",
    "        <input type=\"radio\"/> \n",
    "        <code>linearSearch([21, 1, 25, 22, 30, 13, 7, 24, 12], 24)</code>\n",
    "    </fieldset>\n",
    "    <fieldset style=\"margin:10px 0;padding:8px\">\n",
    "        <input type=\"radio\" checked/> \n",
    "        <code>linearSearch([20, 10, 1, 7, 4, 22, 25, 12, 31], 20)</code>\n",
    "    </fieldset>\n",
    "    <fieldset style=\"margin:10px 0;padding:8px\">\n",
    "        <input type=\"radio\"/> \n",
    "        <code>linearSearch([9, 3, 12, 24, 7, 8, 23, 11, 19], 8)</code>\n",
    "    </fieldset>\n",
    "    <fieldset style=\"margin:10px 0;padding:8px\">\n",
    "        <input type=\"radio\"/> \n",
    "        <code>linearSearch([4, 12, 20, 17, 9, 14, 7, 24, 6], 7)</code>\n",
    "    </fieldset>\n",
    "    <fieldset style=\"margin:10px 0;padding:8px\">\n",
    "        <input type=\"radio\"/> \n",
    "        <code>linearSearch([13, 9, 22, 3, 10, 17, 11, 2, 12], 26)</code>\n",
    "    </fieldset>\n",
    "</div>"
   ]
  },
  {
   "cell_type": "markdown",
   "metadata": {},
   "source": [
    "2. Worst Case Run Time\n",
    "<div style=\"margin-top:20px\">\n",
    "    <fieldset style=\"margin:10px 0;padding:8px\">\n",
    "        <input type=\"radio\"/>\n",
    "        <code>linearSearch([14, 15, 6, 27, 13, 16, 25, 11, 7], 15)</code>\n",
    "    </fieldset>\n",
    "    <fieldset style=\"margin:10px 0;padding:8px\">\n",
    "        <input type=\"radio\"/> \n",
    "        <code>linearSearch([21, 1, 25, 22, 30, 13, 7, 24, 12], 24)</code>\n",
    "    </fieldset>\n",
    "    <fieldset style=\"margin:10px 0;padding:8px\">\n",
    "        <input type=\"radio\"/> \n",
    "        <code>linearSearch([20, 10, 1, 7, 4, 22, 25, 12, 31], 20)</code>\n",
    "    </fieldset>\n",
    "    <fieldset style=\"margin:10px 0;padding:8px\">\n",
    "        <input type=\"radio\"/> \n",
    "        <code>linearSearch([9, 3, 12, 24, 7, 8, 23, 11, 19], 8)</code>\n",
    "    </fieldset>\n",
    "    <fieldset style=\"margin:10px 0;padding:8px\">\n",
    "        <input type=\"radio\"/> \n",
    "        <code>linearSearch([4, 12, 20, 17, 9, 14, 7, 24, 6], 7)</code>\n",
    "    </fieldset>\n",
    "    <fieldset style=\"margin:10px 0;padding:8px\">\n",
    "        <input type=\"radio\" checked/> \n",
    "        <code>linearSearch([13, 9, 22, 3, 10, 17, 11, 2, 12], 26)</code>\n",
    "    </fieldset>\n",
    "</div>"
   ]
  },
  {
   "cell_type": "markdown",
   "metadata": {},
   "source": [
    "3. Average Case Run Time\n",
    "<div style=\"margin-top:20px\">\n",
    "    <fieldset style=\"margin:10px 0;padding:8px\">\n",
    "        <input type=\"radio\"/>\n",
    "        <code>linearSearch([14, 15, 6, 27, 13, 16, 25, 11, 7], 15)</code>\n",
    "    </fieldset>\n",
    "    <fieldset style=\"margin:10px 0;padding:8px\">\n",
    "        <input type=\"radio\"/> \n",
    "        <code>linearSearch([21, 1, 25, 22, 30, 13, 7, 24, 12], 24)</code>\n",
    "    </fieldset>\n",
    "    <fieldset style=\"margin:10px 0;padding:8px\">\n",
    "        <input type=\"radio\"/> \n",
    "        <code>linearSearch([20, 10, 1, 7, 4, 22, 25, 12, 31], 20)</code>\n",
    "    </fieldset>\n",
    "    <fieldset style=\"margin:10px 0;padding:8px\">\n",
    "        <input type=\"radio\" checked/> \n",
    "        <code>linearSearch([9, 3, 12, 24, 7, 8, 23, 11, 19], 8)</code>\n",
    "    </fieldset>\n",
    "    <fieldset style=\"margin:10px 0;padding:8px\">\n",
    "        <input type=\"radio\"/> \n",
    "        <code>linearSearch([4, 12, 20, 17, 9, 14, 7, 24, 6], 7)</code>\n",
    "    </fieldset>\n",
    "    <fieldset style=\"margin:10px 0;padding:8px\">\n",
    "        <input type=\"radio\"/> \n",
    "        <code>linearSearch([13, 9, 22, 3, 10, 17, 11, 2, 12], 26)</code>\n",
    "    </fieldset>\n",
    "</div>"
   ]
  },
  {
   "cell_type": "markdown",
   "metadata": {},
   "source": [
    "4. What is the number of steps it will take to run `linearSearch` in the best case? Express your answer in terms of _n_, the number of elements in the list `L`.\n",
    "\n",
    "    Indicate addition and multiplication explicitly, with `+` and `*` symbols. Indicate exponentiation with the caret (`^`) symbol.\n",
    "\n",
    "<div style=\"margin-left:25px\">\n",
    "    <input type=\"text\" placeholder=\"1\">\n",
    "</div>"
   ]
  },
  {
   "cell_type": "markdown",
   "metadata": {},
   "source": [
    "4. What is the number of steps it will take to run `linearSearch` in the worst case? Express your answer in terms of _n_, the number of elements in the list `L`.\n",
    "\n",
    "    Indicate addition and multiplication explicitly, with `+` and `*` symbols. Indicate exponentiation with the caret (`^`) symbol.\n",
    "\n",
    "<div style=\"margin-left:25px\">\n",
    "    <input type=\"text\" placeholder=\"2*n + 1\">\n",
    "</div>"
   ]
  }
 ],
 "metadata": {
  "kernelspec": {
   "display_name": "Python 3 (ipykernel)",
   "language": "python",
   "name": "python3"
  },
  "language_info": {
   "codemirror_mode": {
    "name": "ipython",
    "version": 3
   },
   "file_extension": ".py",
   "mimetype": "text/x-python",
   "name": "python",
   "nbconvert_exporter": "python",
   "pygments_lexer": "ipython3",
   "version": "3.11.7"
  }
 },
 "nbformat": 4,
 "nbformat_minor": 4
}
