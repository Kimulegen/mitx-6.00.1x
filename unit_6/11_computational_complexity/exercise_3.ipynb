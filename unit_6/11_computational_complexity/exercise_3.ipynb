{
 "cells": [
  {
   "cell_type": "markdown",
   "metadata": {},
   "source": [
    "For the following programs, fill in the best-case and the worst-case number of steps it will take to run each program.\n",
    "\n",
    "For these questions, you'll be asked to write a mathematical expression. Use +, -, / signs to indicate addition, subtraction, and division. Explicitly indicate multiplication with a * (ie say \"6*n\" rather than \"6n\"). Indicate exponentiation with a caret (^) (ie \"n^4\" for $n^4$). Indicate base-2 logarithms with the word log2 followed by parenthesis (ie \"log2(n)\")."
   ]
  },
  {
   "cell_type": "code",
   "execution_count": null,
   "metadata": {},
   "outputs": [],
   "source": [
    "# Program 1\n",
    "def program1(L):\n",
    "    multiples = []\n",
    "    for x in L:\n",
    "        for y in L:\n",
    "            multiples.append(x*y)\n",
    "    return multiples"
   ]
  },
  {
   "cell_type": "markdown",
   "metadata": {},
   "source": [
    "What is the number of steps it will take to run Program 1 in the best case? Express your answer in terms of _n_, the number of elements in the list `L`. You can assume list appending takes 1 step.\n",
    "<div>\n",
    "    <input type=\"text\" placeholder=\"2\">\n",
    "</div>"
   ]
  },
  {
   "cell_type": "markdown",
   "metadata": {},
   "source": [
    "What is the number of steps it will take to run Program 1 in the worst case? Express your answer in terms of _n_, the number of elements in the list `L`. You can assume list appending takes 1 step.\n",
    "<div>\n",
    "    <input type=\"text\" placeholder=\"3*n^2 + n + 2\">\n",
    "</div>"
   ]
  },
  {
   "cell_type": "markdown",
   "metadata": {},
   "source": [
    "---"
   ]
  },
  {
   "cell_type": "code",
   "execution_count": null,
   "metadata": {},
   "outputs": [],
   "source": [
    "# Program 2\n",
    "def program2(L):\n",
    "    squares = []\n",
    "    for x in L:\n",
    "        for y in L:\n",
    "            if x == y:\n",
    "                squares.append(x*y)\n",
    "    return squares"
   ]
  },
  {
   "cell_type": "markdown",
   "metadata": {},
   "source": [
    "What is the number of steps it will take to run Program 2 in the best case? Express your answer in terms of _n_, the number of elements in the list `L`. You can assume list appending takes 1 step.\n",
    "<div>\n",
    "    <input type=\"text\" placeholder=\"2\">\n",
    "</div>"
   ]
  },
  {
   "cell_type": "markdown",
   "metadata": {},
   "source": [
    "What is the number of steps it will take to run Program 2 in the worst case? Express your answer in terms of _n_, the number of elements in the list `L`. You can assume list appending takes 1 step.\n",
    "<div>\n",
    "    <input type=\"text\" placeholder=\"4*n^2 + n + 2\">\n",
    "</div>"
   ]
  },
  {
   "cell_type": "markdown",
   "metadata": {},
   "source": [
    "---"
   ]
  },
  {
   "cell_type": "code",
   "execution_count": null,
   "metadata": {},
   "outputs": [],
   "source": [
    "# Program 3\n",
    "def program3(L1, L2):\n",
    "    intersection = []\n",
    "    for elt in L1:\n",
    "        if elt in L2:\n",
    "            intersection.append(elt)\n",
    "    return intersection"
   ]
  },
  {
   "cell_type": "markdown",
   "metadata": {},
   "source": [
    "What is the number of steps it will take to run Program 3 in the best case? Express your answer in terms of _n_, the number of elements in the list `L`. You can assume list appending takes 1 step.\n",
    "<div>\n",
    "    <input type=\"text\" placeholder=\"2\">\n",
    "</div>"
   ]
  },
  {
   "cell_type": "markdown",
   "metadata": {},
   "source": [
    "What is the number of steps it will take to run Program 3 in the worst case? Express your answer in terms of _n_, the number of elements in the list `L`. You can assume list appending takes 1 step.\n",
    "<div>\n",
    "    <input type=\"text\" placeholder=\"n^2 + 2*n + 2\">\n",
    "</div>"
   ]
  },
  {
   "cell_type": "markdown",
   "metadata": {},
   "source": [
    "---"
   ]
  },
  {
   "cell_type": "markdown",
   "metadata": {},
   "source": [
    "In the last video, Professor Grimson introduced the idea of \"asymptotic complexity\", which means we describe running time in terms of number of basic steps. We've described the best- and worst-case running times in terms number of basic steps for the three programs above. Now, we'd like you to give the complexity order (ie, \"Big O\" running time) of each of the above programs.\n",
    "\n",
    "Recall that \"Big O\" notation gives an upper bound on asymptotic growth of a function. So, should you use the best-case or the worst-case running times for each program? Review the video again if you're unsure of what to put for the following boxes.\n",
    "\n",
    "Note: Your answer should be expressed with a capital letter O, then a mathematical term similar to one described in the introduction to this problem - for example, O(n^5)."
   ]
  },
  {
   "cell_type": "markdown",
   "metadata": {},
   "source": [
    "1. What is the complexity order of Program 1?\n",
    "<div>\n",
    "    <input type=\"text\" placeholder=\"O(n^2)\">\n",
    "</div>"
   ]
  },
  {
   "cell_type": "markdown",
   "metadata": {},
   "source": [
    "2. What is the complexity order of Program 2?\n",
    "<div>\n",
    "    <input type=\"text\" placeholder=\"O(n^2)\">\n",
    "</div>"
   ]
  },
  {
   "cell_type": "markdown",
   "metadata": {},
   "source": [
    "3. What is the complexity order of Program 3?\n",
    "<div>\n",
    "    <input type=\"text\" placeholder=\"O(n^2)\">\n",
    "</div>"
   ]
  }
 ],
 "metadata": {
  "kernelspec": {
   "display_name": "Python 3",
   "language": "python",
   "name": "python3"
  },
  "language_info": {
   "name": "python",
   "version": "3.12.4"
  }
 },
 "nbformat": 4,
 "nbformat_minor": 2
}
