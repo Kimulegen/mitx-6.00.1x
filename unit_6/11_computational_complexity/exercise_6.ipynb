{
 "cells": [
  {
   "cell_type": "markdown",
   "metadata": {},
   "source": [
    "Consider the following Python procedures. For each one, specify its order of growth."
   ]
  },
  {
   "cell_type": "code",
   "execution_count": null,
   "metadata": {},
   "outputs": [],
   "source": [
    "# Assume n has been previously bound to some value\n",
    "i = 0\n",
    "while i < 5:\n",
    "   n *= 2\n",
    "   i += 1\n",
    "\n",
    "print(n)"
   ]
  },
  {
   "cell_type": "markdown",
   "metadata": {},
   "source": [
    "<div>\n",
    "    <input type=\"text\" placeholder=\"O(1)\">\n",
    "</div>"
   ]
  },
  {
   "cell_type": "markdown",
   "metadata": {},
   "source": [
    "---"
   ]
  },
  {
   "cell_type": "code",
   "execution_count": null,
   "metadata": {},
   "outputs": [],
   "source": [
    "def iterPower(a, b):\n",
    "   result = 1\n",
    "   while b > 0:\n",
    "      result *= a\n",
    "      b -= 1\n",
    "   return result"
   ]
  },
  {
   "cell_type": "markdown",
   "metadata": {},
   "source": [
    "<div>\n",
    "    <input type=\"text\" placeholder=\"O(b)\">\n",
    "</div>"
   ]
  },
  {
   "cell_type": "markdown",
   "metadata": {},
   "source": [
    "---"
   ]
  },
  {
   "cell_type": "code",
   "execution_count": null,
   "metadata": {},
   "outputs": [],
   "source": [
    "def recurPower(a, b):\n",
    "   print(a, b)\n",
    "   if b == 0:\n",
    "      return 1\n",
    "   else:\n",
    "      return a * recurPower(a, b-1)"
   ]
  },
  {
   "cell_type": "markdown",
   "metadata": {},
   "source": [
    "<div>\n",
    "    <input type=\"text\" placeholder=\"O(b)\">\n",
    "</div>"
   ]
  },
  {
   "cell_type": "markdown",
   "metadata": {},
   "source": [
    "---"
   ]
  },
  {
   "cell_type": "code",
   "execution_count": null,
   "metadata": {},
   "outputs": [],
   "source": [
    "def recurPowerNew(a, b):\n",
    "   print(a, b)\n",
    "   if b == 0:\n",
    "      return 1\n",
    "   elif b%2 == 0:\n",
    "      return recurPowerNew(a*a, b/2)\n",
    "   else:\n",
    "      return a * recurPowerNew(a, b-1)"
   ]
  },
  {
   "cell_type": "markdown",
   "metadata": {},
   "source": [
    "<div>\n",
    "    <input type=\"text\" placeholder=\"O(log(b))\">\n",
    "</div>"
   ]
  }
 ],
 "metadata": {
  "language_info": {
   "name": "python"
  }
 },
 "nbformat": 4,
 "nbformat_minor": 2
}
