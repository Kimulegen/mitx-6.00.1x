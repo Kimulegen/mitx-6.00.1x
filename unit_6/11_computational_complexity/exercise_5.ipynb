{
 "cells": [
  {
   "cell_type": "markdown",
   "metadata": {},
   "source": [
    "For each of the following expressions, select the order of growth class that best describes it from the following list: $O(1), O(log(n)), O(n), O(n log(n)), O(n^c)$ or $O(c^n)$."
   ]
  },
  {
   "cell_type": "markdown",
   "metadata": {},
   "source": [
    "- $5n$\n",
    "<div>\n",
    "    <input type=\"text\" placeholder=\"O(n)\">\n",
    "</div>"
   ]
  },
  {
   "cell_type": "markdown",
   "metadata": {},
   "source": [
    "- $3n^2 + 2n - 1000$\n",
    "<div>\n",
    "    <input type=\"text\" placeholder=\"O(n^c)\">\n",
    "</div>"
   ]
  },
  {
   "cell_type": "markdown",
   "metadata": {},
   "source": [
    "- $10log(n) + 5n$\n",
    "<div>\n",
    "    <input type=\"text\" placeholder=\"O(n)\">\n",
    "</div>"
   ]
  },
  {
   "cell_type": "markdown",
   "metadata": {},
   "source": [
    "- $10log(n) + 5n^2$\n",
    "<div>\n",
    "    <input type=\"text\" placeholder=\"O(n^c)\">\n",
    "</div>"
   ]
  },
  {
   "cell_type": "markdown",
   "metadata": {},
   "source": [
    "- $3n^3 - 2000n^2$\n",
    "<div>\n",
    "    <input type=\"text\" placeholder=\"O(n^c)\">\n",
    "</div>"
   ]
  },
  {
   "cell_type": "markdown",
   "metadata": {},
   "source": [
    "- $2n^2$\n",
    "<div>\n",
    "    <input type=\"text\" placeholder=\"O(n^c)\">\n",
    "</div>"
   ]
  },
  {
   "cell_type": "markdown",
   "metadata": {},
   "source": [
    "- $50n + nlog(n)$\n",
    "<div>\n",
    "    <input type=\"text\" placeholder=\"O(nlog(n))\">\n",
    "</div>"
   ]
  },
  {
   "cell_type": "markdown",
   "metadata": {},
   "source": [
    "- $1000 + 2000000$\n",
    "<div>\n",
    "    <input type=\"text\" placeholder=\"O(1)\">\n",
    "</div>"
   ]
  },
  {
   "cell_type": "markdown",
   "metadata": {},
   "source": [
    "- $2^n + n^2$\n",
    "<div>\n",
    "    <input type=\"text\" placeholder=\"O(c^n)\">\n",
    "</div>"
   ]
  },
  {
   "cell_type": "markdown",
   "metadata": {},
   "source": [
    "- $logn + 1000$\n",
    "<div>\n",
    "    <input type=\"text\" placeholder=\"O(log(n))\">\n",
    "</div>"
   ]
  }
 ],
 "metadata": {
  "language_info": {
   "name": "python"
  }
 },
 "nbformat": 4,
 "nbformat_minor": 2
}
