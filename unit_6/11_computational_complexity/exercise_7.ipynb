{
 "cells": [
  {
   "cell_type": "markdown",
   "metadata": {},
   "source": [
    "Consider the following Python procedures. For each one, specify its order of growth."
   ]
  },
  {
   "cell_type": "code",
   "execution_count": null,
   "metadata": {},
   "outputs": [],
   "source": [
    "def lenRecur(s):\n",
    "   if s == '':\n",
    "      return 0\n",
    "   else:\n",
    "      return 1 + lenRecur(s[1:])"
   ]
  },
  {
   "cell_type": "markdown",
   "metadata": {},
   "source": [
    "<div>\n",
    "    <input type=\"text\" placeholder=\"O(len(s))\">\n",
    "</div>"
   ]
  },
  {
   "cell_type": "markdown",
   "metadata": {},
   "source": [
    "---"
   ]
  },
  {
   "cell_type": "code",
   "execution_count": null,
   "metadata": {},
   "outputs": [],
   "source": [
    "def isIn(a, s):\n",
    "   '''\n",
    "   a is a character, or, singleton string.\n",
    "   s is a string, sorted in alphabetical order.\n",
    "   '''\n",
    "   if len(s) == 0:\n",
    "      return False\n",
    "   elif len(s) == 1:\n",
    "      return a == s\n",
    "   else:\n",
    "      test = s[len(s)//2]\n",
    "      if test == a:\n",
    "         return True\n",
    "      elif a < test:\n",
    "         return isIn(a, s[:len(s)//2])\n",
    "      else:\n",
    "         return isIn(a, s[len(s)//2+1:])"
   ]
  },
  {
   "cell_type": "markdown",
   "metadata": {},
   "source": [
    "<div>\n",
    "    <input type=\"text\" placeholder=\"O(log(len(s)))\">\n",
    "</div>"
   ]
  },
  {
   "cell_type": "markdown",
   "metadata": {},
   "source": [
    "---"
   ]
  },
  {
   "cell_type": "code",
   "execution_count": null,
   "metadata": {},
   "outputs": [],
   "source": [
    "def union(L1, L2):\n",
    "   '''\n",
    "   L1 & L2 are lists of the same length, n\n",
    "   '''\n",
    "   temp = L1[:]\n",
    "   for e2 in L2:\n",
    "      flag = False\n",
    "      for check in temp:\n",
    "         if e2 == check:\n",
    "            flag = True\n",
    "            break\n",
    "      if not flag:\n",
    "         temp.append(e2)\n",
    "   return temp"
   ]
  },
  {
   "cell_type": "markdown",
   "metadata": {},
   "source": [
    "<div>\n",
    "    <input type=\"text\" placeholder=\"O(n^2)\">\n",
    "</div>"
   ]
  },
  {
   "cell_type": "markdown",
   "metadata": {},
   "source": [
    "---"
   ]
  },
  {
   "cell_type": "code",
   "execution_count": null,
   "metadata": {},
   "outputs": [],
   "source": [
    "def unionNew(L1, L2):\n",
    "   '''\n",
    "   L1 & L2 are lists of the same length, n\n",
    "   '''\n",
    "   temp = []\n",
    "   for e1 in L1:\n",
    "      flag = False\n",
    "      for e2 in L2:\n",
    "         if e1 == e2:\n",
    "            flag = True\n",
    "            break\n",
    "      if not flag:\n",
    "         temp.append(e1)\n",
    "   return temp + L2"
   ]
  },
  {
   "cell_type": "markdown",
   "metadata": {},
   "source": [
    "<div>\n",
    "    <input type=\"text\" placeholder=\"O(n^2)\">\n",
    "</div>"
   ]
  }
 ],
 "metadata": {
  "language_info": {
   "name": "python"
  }
 },
 "nbformat": 4,
 "nbformat_minor": 2
}
