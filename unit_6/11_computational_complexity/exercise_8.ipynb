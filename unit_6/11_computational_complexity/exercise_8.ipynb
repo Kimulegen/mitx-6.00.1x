{
 "cells": [
  {
   "cell_type": "markdown",
   "metadata": {},
   "source": [
    "Rank the following terms by order of growth, from smallest to largest. Drag each term to its proper place on the diagram; be sure to use each term exactly once."
   ]
  },
  {
   "cell_type": "markdown",
   "metadata": {},
   "source": [
    "1. $500000$\n",
    "2. $log(log(n))$\n",
    "3. $log(n)$\n",
    "4. $n$\n",
    "5. $n \\cdot log(n)$\n",
    "6. $n^2$\n",
    "7. $n^3$\n",
    "8. $3^n$\n",
    "9. $n^n$\n",
    "10. $2^{n^2}$"
   ]
  }
 ],
 "metadata": {
  "language_info": {
   "name": "python"
  }
 },
 "nbformat": 4,
 "nbformat_minor": 2
}
