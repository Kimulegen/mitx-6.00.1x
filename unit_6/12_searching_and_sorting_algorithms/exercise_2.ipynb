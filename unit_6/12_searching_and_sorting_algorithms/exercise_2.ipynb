{
 "cells": [
  {
   "cell_type": "markdown",
   "metadata": {},
   "source": [
    "Here is some code for linear search that uses the fact that a set of elements is sorted in increasing order:"
   ]
  },
  {
   "cell_type": "code",
   "execution_count": null,
   "metadata": {},
   "outputs": [],
   "source": [
    "def search(L, e):\n",
    "    for i in range(len(L)):\n",
    "        if L[i] == e:\n",
    "            return True\n",
    "        if L[i] > e:\n",
    "            return False\n",
    "    return False"
   ]
  },
  {
   "cell_type": "markdown",
   "metadata": {},
   "source": [
    "Consider the following code, which is an alternative version of `search`."
   ]
  },
  {
   "cell_type": "code",
   "execution_count": null,
   "metadata": {},
   "outputs": [],
   "source": [
    "def search1(L, e):\n",
    "    for i in L:\n",
    "        if i == e:\n",
    "            return True\n",
    "        if i > e:\n",
    "            return False\n",
    "    return False"
   ]
  },
  {
   "cell_type": "markdown",
   "metadata": {},
   "source": [
    "Which of the following statements is correct? You may assume that each function is tested with a list `L` whose elements are sorted in increasing order; for simplicity, assume `L` is a list of positive integers.\n",
    "\n",
    "<div style=\"margin-top:20px\">\n",
    "    <fieldset style=\"margin:10px 0;padding:8px\">\n",
    "        <input type=\"radio\" checked/>\n",
    "        <code>search</code> and <code>search1</code> return the same answers.\n",
    "    </fieldset>\n",
    "    <fieldset style=\"margin:10px 0;padding:8px\">\n",
    "        <input type=\"radio\"/> \n",
    "        <code>search</code> and <code>search1</code> return the same answers provide <code>L</code> is non-empty.\n",
    "    </fieldset>\n",
    "    <fieldset style=\"margin:10px 0;padding:8px\">\n",
    "        <input type=\"radio\"/> \n",
    "        <code>search</code> and <code>search1</code> return the same answers provide <code>L</code> is non-empty and <code>e</code> is in <code>L</code>.\n",
    "    </fieldset>\n",
    "    <fieldset style=\"margin:10px 0;padding:8px\">\n",
    "        <input type=\"radio\"/> \n",
    "        <code>search</code> and <code>search1</code> do not return the same answers.\n",
    "    </fieldset>\n",
    "    <fieldset style=\"margin:10px 0;padding:8px\">\n",
    "        <input type=\"radio\"/> \n",
    "        <code>search</code> and <code>search1</code> return the same answers for lists of length 0 and 1 only.\n",
    "    </fieldset>\n",
    "</div>"
   ]
  }
 ],
 "metadata": {
  "language_info": {
   "name": "python"
  }
 },
 "nbformat": 4,
 "nbformat_minor": 2
}
