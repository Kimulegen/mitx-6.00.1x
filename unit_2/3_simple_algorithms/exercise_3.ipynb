{
 "cells": [
  {
   "cell_type": "markdown",
   "metadata": {},
   "source": [
    "1. True or False? The internal computer representation of any number is always an approximation.\n",
    "<div style=\"margin-top:20px\">\n",
    "    <fieldset style=\"margin:10px;padding:8px\">\n",
    "        <input type=\"radio\" name=\"question\" unchecked/> Yes\n",
    "    </fieldset>\n",
    "    <fieldset style=\"margin:10px;padding:8px\">\n",
    "        <input type=\"radio\" name=\"question\" checked/> No\n",
    "    </fieldset>\n",
    "</div>"
   ]
  },
  {
   "cell_type": "markdown",
   "metadata": {},
   "source": [
    "2. The decimal 11 is what binary?:\n",
    "<div style=\"margin-top:20px\">\n",
    "    <fieldset style=\"margin:10px;padding:8px\">\n",
    "        <input type=\"radio\" name=\"question\" unchecked />\n",
    "        11\n",
    "    </fieldset>\n",
    "    <fieldset style=\"margin:10px;padding:8px\">\n",
    "        <input type=\"radio\" name=\"question\" checked/> \n",
    "        1011\n",
    "    </fieldset>\n",
    "    <fieldset style=\"margin:10px;padding:8px\">\n",
    "        <input type=\"radio\" name=\"question\" unchecked/> \n",
    "        1101\n",
    "    </fieldset>\n",
    "    <fieldset style=\"margin:10px;padding:8px\">\n",
    "        <input type=\"radio\" name=\"question\" unchecked/> \n",
    "        cannot be converted\n",
    "    </fieldset>\n",
    "</div>\n"
   ]
  },
  {
   "cell_type": "markdown",
   "metadata": {},
   "source": [
    "3. True or False? The internal representation of the decimal number 1/10 = 0.1 requires an infinite number of digits.\n",
    "<div style=\"margin-top:20px\">\n",
    "    <fieldset style=\"margin:10px;padding:8px\">\n",
    "        <input type=\"radio\" name=\"question\" checked/> Yes\n",
    "    </fieldset>\n",
    "    <fieldset style=\"margin:10px;padding:8px\">\n",
    "        <input type=\"radio\" name=\"question\" unchecked/> No\n",
    "    </fieldset>\n",
    "</div>"
   ]
  },
  {
   "cell_type": "markdown",
   "metadata": {},
   "source": [
    "4. After many computations, you get two floating numbers stored in variables `a` and `b`. Your code compares the numbers with `a == b`.\n",
    "<div style=\"margin-top:20px\">\n",
    "    <fieldset style=\"margin:10px;padding:8px\">\n",
    "        <input type=\"radio\" name=\"question\" unchecked />\n",
    "        Doing the comparison will always lead to a correct program.\n",
    "    </fieldset>\n",
    "    <fieldset style=\"margin:10px;padding:8px\">\n",
    "        <input type=\"radio\" name=\"question\" checked/> \n",
    "        Doing the comparison will sometimes lead to a correct program.\n",
    "    </fieldset>\n",
    "    <fieldset style=\"margin:10px;padding:8px\">\n",
    "        <input type=\"radio\" name=\"question\" unchecked/> \n",
    "        Doing the comparison will never lead to a correct program.\n",
    "    </fieldset>\n",
    "</div>\n"
   ]
  }
 ],
 "metadata": {
  "language_info": {
   "name": "python"
  }
 },
 "nbformat": 4,
 "nbformat_minor": 2
}
