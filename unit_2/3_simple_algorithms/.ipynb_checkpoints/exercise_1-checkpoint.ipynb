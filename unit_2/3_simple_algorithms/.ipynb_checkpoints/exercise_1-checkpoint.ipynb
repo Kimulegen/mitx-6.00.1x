{
 "cells": [
  {
   "cell_type": "markdown",
   "metadata": {},
   "source": [
    "Below are some short Python programs. For each program, answer the associated questions.\n",
    "\n",
    "Try to answer the questions without running the code. Check your answers, then run the code for the ones you get wrong."
   ]
  },
  {
   "cell_type": "code",
   "execution_count": null,
   "metadata": {},
   "outputs": [],
   "source": [
    "iteration = 0\n",
    "count = 0\n",
    "while iteration < 5:\n",
    "    # the variable 'letter' in the loop stands for every \n",
    "    # character, including spaces and commas!\n",
    "    for letter in \"hello, world\": \n",
    "        count += 1\n",
    "    print(\"Iteration \" + str(iteration) + \"; count is: \" + str(count))\n",
    "    iteration += 1 "
   ]
  },
  {
   "cell_type": "markdown",
   "metadata": {},
   "source": [
    "1. What is the value of the variable `count` that is printed out (at the `print` statement) on iteration 0?\n",
    "<div>\n",
    "    <input type=\"text\" placeholder=\"12\">\n",
    "</div>"
   ]
  },
  {
   "cell_type": "markdown",
   "metadata": {},
   "source": [
    "2. What is the value of the variable `count` that is printed out (at the `print` statement) on iteration 1?\n",
    "<div>\n",
    "    <input type=\"text\" placeholder=\"24\">\n",
    "</div>"
   ]
  },
  {
   "cell_type": "markdown",
   "metadata": {},
   "source": [
    "3. What is the value of the variable `count` that is printed out (at the `print` statement) on iteration 2?\n",
    "<div>\n",
    "    <input type=\"text\" placeholder=\"36\">\n",
    "</div>"
   ]
  },
  {
   "cell_type": "markdown",
   "metadata": {},
   "source": [
    "4. What is the value of the variable `count` that is printed out (at the `print` statement) on iteration 3?\n",
    "<div>\n",
    "    <input type=\"text\" placeholder=\"48\">\n",
    "</div>\n"
   ]
  },
  {
   "cell_type": "markdown",
   "metadata": {},
   "source": [
    "5. What is the value of the variable `count` that is printed out (at the `print` statement) on iteration 4?\n",
    "<div>\n",
    "    <input type=\"text\" placeholder=\"60\">\n",
    "</div>"
   ]
  },
  {
   "cell_type": "markdown",
   "metadata": {},
   "source": [
    "---"
   ]
  },
  {
   "cell_type": "code",
   "execution_count": null,
   "metadata": {},
   "outputs": [],
   "source": [
    "iteration = 0\n",
    "while iteration < 5:\n",
    "    count = 0\n",
    "    for letter in \"hello, world\":\n",
    "        count += 1\n",
    "    print(\"Iteration \" + str(iteration) + \"; count is: \" + str(count))\n",
    "    iteration += 1 "
   ]
  },
  {
   "cell_type": "markdown",
   "metadata": {},
   "source": [
    "1. What is the value of the variable `count` that is printed out (at the `print` statement) on iteration 0?\n",
    "<div>\n",
    "    <input type=\"text\" placeholder=\"12\">\n",
    "</div>"
   ]
  },
  {
   "cell_type": "markdown",
   "metadata": {},
   "source": [
    "2. What is the value of the variable `count` that is printed out (at the `print` statement) on iteration 1?\n",
    "<div>\n",
    "    <input type=\"text\" placeholder=\"12\">\n",
    "</div>\n"
   ]
  },
  {
   "cell_type": "markdown",
   "metadata": {},
   "source": [
    "3. What is the value of the variable `count` that is printed out (at the `print` statement) on iteration 2?\n",
    "<div>\n",
    "    <input type=\"text\" placeholder=\"12\">\n",
    "</div>"
   ]
  },
  {
   "cell_type": "markdown",
   "metadata": {},
   "source": [
    "4. What is the value of the variable `count` that is printed out (at the `print` statement) on iteration 3?\n",
    "<div>\n",
    "    <input type=\"text\" placeholder=\"12\">\n",
    "</div>"
   ]
  },
  {
   "cell_type": "markdown",
   "metadata": {},
   "source": [
    "5. What is the value of the variable `count` that is printed out (at the `print` statement) on iteration 4?\n",
    "<div>\n",
    "    <input type=\"text\" placeholder=\"12\">\n",
    "</div>"
   ]
  },
  {
   "cell_type": "markdown",
   "metadata": {},
   "source": [
    "---"
   ]
  },
  {
   "cell_type": "code",
   "execution_count": null,
   "metadata": {},
   "outputs": [],
   "source": [
    "iteration = 0\n",
    "while iteration < 5:\n",
    "    count = 0\n",
    "    for letter in \"hello, world\":\n",
    "        count += 1\n",
    "        if iteration % 2 == 0:\n",
    "            break\n",
    "    print(\"Iteration \" + str(iteration) + \"; count is: \" + str(count))\n",
    "    iteration += 1 "
   ]
  },
  {
   "cell_type": "markdown",
   "metadata": {},
   "source": [
    "1. How many times will the `print` statement be executed?\n",
    "<div>\n",
    "    <input type=\"text\" placeholder=\"5\">\n",
    "</div>"
   ]
  },
  {
   "cell_type": "markdown",
   "metadata": {},
   "source": [
    "2. What is the largest value of the variable `iteration` that will be printed out (at the print statement)?\n",
    "<div>\n",
    "    <input type=\"text\" placeholder=\"4\">\n",
    "</div>"
   ]
  },
  {
   "cell_type": "markdown",
   "metadata": {},
   "source": [
    "3. What is the largest value of the variable `count` that will be printed out (at the `print` statement)?\n",
    "<div>\n",
    "    <input type=\"text\" placeholder=\"12\">\n",
    "</div>"
   ]
  },
  {
   "cell_type": "markdown",
   "metadata": {},
   "source": [
    "4. What is the smallest value of the variable `count` that will be printed out (at the `print` statement)?\n",
    "<div>\n",
    "    <input type=\"text\" placeholder=\"1\">\n",
    "</div>"
   ]
  }
 ],
 "metadata": {
  "kernelspec": {
   "display_name": "Python 3 (ipykernel)",
   "language": "python",
   "name": "python3"
  },
  "language_info": {
   "codemirror_mode": {
    "name": "ipython",
    "version": 3
   },
   "file_extension": ".py",
   "mimetype": "text/x-python",
   "name": "python",
   "nbconvert_exporter": "python",
   "pygments_lexer": "ipython3",
   "version": "3.11.7"
  }
 },
 "nbformat": 4,
 "nbformat_minor": 4
}
