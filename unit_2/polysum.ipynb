{
 "cells": [
  {
   "cell_type": "markdown",
   "metadata": {},
   "source": [
    "A regular polygon has n number of sides. Each side has length `s`.\n",
    "\n",
    "The area of a regular polygon is: $\\frac {0.25 \\cdot n \\cdot s^2} {tan(\\pi/n)}$\n",
    "\n",
    "The perimeter of a polygon is: length of the boundary of the polygon\n",
    "\n",
    "\n",
    "Write a function called `polysum` that takes 2 arguments, `n` and `s`. This function should sum the area and square of the perimeter of the regular polygon. The function returns the sum, rounded to 4 decimal places."
   ]
  },
  {
   "cell_type": "code",
   "execution_count": null,
   "metadata": {},
   "outputs": [],
   "source": [
    "import math\n",
    "\n",
    "\n",
    "def polysum(n, s):\n",
    "    \"\"\"\n",
    "    n, s: positive integers\n",
    "\n",
    "    return: sum of the area and square of the perimeter of a regular polygon.\n",
    "    \"\"\"\n",
    "    area = (0.25 * n * s**2) / (math.tan(math.pi / n))\n",
    "    perimeter = n * s\n",
    "\n",
    "    return round(area + perimeter**2, 4)"
   ]
  }
 ],
 "metadata": {
  "kernelspec": {
   "display_name": "Python 3 (ipykernel)",
   "language": "python",
   "name": "python3"
  },
  "language_info": {
   "codemirror_mode": {
    "name": "ipython",
    "version": 3
   },
   "file_extension": ".py",
   "mimetype": "text/x-python",
   "name": "python",
   "nbconvert_exporter": "python",
   "pygments_lexer": "ipython3",
   "version": "3.11.7"
  }
 },
 "nbformat": 4,
 "nbformat_minor": 4
}
