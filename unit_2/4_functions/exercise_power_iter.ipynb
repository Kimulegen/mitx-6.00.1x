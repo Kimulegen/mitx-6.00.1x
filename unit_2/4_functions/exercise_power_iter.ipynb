{
 "cells": [
  {
   "cell_type": "markdown",
   "metadata": {},
   "source": [
    "Write an iterative function `iterPower(base, exp)` that calculates the exponential $base^exp$ by simply using successive multiplication. For example, `iterPower(base, exp)` should compute $base^exp$  by multiplying `base` times itself `exp` times. Write such a function below.\n",
    "\n",
    "This function should take in two values - `base` can be a float or an integer; `exp` will be an integer  $\\geq 0$. It should return one numerical value. Your code must be iterative - use of the `**` operator is not allowed."
   ]
  },
  {
   "cell_type": "code",
   "execution_count": null,
   "metadata": {},
   "outputs": [],
   "source": [
    "def iterPower(base, exp):\n",
    "    '''\n",
    "    base: int or float.\n",
    "    exp: int >= 0\n",
    " \n",
    "    returns: int or float, base^exp\n",
    "    '''\n",
    "\n",
    "    result = 1\n",
    "    for i in range(exp):\n",
    "        result *= base\n",
    "        \n",
    "    return result"
   ]
  }
 ],
 "metadata": {
  "language_info": {
   "name": "python"
  }
 },
 "nbformat": 4,
 "nbformat_minor": 2
}
