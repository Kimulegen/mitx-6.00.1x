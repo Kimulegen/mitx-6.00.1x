{
 "cells": [
  {
   "cell_type": "markdown",
   "metadata": {},
   "source": [
    "The greatest common divisor of two positive integers is the largest integer that divides each of them without remainder. For example,\n",
    "\n",
    "- gcd(2, 12) = 2\n",
    "\n",
    "- gcd(6, 12) = 6\n",
    "\n",
    "- gcd(9, 12) = 3\n",
    "\n",
    "- gcd(17, 12) = 1\n",
    "\n",
    "A clever mathematical trick (due to Euclid) makes it easy to find greatest common divisors. Suppose that `a` and `b` are two positive integers:\n",
    "\n",
    "- If `b = 0`, then the answer is `a`\n",
    "\n",
    "- Otherwise, `gcd(a, b)` is the same as `gcd(b, a % b)`\n",
    "\n",
    "[See this website for an example of Euclid's algorithm being used to find the gcd.](https://en.wikipedia.org/wiki/Euclidean_algorithm#Worked_example)\n",
    "\n",
    "Write a function `gcdRecur(a, b)` that implements this idea recursively. This function takes in two positive integers and returns one integer."
   ]
  },
  {
   "cell_type": "code",
   "execution_count": null,
   "metadata": {},
   "outputs": [],
   "source": [
    "def gcdRecur(a, b):\n",
    "    '''\n",
    "    a, b: positive integers\n",
    "    \n",
    "    returns: a positive integer, the greatest common divisor of a & b.\n",
    "    '''\n",
    "    if b == 0:\n",
    "        return a\n",
    "    return gcdRecur(b, a % b)"
   ]
  }
 ],
 "metadata": {
  "language_info": {
   "name": "python"
  }
 },
 "nbformat": 4,
 "nbformat_minor": 2
}
