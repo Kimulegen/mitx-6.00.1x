{
 "cells": [
  {
   "cell_type": "markdown",
   "metadata": {},
   "source": [
    "We can use the idea of **bisection search** to determine if a character is in a string, so long as the string is sorted in alphabetical order.\n",
    "\n",
    "First, test the middle character of a string against the character you're looking for (the \"test character\"). If they are the same, we are done - we've found the character we're looking for!\n",
    "\n",
    "If they're not the same, check if the test character is \"smaller\" than the middle character. If so, we need only consider the lower half of the string; otherwise, we only consider the upper half of the string. (Note that you can compare characters using Python's `<` function.)\n",
    "\n",
    "Implement the function `isIn(char, aStr)` which implements the above idea recursively to test if `char` is in `aStr`. `char` will be a single character and `aStr` will be a string that is in alphabetical order. The function should return a boolean value.\n",
    "\n",
    "As you design the function, think very carefully about what the base cases should be."
   ]
  },
  {
   "cell_type": "code",
   "execution_count": null,
   "metadata": {},
   "outputs": [],
   "source": [
    "def isIn(char, aStr):\n",
    "    \"\"\"\n",
    "    char: a single character\n",
    "    aStr: an alphabetized string\n",
    "\n",
    "    returns: True if char is in aStr; False otherwise\n",
    "    \"\"\"\n",
    "    if len(aStr) == 0:\n",
    "        return False\n",
    "    \n",
    "    middleChar = aStr[len(aStr)//2]\n",
    "    if char == middleChar:\n",
    "        return True"
   ]
  }
 ],
 "metadata": {
  "language_info": {
   "name": "python"
  }
 },
 "nbformat": 4,
 "nbformat_minor": 2
}
