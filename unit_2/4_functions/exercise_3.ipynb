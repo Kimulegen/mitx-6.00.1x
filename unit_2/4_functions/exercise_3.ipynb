{
 "cells": [
  {
   "cell_type": "markdown",
   "metadata": {},
   "source": [
    "Below is a transcript of a session with the Python shell. Provide the type and value of the expressions being evaluated. If evaluating an expression would cause an error, select NoneType and write 'error' in the box. If the result is a function, select function and write 'function' in the box. As always, try to do this problem by hand before turning to your interpreter.\n",
    "\n",
    "Assume the following definitions have been made:"
   ]
  },
  {
   "cell_type": "code",
   "execution_count": null,
   "metadata": {},
   "outputs": [],
   "source": [
    "def a(x, y, z):\n",
    "     if x:\n",
    "         return y\n",
    "     else:\n",
    "         return z\n",
    "\n",
    "def b(q, r):\n",
    "    return a(q>r, q, r)"
   ]
  },
  {
   "cell_type": "markdown",
   "metadata": {},
   "source": [
    "1. `a(False, 2, 3)`\n",
    "<div style=\"margin-left:40px;margin-bottom:40px\">\n",
    "    <input type=\"text\" placeholder=\"int\" style=\"display:block\">\n",
    "    <input type=\"text\" placeholder=\"3\" style=\"display:block\">\n",
    "</div>\n",
    "\n",
    "2. `b(3, 2)`\n",
    "<div style=\"margin-left:40px;margin-bottom:40px\">\n",
    "    <input type=\"text\" placeholder=\"int\" style=\"display:block\">\n",
    "    <input type=\"text\" placeholder=\"3\" style=\"display:block\">\n",
    "</div>\n",
    "\n",
    "3. `a(3>2, a, b)`\n",
    "<div style=\"margin-left:40px;margin-bottom:40px\">\n",
    "    <input type=\"text\" placeholder=\"function\" style=\"display:block\">\n",
    "    <input type=\"text\" placeholder=\"function\" style=\"display:block\">\n",
    "</div>\n",
    "\n",
    "4. `b(a, b)`\n",
    "<div style=\"margin-left:40px;margin-bottom:40px\">\n",
    "    <input type=\"text\" placeholder=\"NoneType\" style=\"display:block\">\n",
    "    <input type=\"text\" placeholder=\"error\" style=\"display:block\">\n",
    "</div>"
   ]
  }
 ],
 "metadata": {
  "language_info": {
   "name": "python"
  }
 },
 "nbformat": 4,
 "nbformat_minor": 2
}
