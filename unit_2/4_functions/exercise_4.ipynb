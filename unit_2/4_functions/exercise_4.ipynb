{
 "cells": [
  {
   "cell_type": "markdown",
   "metadata": {},
   "source": [
    "Below is a transcript of a session with the Python shell. Provide the type and value of the expressions being evaluated. If evaluating an expression would cause an error, select NoneType and write 'error' in the box. If the result is a function, select function and write 'function' in the box.\n",
    "\n",
    "To get the most out of this problem, try to figure out the answers by reading the code, not running it. Run the code in your interpreter only after you've checked your answers a few times.\n",
    "\n",
    "**Hint**: If you are confused, you may find it helpful to draw out an environment diagram similar to what was presented in lecture."
   ]
  },
  {
   "cell_type": "markdown",
   "metadata": {},
   "source": [
    "```python\n",
    ">>> a = 10\n",
    ">>> def f(x):\n",
    "      return x + a\n",
    ">>> a = 3\n",
    ">>> f(1)\n",
    "```\n",
    "<div style=\"margin-bottom:40px\">\n",
    "    <input type=\"text\" placeholder=\"int\" style=\"display:block\">\n",
    "    <input type=\"text\" placeholder=\"4\" style=\"display:block\">\n",
    "</div>\n",
    "\n",
    "---\n",
    "\n",
    "```python\n",
    ">>> x = 12\n",
    ">>> def g(x):\n",
    "      x = x + 1\n",
    "      def h(y):\n",
    "          return x + y\n",
    "      return h(6)\n",
    ">>> g(x)\n",
    "```\n",
    "<div style=\"margin-bottom:40px\">\n",
    "    <input type=\"text\" placeholder=\"int\" style=\"display:block\">\n",
    "    <input type=\"text\" placeholder=\"19\" style=\"display:block\">\n",
    "</div>"
   ]
  }
 ],
 "metadata": {
  "language_info": {
   "name": "python"
  }
 },
 "nbformat": 4,
 "nbformat_minor": 2
}
