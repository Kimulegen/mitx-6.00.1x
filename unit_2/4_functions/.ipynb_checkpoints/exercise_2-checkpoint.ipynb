{
 "cells": [
  {
   "cell_type": "markdown",
   "metadata": {},
   "source": [
    "You have the following function definitions:"
   ]
  },
  {
   "cell_type": "code",
   "execution_count": null,
   "metadata": {},
   "outputs": [],
   "source": [
    "def a(x):\n",
    "   '''\n",
    "   x: int or float.\n",
    "   '''\n",
    "   return x + 1\n",
    "\n",
    "def b(x):\n",
    "   '''\n",
    "   x: int or float.\n",
    "   '''\n",
    "   return x + 1.0\n",
    "  \n",
    "def c(x, y):\n",
    "   '''\n",
    "   x: int or float. \n",
    "   y: int or float.\n",
    "   '''\n",
    "   return x + y\n",
    "\n",
    "def d(x, y):\n",
    "   '''\n",
    "   x: Can be of any type.\n",
    "   y: Can be of any type.\n",
    "   '''\n",
    "   return x > y\n",
    "\n",
    "def e(x, y, z):\n",
    "   '''\n",
    "   x: Can be of any type.\n",
    "   y: Can be of any type.\n",
    "   z: Can be of any type.\n",
    "   '''\n",
    "   return x >= y and x <= z\n",
    "\n",
    "def f(x, y):\n",
    "   '''\n",
    "   x: int or float.\n",
    "   y: int or float\n",
    "   '''\n",
    "   x + y - 2  "
   ]
  },
  {
   "cell_type": "markdown",
   "metadata": {},
   "source": [
    "Below is a transcript of a session with the Python shell. Provide the type and value of the expressions being evaluated. If evaluating an expression would cause an error, select NoneType and write 'error' in the box. If the value of an expression is a function, select function as the type and write 'function' in the box."
   ]
  },
  {
   "cell_type": "markdown",
   "metadata": {},
   "source": [
    "1. `a(6)`\n",
    "<div>\n",
    "    <input type=\"text\" placeholder=\"int\" style=\"display:block\">\n",
    "    <input type=\"text\" placeholder=\"7\" style=\"display:block\">\n",
    "</div>"
   ]
  },
  {
   "cell_type": "markdown",
   "metadata": {},
   "source": [
    "2. `a(-5.3)`\n",
    "<div>\n",
    "    <input type=\"text\" placeholder=\"float\" style=\"display:block\">\n",
    "    <input type=\"text\" placeholder=\"-4.3\" style=\"display:block\">\n",
    "</div>\n"
   ]
  },
  {
   "cell_type": "markdown",
   "metadata": {},
   "source": [
    "3. `a(a(a(6)))`\n",
    "<div>\n",
    "    <input type=\"text\" placeholder=\"int\" style=\"display:block\">\n",
    "    <input type=\"text\" placeholder=\"9\" style=\"display:block\">\n",
    "</div>"
   ]
  },
  {
   "cell_type": "markdown",
   "metadata": {},
   "source": [
    "4. `c(a(1), b(1))`\n",
    "<div>\n",
    "    <input type=\"text\" placeholder=\"float\" style=\"display:block\">\n",
    "    <input type=\"text\" placeholder=\"4.0\" style=\"display:block\">\n",
    "</div>"
   ]
  },
  {
   "cell_type": "markdown",
   "metadata": {},
   "source": [
    "5. `d('apple', 11.1)`\n",
    "<div>\n",
    "    <input type=\"text\" placeholder=\"NoneType\" style=\"display:block\">\n",
    "    <input type=\"text\" placeholder=\"error\" style=\"display:block\">\n",
    "</div>"
   ]
  },
  {
   "cell_type": "markdown",
   "metadata": {},
   "source": [
    "6. `e(a(3), b(4), c(3, 4))`\n",
    "<div>\n",
    "    <input type=\"text\" placeholder=\"boolean\" style=\"display:block\">\n",
    "    <input type=\"text\" placeholder=\"False\" style=\"display:block\">\n",
    "</div>"
   ]
  },
  {
   "cell_type": "markdown",
   "metadata": {},
   "source": [
    "7. `f`\n",
    "<div>\n",
    "    <input type=\"text\" placeholder=\"function\" style=\"display:block\">\n",
    "    <input type=\"text\" placeholder=\"function\" style=\"display:block\">\n",
    "</div>"
   ]
  }
 ],
 "metadata": {
  "kernelspec": {
   "display_name": "Python 3 (ipykernel)",
   "language": "python",
   "name": "python3"
  },
  "language_info": {
   "codemirror_mode": {
    "name": "ipython",
    "version": 3
   },
   "file_extension": ".py",
   "mimetype": "text/x-python",
   "name": "python",
   "nbconvert_exporter": "python",
   "pygments_lexer": "ipython3",
   "version": "3.11.7"
  }
 },
 "nbformat": 4,
 "nbformat_minor": 4
}
