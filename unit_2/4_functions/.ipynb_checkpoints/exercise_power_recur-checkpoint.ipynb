{
 "cells": [
  {
   "cell_type": "markdown",
   "metadata": {},
   "source": [
    "In Problem 1, we computed an exponential by iteratively executing successive multiplications. We can use the same idea, but in a recursive function.\n",
    "\n",
    "Write a function `recurPower(base, exp)` which computes $base^exp$ by recursively calling itself to solve a smaller version of the same problem, and then multiplying the result by `base` to solve the initial problem.\n",
    "\n",
    "This function should take in two values - `base` can be a float or an integer; `exp` will be an integer $\\geq 0$. It should return one numerical value. Your code must be recursive - use of the `**` operator or looping constructs is not allowed."
   ]
  },
  {
   "cell_type": "code",
   "execution_count": null,
   "metadata": {},
   "outputs": [],
   "source": [
    "def recurPower(base, exp):\n",
    "    '''\n",
    "    base: int or float.\n",
    "    exp: int >= 0\n",
    " \n",
    "    returns: int or float, base^exp\n",
    "    '''\n",
    "    if exp == 0:\n",
    "        return 1\n",
    "\n",
    "    return base * recurPower(base, exp - 1)"
   ]
  }
 ],
 "metadata": {
  "language_info": {
   "name": "python"
  }
 },
 "nbformat": 4,
 "nbformat_minor": 2
}
