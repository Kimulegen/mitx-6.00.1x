{
 "cells": [
  {
   "cell_type": "markdown",
   "metadata": {},
   "source": [
    "The greatest common divisor of two positive integers is the largest integer that divides each of them without remainder. For example,\n",
    "\n",
    "- gcd(2, 12) = 2\n",
    "\n",
    "- gcd(6, 12) = 6\n",
    "\n",
    "- gcd(9, 12) = 3\n",
    "\n",
    "- gcd(17, 12) = 1\n",
    "\n",
    "Write an iterative function, `gcdIter(a, b)`, that implements this idea. One easy way to do this is to begin with a test value equal to the smaller of the two input arguments, and iteratively reduce this test value by 1 until you either reach a case where the test divides both `a` and `b` without remainder, or you reach 1."
   ]
  },
  {
   "cell_type": "code",
   "execution_count": null,
   "metadata": {},
   "outputs": [],
   "source": [
    "def gcdIter(a, b):\n",
    "    '''\n",
    "    a, b: positive integers\n",
    "    \n",
    "    returns: a positive integer, the greatest common divisor of a & b.\n",
    "    '''\n",
    "    # Your code here\n",
    "    gcd = min(a, b)\n",
    "\n",
    "    while gcd >= 1:\n",
    "        if a % gcd == 0 and b % gcd == 0:\n",
    "            return gcd\n",
    "        gcd -= 1"
   ]
  }
 ],
 "metadata": {
  "language_info": {
   "name": "python"
  }
 },
 "nbformat": 4,
 "nbformat_minor": 2
}
