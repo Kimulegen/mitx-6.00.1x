{
 "cells": [
  {
   "cell_type": "markdown",
   "metadata": {},
   "source": [
    "As we'll see in subsequent lectures, everything in Python is an _object_. Objects are special because we can associate special functions, referred to as _object methods_, with the object. In this problem you'll be working with string objects, and their built-in methods.\n",
    "\n",
    "A complete description of the methods available to string objects can be found in the [Python library reference on string methods](http://docs.python.org/library/stdtypes.html#string-methods).\n",
    "\n",
    "In this exercise, we want you to get some experience in using methods as functions. The convention for object methods is to use the \"dot\" notation, so that if **s** is a string, evaluating **s.upper** will return the actual function, and evaluating **s.upper()** will cause the function itself to be evaluated (in this case it returns a new string, since strings are immutable) with every character now in upper case. An example of this follows:\n",
    "\n",
    "```\n",
    ">>> s = 'abc'\n",
    ">>> s.capitalize\n",
    "<built-in method capitalize of str object at 0x104c35878>\n",
    ">>> s.capitalize()\n",
    "'Abc'\n",
    "```\n",
    "\n",
    "For each of the expressions in this problem, specify its type and value. If it generates an error, select type 'NoneType' and put the word 'error' in the box for the value. If it would be a function, select type 'function' and put the word 'function' in the box for the value.\n",
    "\n",
    "Assume we've made the following assignments:\n",
    "\n",
    "```\n",
    "> str1 = 'exterminate!' \n",
    "> str2 = 'number one - the larch'\n",
    "```\n",
    "\n",
    "Assume that the expressions are evaluated in the order shown - that is, each problem part is evaluated directly after the previous problem part(s)."
   ]
  },
  {
   "cell_type": "markdown",
   "metadata": {},
   "source": [
    "1. `str1.upper`\n",
    "<div>\n",
    "    <input type=\"text\" placeholder=\"function\" style=\"display:block\">\n",
    "    <input type=\"text\" placeholder=\"function\" style=\"display:block\">\n",
    "</div>"
   ]
  },
  {
   "cell_type": "markdown",
   "metadata": {},
   "source": [
    "2. `str1.upper()`\n",
    "<div>\n",
    "    <input type=\"text\" placeholder=\"string\" style=\"display:block\">\n",
    "    <input type=\"text\" placeholder=\"EXTERMINATE!\" style=\"display:block\">\n",
    "</div>\n"
   ]
  },
  {
   "cell_type": "markdown",
   "metadata": {},
   "source": [
    "3. `str1`\n",
    "<div>\n",
    "    <input type=\"text\" placeholder=\"string\" style=\"display:block\">\n",
    "    <input type=\"text\" placeholder=\"exterminate!\" style=\"display:block\">\n",
    "</div>"
   ]
  },
  {
   "cell_type": "markdown",
   "metadata": {},
   "source": [
    "4. `str1.isupper()`\n",
    "<div>\n",
    "    <input type=\"text\" placeholder=\"boolean\" style=\"display:block\">\n",
    "    <input type=\"text\" placeholder=\"False\" style=\"display:block\">\n",
    "</div>"
   ]
  },
  {
   "cell_type": "markdown",
   "metadata": {},
   "source": [
    "5. `str1.islower()`\n",
    "<div>\n",
    "    <input type=\"text\" placeholder=\"boolean\" style=\"display:block\">\n",
    "    <input type=\"text\" placeholder=\"True\" style=\"display:block\">\n",
    "</div>"
   ]
  },
  {
   "cell_type": "markdown",
   "metadata": {},
   "source": [
    "6. `str2 = str2.capitalize()`\n",
    "\n",
    "<code style=\"margin:0 30px\">str2</code>\n",
    "<div  style=\"margin:0 30px\">\n",
    "    <input type=\"text\" placeholder=\"string\" style=\"display:block\">\n",
    "    <input type=\"text\" placeholder=\"Number one - the larch\" style=\"display:block\">\n",
    "</div>"
   ]
  },
  {
   "cell_type": "markdown",
   "metadata": {},
   "source": [
    "7. `str2.swapcase()`\n",
    "<div>\n",
    "    <input type=\"text\" placeholder=\"string\" style=\"display:block\">\n",
    "    <input type=\"text\" placeholder=\"nUMBER ONE - THE LARCH\" style=\"display:block\">\n",
    "</div>"
   ]
  },
  {
   "cell_type": "markdown",
   "metadata": {},
   "source": [
    "8. `str1.index('e')`\n",
    "<div>\n",
    "    <input type=\"text\" placeholder=\"int\" style=\"display:block\">\n",
    "    <input type=\"text\" placeholder=\"0\" style=\"display:block\">\n",
    "</div>"
   ]
  },
  {
   "cell_type": "markdown",
   "metadata": {},
   "source": [
    "9. `str2.index('n')`\n",
    "<div>\n",
    "    <input type=\"text\" placeholder=\"int\" style=\"display:block\">\n",
    "    <input type=\"text\" placeholder=\"8\" style=\"display:block\">\n",
    "</div>"
   ]
  },
  {
   "cell_type": "markdown",
   "metadata": {},
   "source": [
    "10. `str2.find('n')`\n",
    "<div>\n",
    "    <input type=\"text\" placeholder=\"int\" style=\"display:block\">\n",
    "    <input type=\"text\" placeholder=\"8\" style=\"display:block\">\n",
    "</div>"
   ]
  },
  {
   "cell_type": "markdown",
   "metadata": {},
   "source": [
    "11. `str2.index('!')`\n",
    "<div>\n",
    "    <input type=\"text\" placeholder=\"NoneType\" style=\"display:block\">\n",
    "    <input type=\"text\" placeholder=\"error\" style=\"display:block\">\n",
    "</div>"
   ]
  },
  {
   "cell_type": "markdown",
   "metadata": {},
   "source": [
    "12. `str2.find('!')`\n",
    "<div>\n",
    "    <input type=\"text\" placeholder=\"int\" style=\"display:block\">\n",
    "    <input type=\"text\" placeholder=\"-1\" style=\"display:block\">\n",
    "    <br>\n",
    "    Note: Be sure to make note of the difference between the find and index string methods...\n",
    "</div>"
   ]
  },
  {
   "cell_type": "markdown",
   "metadata": {},
   "source": [
    "13. `str1.count('e')`\n",
    "<div>\n",
    "    <input type=\"text\" placeholder=\"int\" style=\"display:block\">\n",
    "    <input type=\"text\" placeholder=\"3\" style=\"display:block\">\n",
    "</div>"
   ]
  },
  {
   "cell_type": "markdown",
   "metadata": {},
   "source": [
    "14. `str1 = str1.replace('e', '*')`\n",
    "\n",
    "<code style=\"margin:0 30px\">str1</code>\n",
    "<div style=\"margin:0 30px\">\n",
    "    <input type=\"text\" placeholder=\"string\" style=\"display:block\">\n",
    "    <input type=\"text\" placeholder=\"*xt*rminat*!\" style=\"display:block\">\n",
    "</div>"
   ]
  },
  {
   "cell_type": "markdown",
   "metadata": {},
   "source": [
    "15. `str2.replace('one', 'seven')`\n",
    "<div>\n",
    "    <input type=\"text\" placeholder=\"string\" style=\"display:block\">\n",
    "    <input type=\"text\" placeholder=\"Number seven - the larch\" style=\"display:block\">\n",
    "</div>"
   ]
  }
 ],
 "metadata": {
  "kernelspec": {
   "display_name": "Python 3 (ipykernel)",
   "language": "python",
   "name": "python3"
  },
  "language_info": {
   "codemirror_mode": {
    "name": "ipython",
    "version": 3
   },
   "file_extension": ".py",
   "mimetype": "text/x-python",
   "name": "python",
   "nbconvert_exporter": "python",
   "pygments_lexer": "ipython3",
   "version": "3.11.7"
  }
 },
 "nbformat": 4,
 "nbformat_minor": 4
}
