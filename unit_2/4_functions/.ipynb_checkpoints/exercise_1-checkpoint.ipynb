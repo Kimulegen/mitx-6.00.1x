{
 "cells": [
  {
   "cell_type": "markdown",
   "metadata": {},
   "source": [
    "For each of the following functions, specify the type of its return. You can assume each function is called with an appropriate argument, as specified by its docstring.\n",
    "\n",
    "If the output can be either an int or a float, select num, which isn't a real Python type, but which we'll use to indicate that either basic numeric type is legal.\n",
    "\n",
    "In fact, in Python, booleans True and False can be operated on as if they were the integers 1 and 0; but it is ugly and confusing to take advantage of this fact, and we will resolutely pretend that it isn't true."
   ]
  },
  {
   "cell_type": "markdown",
   "metadata": {},
   "source": [
    "```python\n",
    "def a(x):\n",
    "   '''\n",
    "   x: int or float.\n",
    "   '''\n",
    "   return x + 1\n",
    "```\n",
    "<div>\n",
    "   <p>Indicate the type of the output that the function <code>a</code> will yield.</p>\n",
    "   <input type=\"text\" placeholder=\"num\">\n",
    "</div>"
   ]
  },
  {
   "cell_type": "markdown",
   "metadata": {},
   "source": [
    "---"
   ]
  },
  {
   "cell_type": "markdown",
   "metadata": {},
   "source": [
    "```python\n",
    "def b(x):\n",
    "   '''\n",
    "   x: int or float.\n",
    "   '''\n",
    "   return x + 1.0\n",
    "```\n",
    "<div>\n",
    "   <p>Indicate the type of the output that the function <code>b</code> will yield.</p>\n",
    "   <input type=\"text\" placeholder=\"float\">\n",
    "</div>"
   ]
  },
  {
   "cell_type": "markdown",
   "metadata": {},
   "source": [
    "---"
   ]
  },
  {
   "cell_type": "markdown",
   "metadata": {},
   "source": [
    "```python\n",
    "def c(x, y):\n",
    "   '''\n",
    "   x: int or float. \n",
    "   y: int or float.\n",
    "   '''\n",
    "   return x + y\n",
    "```\n",
    "<div>\n",
    "   <p>Indicate the type of the output that the function <code>c</code> will yield.</p>\n",
    "   <input type=\"text\" placeholder=\"num\">\n",
    "</div>"
   ]
  },
  {
   "cell_type": "markdown",
   "metadata": {},
   "source": [
    "---"
   ]
  },
  {
   "cell_type": "markdown",
   "metadata": {},
   "source": [
    "```python\n",
    "def d(x, y):\n",
    "   '''\n",
    "   x: Can be int or float.\n",
    "   y: Can be int or float.\n",
    "   '''\n",
    "   return x > y\n",
    "```\n",
    "<div>\n",
    "   <p>Indicate the type of the output that the function <code>d</code> will yield.</p>\n",
    "   <input type=\"text\" placeholder=\"boolean\">\n",
    "</div>"
   ]
  },
  {
   "cell_type": "markdown",
   "metadata": {},
   "source": [
    "---"
   ]
  },
  {
   "cell_type": "markdown",
   "metadata": {},
   "source": [
    "```python\n",
    "def e(x, y, z):\n",
    "   '''\n",
    "   x: Can be int or float.\n",
    "   y: Can be int or float.\n",
    "   z: Can be int or float.\n",
    "   '''\n",
    "   return x >= y and x <= z\n",
    "```\n",
    "<div>\n",
    "   <p>Indicate the type of the output that the function <code>e</code> will yield.</p>\n",
    "   <input type=\"text\" placeholder=\"boolean\">\n",
    "</div>"
   ]
  },
  {
   "cell_type": "markdown",
   "metadata": {},
   "source": [
    "---"
   ]
  },
  {
   "cell_type": "markdown",
   "metadata": {},
   "source": [
    "```python\n",
    "def f(x, y):\n",
    "   '''\n",
    "   x: int or float.\n",
    "   y: int or float\n",
    "   '''\n",
    "   x + y - 2\n",
    "```\n",
    "<div>\n",
    "   <p>Indicate the type of the output that the function <code>f</code> will yield.</p>\n",
    "   <input type=\"text\" placeholder=\"NoneType\">\n",
    "</div>"
   ]
  }
 ],
 "metadata": {
  "kernelspec": {
   "display_name": "Python 3 (ipykernel)",
   "language": "python",
   "name": "python3"
  },
  "language_info": {
   "codemirror_mode": {
    "name": "ipython",
    "version": 3
   },
   "file_extension": ".py",
   "mimetype": "text/x-python",
   "name": "python",
   "nbconvert_exporter": "python",
   "pygments_lexer": "ipython3",
   "version": "3.11.7"
  }
 },
 "nbformat": 4,
 "nbformat_minor": 4
}
