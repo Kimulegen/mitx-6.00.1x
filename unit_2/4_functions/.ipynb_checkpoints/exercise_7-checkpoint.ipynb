{
 "cells": [
  {
   "cell_type": "markdown",
   "metadata": {},
   "source": [
    "Assume the two files below are in the same folder. You run inventory.py. What happens?\n",
    "\n",
    "**TWO FILES**"
   ]
  },
  {
   "cell_type": "code",
   "execution_count": null,
   "metadata": {},
   "outputs": [],
   "source": [
    "# batteries.py\n",
    "aa = \"AA\"\n",
    "aaa = \"AAA\"\n",
    "c = \"C\"\n",
    "d = \"D\" \n",
    "\n",
    "# inventory.py\n",
    "aa = \"aa\"\n",
    "tripleA = \"aaa\"\n",
    "print(aa)"
   ]
  },
  {
   "cell_type": "markdown",
   "metadata": {},
   "source": [
    "<div style=\"margin-top:20px\">\n",
    "    <fieldset style=\"margin:10px 0;padding:8px\">\n",
    "        <input type=\"checkbox\" name=\"question\" checked />\n",
    "        prints <code>aa</code>\n",
    "    </fieldset>\n",
    "    <fieldset style=\"margin:10px 0;padding:8px\">\n",
    "        <input type=\"checkbox\" name=\"question\" unchecked/> \n",
    "        prints <code>AA</code>\n",
    "    </fieldset>\n",
    "    <fieldset style=\"margin:10px 0;padding:8px\">\n",
    "        <input type=\"checkbox\" name=\"question\" unchecked/> \n",
    "        There is an error\n",
    "    </fieldset>\n",
    "</div>"
   ]
  },
  {
   "cell_type": "markdown",
   "metadata": {},
   "source": [
    "---"
   ]
  },
  {
   "cell_type": "markdown",
   "metadata": {},
   "source": [
    "Assume the two files below are in the same folder. You run inventory.py. What happens?\n",
    "\n",
    "**TWO FILES**"
   ]
  },
  {
   "cell_type": "code",
   "execution_count": null,
   "metadata": {},
   "outputs": [],
   "source": [
    "# batteries.py\n",
    "aa = \"AA\"\n",
    "aaa = \"AAA\"\n",
    "c = \"C\"\n",
    "d = \"D\"  \n",
    "\n",
    "# inventory.py\n",
    "aa = \"aa\"\n",
    "tripleA = \"aaa\"\n",
    "print(batteries.aa)"
   ]
  },
  {
   "cell_type": "markdown",
   "metadata": {},
   "source": [
    "<div style=\"margin-top:20px\">\n",
    "    <fieldset style=\"margin:10px 0;padding:8px\">\n",
    "        <input type=\"checkbox\" name=\"question\" unchecked />\n",
    "        prints <code>aa</code>\n",
    "    </fieldset>\n",
    "    <fieldset style=\"margin:10px 0;padding:8px\">\n",
    "        <input type=\"checkbox\" name=\"question\" unchecked/> \n",
    "        prints <code>AA</code>\n",
    "    </fieldset>\n",
    "    <fieldset style=\"margin:10px 0;padding:8px\">\n",
    "        <input type=\"checkbox\" name=\"question\" checked/> \n",
    "        There is an error\n",
    "    </fieldset>\n",
    "</div>"
   ]
  },
  {
   "cell_type": "markdown",
   "metadata": {},
   "source": [
    "---"
   ]
  },
  {
   "cell_type": "markdown",
   "metadata": {},
   "source": [
    "Assume the two files below are in the same folder. You run inventory.py. What happens?\n",
    "\n",
    "**TWO FILES**"
   ]
  },
  {
   "cell_type": "code",
   "execution_count": null,
   "metadata": {},
   "outputs": [],
   "source": [
    "# batteries.py\n",
    "aa = \"AA\"\n",
    "aaa = \"AAA\"\n",
    "c = \"C\"\n",
    "d = \"D\" \n",
    "\n",
    "# inventory.py\n",
    "import batteries\n",
    "aa = \"aa\"\n",
    "tripleA = \"aaa\"\n",
    "print(batteries.aa)"
   ]
  },
  {
   "cell_type": "markdown",
   "metadata": {},
   "source": [
    "<div style=\"margin-top:20px\">\n",
    "    <fieldset style=\"margin:10px 0;padding:8px\">\n",
    "        <input type=\"checkbox\" name=\"question\" unchecked />\n",
    "        prints <code>aa</code>\n",
    "    </fieldset>\n",
    "    <fieldset style=\"margin:10px 0;padding:8px\">\n",
    "        <input type=\"checkbox\" name=\"question\" checked/> \n",
    "        prints <code>AA</code>\n",
    "    </fieldset>\n",
    "    <fieldset style=\"margin:10px 0;padding:8px\">\n",
    "        <input type=\"checkbox\" name=\"question\" unchecked/> \n",
    "        There is an error\n",
    "    </fieldset>\n",
    "</div>"
   ]
  },
  {
   "cell_type": "markdown",
   "metadata": {},
   "source": [
    "---"
   ]
  },
  {
   "cell_type": "markdown",
   "metadata": {},
   "source": [
    "Assume the two files below are in the same folder. You run inventory.py. What happens?\n",
    "\n",
    "**TWO FILES**"
   ]
  },
  {
   "cell_type": "code",
   "execution_count": null,
   "metadata": {},
   "outputs": [],
   "source": [
    "# batteries.py\n",
    "aa = \"AA\"\n",
    "aaa = \"AAA\"\n",
    "c = \"C\"\n",
    "d = \"D\" \n",
    "\n",
    "# inventory.py\n",
    "from batteries import *\n",
    "aa = \"aa\"\n",
    "print(aa, aaa, c, d)"
   ]
  },
  {
   "cell_type": "markdown",
   "metadata": {},
   "source": [
    "<div style=\"margin-top:20px\">\n",
    "    <fieldset style=\"margin:10px 0;padding:8px\">\n",
    "        <input type=\"checkbox\" name=\"question\" unchecked />\n",
    "        prints <code>AA AAA C D</code>\n",
    "    </fieldset>\n",
    "    <fieldset style=\"margin:10px 0;padding:8px\">\n",
    "        <input type=\"checkbox\" name=\"question\" unchecked/> \n",
    "        prints <code>aa aaa c d</code>\n",
    "    </fieldset>\n",
    "    <fieldset style=\"margin:10px 0;padding:8px\">\n",
    "        <input type=\"checkbox\" name=\"question\" checked/> \n",
    "        prints <code>aa AAA C D</code>\n",
    "    </fieldset>\n",
    "    <fieldset style=\"margin:10px 0;padding:8px\">\n",
    "        <input type=\"checkbox\" name=\"question\" unchecked/> \n",
    "        There is an error\n",
    "    </fieldset>\n",
    "</div>"
   ]
  }
 ],
 "metadata": {
  "kernelspec": {
   "display_name": "Python 3 (ipykernel)",
   "language": "python",
   "name": "python3"
  },
  "language_info": {
   "codemirror_mode": {
    "name": "ipython",
    "version": 3
   },
   "file_extension": ".py",
   "mimetype": "text/x-python",
   "name": "python",
   "nbconvert_exporter": "python",
   "pygments_lexer": "ipython3",
   "version": "3.11.7"
  }
 },
 "nbformat": 4,
 "nbformat_minor": 4
}
