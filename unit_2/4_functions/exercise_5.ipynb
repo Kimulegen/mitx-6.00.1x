{
 "cells": [
  {
   "cell_type": "markdown",
   "metadata": {},
   "source": [
    "Enter the value of the expressions below.\n",
    "\n",
    "To get the most out of this problem, try to figure out the answers by reading the code, not running it. Run the code only after you've used up a few of your checks.\n",
    "\n",
    "**Hint**: If you are confused, you may find it helpful to draw out an environment diagram similar to what was presented in lecture."
   ]
  },
  {
   "cell_type": "markdown",
   "metadata": {},
   "source": [
    "```python\n",
    "def foo(x, y = 5):\n",
    "   def bar(x):\n",
    "      return x + 1\n",
    "   return bar(y * 2)\n",
    "          \n",
    "foo(3)\n",
    "```\n",
    "<div style=\"margin-bottom:40px\">\n",
    "    <input type=\"text\" placeholder=\"11\">\n",
    "</div>\n",
    "\n",
    "---\n",
    "\n",
    "```python\n",
    "def foo(x, y = 5):\n",
    "   def bar(x):\n",
    "      return x + 1\n",
    "   return bar(y * 2)\n",
    "          \n",
    "foo(3, 0)\n",
    "```\n",
    "<div style=\"margin-bottom:40px\">\n",
    "    <input type=\"text\" placeholder=\"1\">\n",
    "</div>\n",
    "\n",
    "---\n",
    "\n",
    "```python\n",
    "def foo (x):\n",
    "   def bar (z, x = 0):\n",
    "      return z + x\n",
    "   return bar(3, x)\n",
    "\n",
    "foo(2)\n",
    "```\n",
    "<div style=\"margin-bottom:40px\">\n",
    "    <input type=\"text\" placeholder=\"5\">\n",
    "</div>\n",
    "\n",
    "---\n",
    "\n",
    "```python\n",
    "def foo (x):\n",
    "   def bar (z, x = 0):\n",
    "      return z + x\n",
    "   return bar(3)\n",
    "\n",
    "foo(5)\n",
    "```\n",
    "<div style=\"margin-bottom:40px\">\n",
    "    <input type=\"text\" placeholder=\"3\">\n",
    "</div>"
   ]
  }
 ],
 "metadata": {
  "language_info": {
   "name": "python"
  }
 },
 "nbformat": 4,
 "nbformat_minor": 2
}
